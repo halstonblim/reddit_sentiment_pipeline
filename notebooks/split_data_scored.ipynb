{
 "cells": [
  {
   "cell_type": "markdown",
   "id": "e94d29a3-2c94-4131-b951-8604613cdd63",
   "metadata": {},
   "source": [
    "Split daily Reddit Parquet shards by subreddit and re-upload."
   ]
  },
  {
   "cell_type": "code",
   "execution_count": 7,
   "id": "ccdb349a-bfeb-428b-a2be-fa8da62ad644",
   "metadata": {
    "execution": {
     "iopub.execute_input": "2025-06-05T20:35:51.119431Z",
     "iopub.status.busy": "2025-06-05T20:35:51.117431Z",
     "iopub.status.idle": "2025-06-05T20:35:54.082300Z",
     "shell.execute_reply": "2025-06-05T20:35:54.082300Z",
     "shell.execute_reply.started": "2025-06-05T20:35:51.119431Z"
    }
   },
   "outputs": [
    {
     "name": "stdout",
     "output_type": "stream",
     "text": [
      "Requirement already satisfied: huggingface_hub in c:\\users\\halst\\miniconda3\\envs\\reddit\\lib\\site-packages (0.30.2)\n",
      "Collecting huggingface_hub\n",
      "  Downloading huggingface_hub-0.32.4-py3-none-any.whl.metadata (14 kB)\n",
      "Requirement already satisfied: filelock in c:\\users\\halst\\miniconda3\\envs\\reddit\\lib\\site-packages (from huggingface_hub) (3.13.1)\n",
      "Requirement already satisfied: fsspec>=2023.5.0 in c:\\users\\halst\\miniconda3\\envs\\reddit\\lib\\site-packages (from huggingface_hub) (2024.6.1)\n",
      "Requirement already satisfied: packaging>=20.9 in c:\\users\\halst\\miniconda3\\envs\\reddit\\lib\\site-packages (from huggingface_hub) (24.2)\n",
      "Requirement already satisfied: pyyaml>=5.1 in c:\\users\\halst\\miniconda3\\envs\\reddit\\lib\\site-packages (from huggingface_hub) (6.0.2)\n",
      "Requirement already satisfied: requests in c:\\users\\halst\\miniconda3\\envs\\reddit\\lib\\site-packages (from huggingface_hub) (2.32.3)\n",
      "Requirement already satisfied: tqdm>=4.42.1 in c:\\users\\halst\\miniconda3\\envs\\reddit\\lib\\site-packages (from huggingface_hub) (4.67.1)\n",
      "Requirement already satisfied: typing-extensions>=3.7.4.3 in c:\\users\\halst\\miniconda3\\envs\\reddit\\lib\\site-packages (from huggingface_hub) (4.12.2)\n",
      "Requirement already satisfied: colorama in c:\\users\\halst\\miniconda3\\envs\\reddit\\lib\\site-packages (from tqdm>=4.42.1->huggingface_hub) (0.4.6)\n",
      "Requirement already satisfied: charset-normalizer<4,>=2 in c:\\users\\halst\\miniconda3\\envs\\reddit\\lib\\site-packages (from requests->huggingface_hub) (3.4.1)\n",
      "Requirement already satisfied: idna<4,>=2.5 in c:\\users\\halst\\miniconda3\\envs\\reddit\\lib\\site-packages (from requests->huggingface_hub) (3.10)\n",
      "Requirement already satisfied: urllib3<3,>=1.21.1 in c:\\users\\halst\\miniconda3\\envs\\reddit\\lib\\site-packages (from requests->huggingface_hub) (2.4.0)\n",
      "Requirement already satisfied: certifi>=2017.4.17 in c:\\users\\halst\\miniconda3\\envs\\reddit\\lib\\site-packages (from requests->huggingface_hub) (2025.1.31)\n",
      "Downloading huggingface_hub-0.32.4-py3-none-any.whl (512 kB)\n",
      "Installing collected packages: huggingface_hub\n",
      "  Attempting uninstall: huggingface_hub\n",
      "    Found existing installation: huggingface-hub 0.30.2\n",
      "    Uninstalling huggingface-hub-0.30.2:\n",
      "      Successfully uninstalled huggingface-hub-0.30.2\n",
      "Successfully installed huggingface_hub-0.32.4\n"
     ]
    }
   ],
   "source": [
    "!pip install -q pyarrow fastparquet\n",
    "!pip install -U huggingface_hub"
   ]
  },
  {
   "cell_type": "code",
   "execution_count": 11,
   "id": "8fe6bfff-770f-4237-868b-10099ab9468c",
   "metadata": {
    "execution": {
     "iopub.execute_input": "2025-06-05T20:41:40.658262Z",
     "iopub.status.busy": "2025-06-05T20:41:40.658262Z",
     "iopub.status.idle": "2025-06-05T20:41:40.667028Z",
     "shell.execute_reply": "2025-06-05T20:41:40.667028Z",
     "shell.execute_reply.started": "2025-06-05T20:41:40.658262Z"
    }
   },
   "outputs": [
    {
     "data": {
      "text/plain": [
       "True"
      ]
     },
     "execution_count": 11,
     "metadata": {},
     "output_type": "execute_result"
    }
   ],
   "source": [
    "from __future__ import annotations\n",
    "\n",
    "import os\n",
    "import re\n",
    "import shutil\n",
    "import tempfile\n",
    "from pathlib import Path\n",
    "from typing import Iterable\n",
    "\n",
    "import pandas as pd\n",
    "from huggingface_hub import HfApi, hf_hub_download, CommitOperationAdd\n",
    "from tqdm.auto import tqdm\n",
    "\n",
    "from dotenv import load_dotenv\n",
    "\n",
    "load_dotenv()"
   ]
  },
  {
   "cell_type": "code",
   "execution_count": 12,
   "id": "3fb82f27-d6ee-4f18-b2eb-86edcdc505db",
   "metadata": {
    "execution": {
     "iopub.execute_input": "2025-06-05T20:41:41.607705Z",
     "iopub.status.busy": "2025-06-05T20:41:41.607705Z",
     "iopub.status.idle": "2025-06-05T20:41:41.625213Z",
     "shell.execute_reply": "2025-06-05T20:41:41.625213Z",
     "shell.execute_reply.started": "2025-06-05T20:41:41.607705Z"
    }
   },
   "outputs": [],
   "source": [
    "def _sanitize(name: str) -> str:\n",
    "    \"\"\"\n",
    "    Make subreddit safe for filenames (removes slashes, spaces, etc.).\n",
    "    \"\"\"\n",
    "    name = name.strip().lower()\n",
    "    name = re.sub(r\"[^\\w\\-\\.]\", \"_\", name)  # keep letters, numbers, _, -, .\n",
    "    return name\n",
    "    \n",
    "def split_and_upload_by_subreddit(\n",
    "    repo_id: str = \"hblim/top_reddit_posts_daily\",\n",
    "    source_folder: str = \"data_scored\",\n",
    "    target_folder: str = \"data_scored_subreddit\",\n",
    "    overwrite: bool = False,\n",
    "    batch_size: int = 20,\n",
    "    token: str | None = None,\n",
    ") -> None:\n",
    "    \"\"\"\n",
    "    For every Parquet in `source_folder`, create one Parquet per subreddit\n",
    "    and upload to `target_folder`.\n",
    "\n",
    "    Parameters\n",
    "    ----------\n",
    "    repo_id : str\n",
    "        Hugging Face dataset repo id.\n",
    "    source_folder : str\n",
    "        Folder that already contains the daily Parquet files.\n",
    "    target_folder : str\n",
    "        New folder to hold subreddit-level Parquet shards.\n",
    "    overwrite : bool\n",
    "        Re-process / re-upload even if the target file already exists.\n",
    "    batch_size : int\n",
    "        Upload this many files per commit (reduces commit spam).\n",
    "    token : str | None\n",
    "        HF token; if None, uses the one stored by `huggingface-cli login`.\n",
    "    \"\"\"\n",
    "    api = HfApi(token=token)\n",
    "\n",
    "    # 1. discover daily Parquet files in the repo\n",
    "    files_in_repo: Iterable[str] = api.list_repo_files(repo_id, repo_type=\"dataset\")\n",
    "    daily_files = sorted(\n",
    "        f for f in files_in_repo if f.startswith(source_folder) and f.endswith(\".parquet\")\n",
    "    )\n",
    "    if not daily_files:\n",
    "        raise RuntimeError(f\"No Parquet files found in {source_folder}\")\n",
    "\n",
    "    print(f\"Found {len(daily_files)} daily shards in {source_folder}\")\n",
    "\n",
    "    with tempfile.TemporaryDirectory() as tmp_dir:\n",
    "        tmp_dir = Path(tmp_dir)\n",
    "\n",
    "        upload_queue: list[tuple[Path, str]] = []\n",
    "        pbar = tqdm(daily_files, desc=\"processing days\", unit=\"file\")\n",
    "\n",
    "        for remote_path in pbar:\n",
    "            file_date = Path(remote_path).stem  # e.g. 2025-05-31\n",
    "            local_path = hf_hub_download(\n",
    "                repo_id=repo_id,\n",
    "                filename=remote_path,\n",
    "                repo_type=\"dataset\",\n",
    "                cache_dir=tmp_dir,  # keep inside temp dir\n",
    "            )\n",
    "            df = pd.read_parquet(local_path)\n",
    "\n",
    "            # 2. split by subreddit\n",
    "            for subreddit, sub_df in df.groupby(\"subreddit\", sort=False):\n",
    "                safe_sub = _sanitize(subreddit)\n",
    "                out_fname = f\"{file_date}__{safe_sub}.parquet\"\n",
    "                out_repo_path = f\"{target_folder}/{out_fname}\"\n",
    "\n",
    "                # skip if already in repo and not overwriting\n",
    "                if not overwrite and out_repo_path in files_in_repo:\n",
    "                    continue\n",
    "\n",
    "                out_local = tmp_dir / out_fname\n",
    "                sub_df.to_parquet(out_local, index=False)\n",
    "                upload_queue.append((out_local, out_repo_path))\n",
    "\n",
    "            # upload in batches to reduce commit churn\n",
    "            if len(upload_queue) >= batch_size:\n",
    "                _flush_upload_queue(api, repo_id, upload_queue)\n",
    "                upload_queue.clear()\n",
    "\n",
    "        # flush any leftovers\n",
    "        if upload_queue:\n",
    "            _flush_upload_queue(api, repo_id, upload_queue)\n",
    "\n",
    "    print(\"✅ Done – all subreddit shards uploaded.\")\n",
    "\n",
    "\n",
    "def _flush_upload_queue(api: HfApi, repo_id: str,\n",
    "                        queue: list[tuple[Path, str]]) -> None:\n",
    "    \"\"\"Upload a batch of files in one commit (works on ≥0.28).\"\"\"\n",
    "    if not queue:\n",
    "        return\n",
    "\n",
    "    ops = [\n",
    "        CommitOperationAdd(\n",
    "            path_in_repo=dst,         # where the file will live in the repo\n",
    "            path_or_fileobj=str(src)  # local temp file\n",
    "        )\n",
    "        for src, dst in queue\n",
    "    ]\n",
    "\n",
    "    api.create_commit(\n",
    "        repo_id=repo_id,\n",
    "        repo_type=\"dataset\",\n",
    "        operations=ops,\n",
    "        commit_message=f\"Add {len(queue)} subreddit parquet file(s)\",\n",
    "    )"
   ]
  },
  {
   "cell_type": "code",
   "execution_count": 13,
   "id": "d8f29912-98b1-4e37-bff5-f3cfff2170d3",
   "metadata": {
    "execution": {
     "iopub.execute_input": "2025-06-05T20:41:42.177374Z",
     "iopub.status.busy": "2025-06-05T20:41:42.177374Z",
     "iopub.status.idle": "2025-06-05T20:42:06.076189Z",
     "shell.execute_reply": "2025-06-05T20:42:06.075678Z",
     "shell.execute_reply.started": "2025-06-05T20:41:42.177374Z"
    },
    "scrolled": true
   },
   "outputs": [
    {
     "name": "stdout",
     "output_type": "stream",
     "text": [
      "Found 35 daily shards in data_scored\n"
     ]
    },
    {
     "data": {
      "application/vnd.jupyter.widget-view+json": {
       "model_id": "68642a82f2ef41c6b663a455d3781374",
       "version_major": 2,
       "version_minor": 0
      },
      "text/plain": [
       "processing days:   0%|          | 0/35 [00:00<?, ?file/s]"
      ]
     },
     "metadata": {},
     "output_type": "display_data"
    },
    {
     "data": {
      "application/vnd.jupyter.widget-view+json": {
       "model_id": "1961d119f4254c6a9f4af4139b0dbda5",
       "version_major": 2,
       "version_minor": 0
      },
      "text/plain": [
       "2025-05-01.parquet:   0%|          | 0.00/271k [00:00<?, ?B/s]"
      ]
     },
     "metadata": {},
     "output_type": "display_data"
    },
    {
     "data": {
      "application/vnd.jupyter.widget-view+json": {
       "model_id": "a5bfdcb06e4541698ede37f5bf845662",
       "version_major": 2,
       "version_minor": 0
      },
      "text/plain": [
       "2025-05-02.parquet:   0%|          | 0.00/202k [00:00<?, ?B/s]"
      ]
     },
     "metadata": {},
     "output_type": "display_data"
    },
    {
     "data": {
      "application/vnd.jupyter.widget-view+json": {
       "model_id": "75929f953cef4b1d949471a9b887fa64",
       "version_major": 2,
       "version_minor": 0
      },
      "text/plain": [
       "2025-05-03.parquet:   0%|          | 0.00/231k [00:00<?, ?B/s]"
      ]
     },
     "metadata": {},
     "output_type": "display_data"
    },
    {
     "data": {
      "application/vnd.jupyter.widget-view+json": {
       "model_id": "64947704c3954ddca1e181a905da4ddd",
       "version_major": 2,
       "version_minor": 0
      },
      "text/plain": [
       "2025-05-04.parquet:   0%|          | 0.00/195k [00:00<?, ?B/s]"
      ]
     },
     "metadata": {},
     "output_type": "display_data"
    },
    {
     "data": {
      "application/vnd.jupyter.widget-view+json": {
       "model_id": "edf2c664cfd2445f8fdca3eb6c0ee1fb",
       "version_major": 2,
       "version_minor": 0
      },
      "text/plain": [
       "2025-05-05.parquet:   0%|          | 0.00/225k [00:00<?, ?B/s]"
      ]
     },
     "metadata": {},
     "output_type": "display_data"
    },
    {
     "data": {
      "application/vnd.jupyter.widget-view+json": {
       "model_id": "a46c2e19563045fd8230a10dec756890",
       "version_major": 2,
       "version_minor": 0
      },
      "text/plain": [
       "2025-05-06.parquet:   0%|          | 0.00/225k [00:00<?, ?B/s]"
      ]
     },
     "metadata": {},
     "output_type": "display_data"
    },
    {
     "data": {
      "application/vnd.jupyter.widget-view+json": {
       "model_id": "fe0f07d515e0455391b0a0661196df87",
       "version_major": 2,
       "version_minor": 0
      },
      "text/plain": [
       "2025-05-07.parquet:   0%|          | 0.00/188k [00:00<?, ?B/s]"
      ]
     },
     "metadata": {},
     "output_type": "display_data"
    },
    {
     "data": {
      "application/vnd.jupyter.widget-view+json": {
       "model_id": "ade879eedd8a4016a44da6a5b8caf631",
       "version_major": 2,
       "version_minor": 0
      },
      "text/plain": [
       "2025-05-08.parquet:   0%|          | 0.00/228k [00:00<?, ?B/s]"
      ]
     },
     "metadata": {},
     "output_type": "display_data"
    },
    {
     "data": {
      "application/vnd.jupyter.widget-view+json": {
       "model_id": "16f30a3d35654112a93d667ba400c0bb",
       "version_major": 2,
       "version_minor": 0
      },
      "text/plain": [
       "2025-05-09.parquet:   0%|          | 0.00/221k [00:00<?, ?B/s]"
      ]
     },
     "metadata": {},
     "output_type": "display_data"
    },
    {
     "data": {
      "application/vnd.jupyter.widget-view+json": {
       "model_id": "820260817bf74db78da330a3fbdcf449",
       "version_major": 2,
       "version_minor": 0
      },
      "text/plain": [
       "2025-05-10.parquet:   0%|          | 0.00/190k [00:00<?, ?B/s]"
      ]
     },
     "metadata": {},
     "output_type": "display_data"
    },
    {
     "data": {
      "application/vnd.jupyter.widget-view+json": {
       "model_id": "d2721d0d407248f8b488e0176b4a1cf6",
       "version_major": 2,
       "version_minor": 0
      },
      "text/plain": [
       "2025-05-11.parquet:   0%|          | 0.00/193k [00:00<?, ?B/s]"
      ]
     },
     "metadata": {},
     "output_type": "display_data"
    },
    {
     "data": {
      "application/vnd.jupyter.widget-view+json": {
       "model_id": "3472b2ab7af24c728ec70ccc8978f8bd",
       "version_major": 2,
       "version_minor": 0
      },
      "text/plain": [
       "2025-05-12.parquet:   0%|          | 0.00/230k [00:00<?, ?B/s]"
      ]
     },
     "metadata": {},
     "output_type": "display_data"
    },
    {
     "data": {
      "application/vnd.jupyter.widget-view+json": {
       "model_id": "09ec3ac45f5748f0bc04221d3c19dc5b",
       "version_major": 2,
       "version_minor": 0
      },
      "text/plain": [
       "2025-05-13.parquet:   0%|          | 0.00/221k [00:00<?, ?B/s]"
      ]
     },
     "metadata": {},
     "output_type": "display_data"
    },
    {
     "data": {
      "application/vnd.jupyter.widget-view+json": {
       "model_id": "aa4bb60b6c614e61ba03b91e624e2552",
       "version_major": 2,
       "version_minor": 0
      },
      "text/plain": [
       "2025-05-01__localllama.parquet:   0%|          | 0.00/151k [00:00<?, ?B/s]"
      ]
     },
     "metadata": {},
     "output_type": "display_data"
    },
    {
     "data": {
      "application/vnd.jupyter.widget-view+json": {
       "model_id": "473044c36385426195e88caf02182cb2",
       "version_major": 2,
       "version_minor": 0
      },
      "text/plain": [
       "2025-05-01__artificial.parquet:   0%|          | 0.00/36.2k [00:00<?, ?B/s]"
      ]
     },
     "metadata": {},
     "output_type": "display_data"
    },
    {
     "data": {
      "application/vnd.jupyter.widget-view+json": {
       "model_id": "c870917db331495781261caad218c974",
       "version_major": 2,
       "version_minor": 0
      },
      "text/plain": [
       "2025-05-01__singularity.parquet:   0%|          | 0.00/51.6k [00:00<?, ?B/s]"
      ]
     },
     "metadata": {},
     "output_type": "display_data"
    },
    {
     "data": {
      "application/vnd.jupyter.widget-view+json": {
       "model_id": "a4c64168eeb247c695cd3957b37b33a2",
       "version_major": 2,
       "version_minor": 0
      },
      "text/plain": [
       "2025-05-01__openai.parquet:   0%|          | 0.00/59.1k [00:00<?, ?B/s]"
      ]
     },
     "metadata": {},
     "output_type": "display_data"
    },
    {
     "data": {
      "application/vnd.jupyter.widget-view+json": {
       "model_id": "d7c6be3476204b6b94f6e4abeea8d64c",
       "version_major": 2,
       "version_minor": 0
      },
      "text/plain": [
       "Upload 52 LFS files:   0%|          | 0/52 [00:00<?, ?it/s]"
      ]
     },
     "metadata": {},
     "output_type": "display_data"
    },
    {
     "data": {
      "application/vnd.jupyter.widget-view+json": {
       "model_id": "ce3c5fcbf7e041a0aa780ee2aea950bf",
       "version_major": 2,
       "version_minor": 0
      },
      "text/plain": [
       "2025-05-02__artificial.parquet:   0%|          | 0.00/25.5k [00:00<?, ?B/s]"
      ]
     },
     "metadata": {},
     "output_type": "display_data"
    },
    {
     "data": {
      "application/vnd.jupyter.widget-view+json": {
       "model_id": "ff8e4f095ee54929b4b4e2809629ee73",
       "version_major": 2,
       "version_minor": 0
      },
      "text/plain": [
       "2025-05-02__localllama.parquet:   0%|          | 0.00/89.5k [00:00<?, ?B/s]"
      ]
     },
     "metadata": {},
     "output_type": "display_data"
    },
    {
     "data": {
      "application/vnd.jupyter.widget-view+json": {
       "model_id": "97147dad0d5442d9a423c69547d10a2b",
       "version_major": 2,
       "version_minor": 0
      },
      "text/plain": [
       "2025-05-02__singularity.parquet:   0%|          | 0.00/44.8k [00:00<?, ?B/s]"
      ]
     },
     "metadata": {},
     "output_type": "display_data"
    },
    {
     "data": {
      "application/vnd.jupyter.widget-view+json": {
       "model_id": "820fda08019a45ea8b9147026711446c",
       "version_major": 2,
       "version_minor": 0
      },
      "text/plain": [
       "2025-05-02__openai.parquet:   0%|          | 0.00/66.8k [00:00<?, ?B/s]"
      ]
     },
     "metadata": {},
     "output_type": "display_data"
    },
    {
     "data": {
      "application/vnd.jupyter.widget-view+json": {
       "model_id": "319c3e6b6ccb4e4db46b2b3053d62bff",
       "version_major": 2,
       "version_minor": 0
      },
      "text/plain": [
       "2025-05-03__artificial.parquet:   0%|          | 0.00/25.3k [00:00<?, ?B/s]"
      ]
     },
     "metadata": {},
     "output_type": "display_data"
    },
    {
     "data": {
      "application/vnd.jupyter.widget-view+json": {
       "model_id": "2ac26f7d96614bd3b9ed109487e63ca9",
       "version_major": 2,
       "version_minor": 0
      },
      "text/plain": [
       "2025-05-03__localllama.parquet:   0%|          | 0.00/113k [00:00<?, ?B/s]"
      ]
     },
     "metadata": {},
     "output_type": "display_data"
    },
    {
     "data": {
      "application/vnd.jupyter.widget-view+json": {
       "model_id": "2b1ed4648fb94e6db93f833dccbb047b",
       "version_major": 2,
       "version_minor": 0
      },
      "text/plain": [
       "2025-05-03__singularity.parquet:   0%|          | 0.00/57.9k [00:00<?, ?B/s]"
      ]
     },
     "metadata": {},
     "output_type": "display_data"
    },
    {
     "data": {
      "application/vnd.jupyter.widget-view+json": {
       "model_id": "b33518a7498c4a11b859cd6806373dac",
       "version_major": 2,
       "version_minor": 0
      },
      "text/plain": [
       "2025-05-03__openai.parquet:   0%|          | 0.00/60.2k [00:00<?, ?B/s]"
      ]
     },
     "metadata": {},
     "output_type": "display_data"
    },
    {
     "data": {
      "application/vnd.jupyter.widget-view+json": {
       "model_id": "983964c1dd7f400a861503208251b6f3",
       "version_major": 2,
       "version_minor": 0
      },
      "text/plain": [
       "2025-05-04__artificial.parquet:   0%|          | 0.00/23.6k [00:00<?, ?B/s]"
      ]
     },
     "metadata": {},
     "output_type": "display_data"
    },
    {
     "data": {
      "application/vnd.jupyter.widget-view+json": {
       "model_id": "8258e1f3990a4deeb53f6cb48953f39b",
       "version_major": 2,
       "version_minor": 0
      },
      "text/plain": [
       "2025-05-04__localllama.parquet:   0%|          | 0.00/83.6k [00:00<?, ?B/s]"
      ]
     },
     "metadata": {},
     "output_type": "display_data"
    },
    {
     "data": {
      "application/vnd.jupyter.widget-view+json": {
       "model_id": "2da678108a244b809cf3c4ab11164afe",
       "version_major": 2,
       "version_minor": 0
      },
      "text/plain": [
       "2025-05-04__singularity.parquet:   0%|          | 0.00/42.0k [00:00<?, ?B/s]"
      ]
     },
     "metadata": {},
     "output_type": "display_data"
    },
    {
     "data": {
      "application/vnd.jupyter.widget-view+json": {
       "model_id": "7d276ff05077468f910033029d6f4d8c",
       "version_major": 2,
       "version_minor": 0
      },
      "text/plain": [
       "2025-05-04__openai.parquet:   0%|          | 0.00/68.2k [00:00<?, ?B/s]"
      ]
     },
     "metadata": {},
     "output_type": "display_data"
    },
    {
     "data": {
      "application/vnd.jupyter.widget-view+json": {
       "model_id": "675a18a2606243a5a03437679bbd9baa",
       "version_major": 2,
       "version_minor": 0
      },
      "text/plain": [
       "2025-05-05__artificial.parquet:   0%|          | 0.00/12.2k [00:00<?, ?B/s]"
      ]
     },
     "metadata": {},
     "output_type": "display_data"
    },
    {
     "data": {
      "application/vnd.jupyter.widget-view+json": {
       "model_id": "e28f11283a694ded8a360d536b109f14",
       "version_major": 2,
       "version_minor": 0
      },
      "text/plain": [
       "2025-05-05__localllama.parquet:   0%|          | 0.00/108k [00:00<?, ?B/s]"
      ]
     },
     "metadata": {},
     "output_type": "display_data"
    },
    {
     "data": {
      "application/vnd.jupyter.widget-view+json": {
       "model_id": "0418075a84ed4154a0a7ab3227bfde91",
       "version_major": 2,
       "version_minor": 0
      },
      "text/plain": [
       "2025-05-05__singularity.parquet:   0%|          | 0.00/62.5k [00:00<?, ?B/s]"
      ]
     },
     "metadata": {},
     "output_type": "display_data"
    },
    {
     "data": {
      "application/vnd.jupyter.widget-view+json": {
       "model_id": "be03cf1503af4a7fb8a40024ef4ea61b",
       "version_major": 2,
       "version_minor": 0
      },
      "text/plain": [
       "2025-05-05__openai.parquet:   0%|          | 0.00/65.9k [00:00<?, ?B/s]"
      ]
     },
     "metadata": {},
     "output_type": "display_data"
    },
    {
     "data": {
      "application/vnd.jupyter.widget-view+json": {
       "model_id": "49213e6b8e0243da8e9e2cab6c5a7d9e",
       "version_major": 2,
       "version_minor": 0
      },
      "text/plain": [
       "2025-05-06__artificial.parquet:   0%|          | 0.00/32.2k [00:00<?, ?B/s]"
      ]
     },
     "metadata": {},
     "output_type": "display_data"
    },
    {
     "data": {
      "application/vnd.jupyter.widget-view+json": {
       "model_id": "af77232ad564422ea9d7fb1fb034666f",
       "version_major": 2,
       "version_minor": 0
      },
      "text/plain": [
       "2025-05-06__localllama.parquet:   0%|          | 0.00/107k [00:00<?, ?B/s]"
      ]
     },
     "metadata": {},
     "output_type": "display_data"
    },
    {
     "data": {
      "application/vnd.jupyter.widget-view+json": {
       "model_id": "b71f5d092d6e46409cb2d790b6cdc840",
       "version_major": 2,
       "version_minor": 0
      },
      "text/plain": [
       "2025-05-06__singularity.parquet:   0%|          | 0.00/41.9k [00:00<?, ?B/s]"
      ]
     },
     "metadata": {},
     "output_type": "display_data"
    },
    {
     "data": {
      "application/vnd.jupyter.widget-view+json": {
       "model_id": "610bb4f3ccb24cde9e43989cf5e29c68",
       "version_major": 2,
       "version_minor": 0
      },
      "text/plain": [
       "2025-05-06__openai.parquet:   0%|          | 0.00/68.4k [00:00<?, ?B/s]"
      ]
     },
     "metadata": {},
     "output_type": "display_data"
    },
    {
     "data": {
      "application/vnd.jupyter.widget-view+json": {
       "model_id": "ca82377832da497e8e55fb31c124d5c4",
       "version_major": 2,
       "version_minor": 0
      },
      "text/plain": [
       "2025-05-07__artificial.parquet:   0%|          | 0.00/32.8k [00:00<?, ?B/s]"
      ]
     },
     "metadata": {},
     "output_type": "display_data"
    },
    {
     "data": {
      "application/vnd.jupyter.widget-view+json": {
       "model_id": "dacc1f40174d4872b7f19f9965e5e2e4",
       "version_major": 2,
       "version_minor": 0
      },
      "text/plain": [
       "2025-05-07__localllama.parquet:   0%|          | 0.00/89.0k [00:00<?, ?B/s]"
      ]
     },
     "metadata": {},
     "output_type": "display_data"
    },
    {
     "data": {
      "application/vnd.jupyter.widget-view+json": {
       "model_id": "90eb047b0a144558ab6d035dc4735abb",
       "version_major": 2,
       "version_minor": 0
      },
      "text/plain": [
       "2025-05-07__singularity.parquet:   0%|          | 0.00/45.4k [00:00<?, ?B/s]"
      ]
     },
     "metadata": {},
     "output_type": "display_data"
    },
    {
     "data": {
      "application/vnd.jupyter.widget-view+json": {
       "model_id": "c135843a057a4273ad027c1754281ca0",
       "version_major": 2,
       "version_minor": 0
      },
      "text/plain": [
       "2025-05-07__openai.parquet:   0%|          | 0.00/46.6k [00:00<?, ?B/s]"
      ]
     },
     "metadata": {},
     "output_type": "display_data"
    },
    {
     "data": {
      "application/vnd.jupyter.widget-view+json": {
       "model_id": "989aad4accb640c6bdc3c7357475247b",
       "version_major": 2,
       "version_minor": 0
      },
      "text/plain": [
       "2025-05-08__artificial.parquet:   0%|          | 0.00/21.3k [00:00<?, ?B/s]"
      ]
     },
     "metadata": {},
     "output_type": "display_data"
    },
    {
     "data": {
      "application/vnd.jupyter.widget-view+json": {
       "model_id": "51effc38ee62422a8d46bd4226043d01",
       "version_major": 2,
       "version_minor": 0
      },
      "text/plain": [
       "2025-05-08__localllama.parquet:   0%|          | 0.00/96.9k [00:00<?, ?B/s]"
      ]
     },
     "metadata": {},
     "output_type": "display_data"
    },
    {
     "data": {
      "application/vnd.jupyter.widget-view+json": {
       "model_id": "a4e3873e7fa241208d0b3bad78e244c6",
       "version_major": 2,
       "version_minor": 0
      },
      "text/plain": [
       "2025-05-08__singularity.parquet:   0%|          | 0.00/61.1k [00:00<?, ?B/s]"
      ]
     },
     "metadata": {},
     "output_type": "display_data"
    },
    {
     "data": {
      "application/vnd.jupyter.widget-view+json": {
       "model_id": "488994c7f63e4fd3925f734871bf6344",
       "version_major": 2,
       "version_minor": 0
      },
      "text/plain": [
       "2025-05-08__openai.parquet:   0%|          | 0.00/72.3k [00:00<?, ?B/s]"
      ]
     },
     "metadata": {},
     "output_type": "display_data"
    },
    {
     "data": {
      "application/vnd.jupyter.widget-view+json": {
       "model_id": "2c7ad2d13b2e4f9cb0f87ac2ce2996c6",
       "version_major": 2,
       "version_minor": 0
      },
      "text/plain": [
       "2025-05-09__artificial.parquet:   0%|          | 0.00/18.5k [00:00<?, ?B/s]"
      ]
     },
     "metadata": {},
     "output_type": "display_data"
    },
    {
     "data": {
      "application/vnd.jupyter.widget-view+json": {
       "model_id": "4cea5e6449a94f96ba138cca713bbaaa",
       "version_major": 2,
       "version_minor": 0
      },
      "text/plain": [
       "2025-05-09__localllama.parquet:   0%|          | 0.00/95.1k [00:00<?, ?B/s]"
      ]
     },
     "metadata": {},
     "output_type": "display_data"
    },
    {
     "data": {
      "application/vnd.jupyter.widget-view+json": {
       "model_id": "ab828b861453476d8037c13d53deaf05",
       "version_major": 2,
       "version_minor": 0
      },
      "text/plain": [
       "2025-05-09__singularity.parquet:   0%|          | 0.00/64.4k [00:00<?, ?B/s]"
      ]
     },
     "metadata": {},
     "output_type": "display_data"
    },
    {
     "data": {
      "application/vnd.jupyter.widget-view+json": {
       "model_id": "57ddc20f7169441b8eaa53c12921fb71",
       "version_major": 2,
       "version_minor": 0
      },
      "text/plain": [
       "2025-05-09__openai.parquet:   0%|          | 0.00/66.6k [00:00<?, ?B/s]"
      ]
     },
     "metadata": {},
     "output_type": "display_data"
    },
    {
     "data": {
      "application/vnd.jupyter.widget-view+json": {
       "model_id": "66679d74053b471799fdb430ed89f477",
       "version_major": 2,
       "version_minor": 0
      },
      "text/plain": [
       "2025-05-10__artificial.parquet:   0%|          | 0.00/27.6k [00:00<?, ?B/s]"
      ]
     },
     "metadata": {},
     "output_type": "display_data"
    },
    {
     "data": {
      "application/vnd.jupyter.widget-view+json": {
       "model_id": "6d623dd7af7f466a85175e92dbc5170c",
       "version_major": 2,
       "version_minor": 0
      },
      "text/plain": [
       "2025-05-10__localllama.parquet:   0%|          | 0.00/74.8k [00:00<?, ?B/s]"
      ]
     },
     "metadata": {},
     "output_type": "display_data"
    },
    {
     "data": {
      "application/vnd.jupyter.widget-view+json": {
       "model_id": "19b4c4f96ce745d88b00a49a45514312",
       "version_major": 2,
       "version_minor": 0
      },
      "text/plain": [
       "2025-05-10__singularity.parquet:   0%|          | 0.00/49.6k [00:00<?, ?B/s]"
      ]
     },
     "metadata": {},
     "output_type": "display_data"
    },
    {
     "data": {
      "application/vnd.jupyter.widget-view+json": {
       "model_id": "cea15455d7ad4bc3b2f9229a349a1e97",
       "version_major": 2,
       "version_minor": 0
      },
      "text/plain": [
       "2025-05-10__openai.parquet:   0%|          | 0.00/62.1k [00:00<?, ?B/s]"
      ]
     },
     "metadata": {},
     "output_type": "display_data"
    },
    {
     "data": {
      "application/vnd.jupyter.widget-view+json": {
       "model_id": "c78bd8a82ef14d7ea479bf9d67e6b928",
       "version_major": 2,
       "version_minor": 0
      },
      "text/plain": [
       "2025-05-11__artificial.parquet:   0%|          | 0.00/24.4k [00:00<?, ?B/s]"
      ]
     },
     "metadata": {},
     "output_type": "display_data"
    },
    {
     "data": {
      "application/vnd.jupyter.widget-view+json": {
       "model_id": "6be2a2815a014ad8909c8b3527deac85",
       "version_major": 2,
       "version_minor": 0
      },
      "text/plain": [
       "2025-05-11__localllama.parquet:   0%|          | 0.00/87.3k [00:00<?, ?B/s]"
      ]
     },
     "metadata": {},
     "output_type": "display_data"
    },
    {
     "data": {
      "application/vnd.jupyter.widget-view+json": {
       "model_id": "3ba58801c184431fa691121b89a8e9f2",
       "version_major": 2,
       "version_minor": 0
      },
      "text/plain": [
       "2025-05-11__singularity.parquet:   0%|          | 0.00/43.2k [00:00<?, ?B/s]"
      ]
     },
     "metadata": {},
     "output_type": "display_data"
    },
    {
     "data": {
      "application/vnd.jupyter.widget-view+json": {
       "model_id": "94c247807ad84aecac35b034f9ac656d",
       "version_major": 2,
       "version_minor": 0
      },
      "text/plain": [
       "2025-05-11__openai.parquet:   0%|          | 0.00/61.2k [00:00<?, ?B/s]"
      ]
     },
     "metadata": {},
     "output_type": "display_data"
    },
    {
     "data": {
      "application/vnd.jupyter.widget-view+json": {
       "model_id": "a6f81be0b0f34f6db9af3dfdd36ce4d8",
       "version_major": 2,
       "version_minor": 0
      },
      "text/plain": [
       "2025-05-12__artificial.parquet:   0%|          | 0.00/34.5k [00:00<?, ?B/s]"
      ]
     },
     "metadata": {},
     "output_type": "display_data"
    },
    {
     "data": {
      "application/vnd.jupyter.widget-view+json": {
       "model_id": "22be492306e941c0b9e7a8b4c3841bfe",
       "version_major": 2,
       "version_minor": 0
      },
      "text/plain": [
       "2025-05-12__localllama.parquet:   0%|          | 0.00/91.9k [00:00<?, ?B/s]"
      ]
     },
     "metadata": {},
     "output_type": "display_data"
    },
    {
     "data": {
      "application/vnd.jupyter.widget-view+json": {
       "model_id": "7909955c0dd34184b58e4b53a8ab30c6",
       "version_major": 2,
       "version_minor": 0
      },
      "text/plain": [
       "2025-05-12__singularity.parquet:   0%|          | 0.00/67.2k [00:00<?, ?B/s]"
      ]
     },
     "metadata": {},
     "output_type": "display_data"
    },
    {
     "data": {
      "application/vnd.jupyter.widget-view+json": {
       "model_id": "784d09168b7a449f97dddd7e89ee3402",
       "version_major": 2,
       "version_minor": 0
      },
      "text/plain": [
       "2025-05-12__openai.parquet:   0%|          | 0.00/63.9k [00:00<?, ?B/s]"
      ]
     },
     "metadata": {},
     "output_type": "display_data"
    },
    {
     "data": {
      "application/vnd.jupyter.widget-view+json": {
       "model_id": "a02faa359c034d9b96c2a73e04987551",
       "version_major": 2,
       "version_minor": 0
      },
      "text/plain": [
       "2025-05-13__artificial.parquet:   0%|          | 0.00/31.6k [00:00<?, ?B/s]"
      ]
     },
     "metadata": {},
     "output_type": "display_data"
    },
    {
     "data": {
      "application/vnd.jupyter.widget-view+json": {
       "model_id": "6331ecc735ff451faa8785eb9986931e",
       "version_major": 2,
       "version_minor": 0
      },
      "text/plain": [
       "2025-05-13__localllama.parquet:   0%|          | 0.00/110k [00:00<?, ?B/s]"
      ]
     },
     "metadata": {},
     "output_type": "display_data"
    },
    {
     "data": {
      "application/vnd.jupyter.widget-view+json": {
       "model_id": "580144158c4b423a835111eb71c332e6",
       "version_major": 2,
       "version_minor": 0
      },
      "text/plain": [
       "2025-05-13__singularity.parquet:   0%|          | 0.00/34.1k [00:00<?, ?B/s]"
      ]
     },
     "metadata": {},
     "output_type": "display_data"
    },
    {
     "data": {
      "application/vnd.jupyter.widget-view+json": {
       "model_id": "b0d466b9c969469c8ca1fd602f306120",
       "version_major": 2,
       "version_minor": 0
      },
      "text/plain": [
       "2025-05-13__openai.parquet:   0%|          | 0.00/77.2k [00:00<?, ?B/s]"
      ]
     },
     "metadata": {},
     "output_type": "display_data"
    },
    {
     "data": {
      "application/vnd.jupyter.widget-view+json": {
       "model_id": "56bea313ab98472389be2d309c49a016",
       "version_major": 2,
       "version_minor": 0
      },
      "text/plain": [
       "2025-05-14.parquet:   0%|          | 0.00/252k [00:00<?, ?B/s]"
      ]
     },
     "metadata": {},
     "output_type": "display_data"
    },
    {
     "data": {
      "application/vnd.jupyter.widget-view+json": {
       "model_id": "bb79c1aeb9274fdba63b219b2d88b55e",
       "version_major": 2,
       "version_minor": 0
      },
      "text/plain": [
       "2025-05-15.parquet:   0%|          | 0.00/238k [00:00<?, ?B/s]"
      ]
     },
     "metadata": {},
     "output_type": "display_data"
    },
    {
     "data": {
      "application/vnd.jupyter.widget-view+json": {
       "model_id": "71b8b91c4b114b0f813e99891354f5ef",
       "version_major": 2,
       "version_minor": 0
      },
      "text/plain": [
       "2025-05-16.parquet:   0%|          | 0.00/215k [00:00<?, ?B/s]"
      ]
     },
     "metadata": {},
     "output_type": "display_data"
    },
    {
     "data": {
      "application/vnd.jupyter.widget-view+json": {
       "model_id": "ef1a788d1759479f91af32b8ec1cc564",
       "version_major": 2,
       "version_minor": 0
      },
      "text/plain": [
       "2025-05-17.parquet:   0%|          | 0.00/211k [00:00<?, ?B/s]"
      ]
     },
     "metadata": {},
     "output_type": "display_data"
    },
    {
     "data": {
      "application/vnd.jupyter.widget-view+json": {
       "model_id": "399c257195bd4e58be5c5e967d08b92d",
       "version_major": 2,
       "version_minor": 0
      },
      "text/plain": [
       "2025-05-18.parquet:   0%|          | 0.00/181k [00:00<?, ?B/s]"
      ]
     },
     "metadata": {},
     "output_type": "display_data"
    },
    {
     "data": {
      "application/vnd.jupyter.widget-view+json": {
       "model_id": "f5e5497475a644ebb329022fd10112ff",
       "version_major": 2,
       "version_minor": 0
      },
      "text/plain": [
       "2025-05-19.parquet:   0%|          | 0.00/203k [00:00<?, ?B/s]"
      ]
     },
     "metadata": {},
     "output_type": "display_data"
    },
    {
     "data": {
      "application/vnd.jupyter.widget-view+json": {
       "model_id": "e12150fd686449e4bbebecff846dc0eb",
       "version_major": 2,
       "version_minor": 0
      },
      "text/plain": [
       "2025-05-20.parquet:   0%|          | 0.00/200k [00:00<?, ?B/s]"
      ]
     },
     "metadata": {},
     "output_type": "display_data"
    },
    {
     "data": {
      "application/vnd.jupyter.widget-view+json": {
       "model_id": "939ab5b309bd4551b8b81c0d1bc8b8b9",
       "version_major": 2,
       "version_minor": 0
      },
      "text/plain": [
       "2025-05-21.parquet:   0%|          | 0.00/305k [00:00<?, ?B/s]"
      ]
     },
     "metadata": {},
     "output_type": "display_data"
    },
    {
     "data": {
      "application/vnd.jupyter.widget-view+json": {
       "model_id": "cb043c5ee7bc4d268e14c8502ab38dd4",
       "version_major": 2,
       "version_minor": 0
      },
      "text/plain": [
       "2025-05-22.parquet:   0%|          | 0.00/268k [00:00<?, ?B/s]"
      ]
     },
     "metadata": {},
     "output_type": "display_data"
    },
    {
     "data": {
      "application/vnd.jupyter.widget-view+json": {
       "model_id": "725ba9d1636e45b59cdf0c1e049125ac",
       "version_major": 2,
       "version_minor": 0
      },
      "text/plain": [
       "2025-05-23.parquet:   0%|          | 0.00/245k [00:00<?, ?B/s]"
      ]
     },
     "metadata": {},
     "output_type": "display_data"
    },
    {
     "data": {
      "application/vnd.jupyter.widget-view+json": {
       "model_id": "2eb616fa7bf546af8d6905746d2d22e1",
       "version_major": 2,
       "version_minor": 0
      },
      "text/plain": [
       "2025-05-24.parquet:   0%|          | 0.00/255k [00:00<?, ?B/s]"
      ]
     },
     "metadata": {},
     "output_type": "display_data"
    },
    {
     "data": {
      "application/vnd.jupyter.widget-view+json": {
       "model_id": "408b5ba48b1e440695e075461696db44",
       "version_major": 2,
       "version_minor": 0
      },
      "text/plain": [
       "2025-05-25.parquet:   0%|          | 0.00/232k [00:00<?, ?B/s]"
      ]
     },
     "metadata": {},
     "output_type": "display_data"
    },
    {
     "data": {
      "application/vnd.jupyter.widget-view+json": {
       "model_id": "74060deaa13a4cd394edee6a6221fb24",
       "version_major": 2,
       "version_minor": 0
      },
      "text/plain": [
       "2025-05-26.parquet:   0%|          | 0.00/229k [00:00<?, ?B/s]"
      ]
     },
     "metadata": {},
     "output_type": "display_data"
    },
    {
     "data": {
      "application/vnd.jupyter.widget-view+json": {
       "model_id": "54098d40c04740f3bfb52e0ad118f0c9",
       "version_major": 2,
       "version_minor": 0
      },
      "text/plain": [
       "2025-05-14__singularity.parquet:   0%|          | 0.00/67.7k [00:00<?, ?B/s]"
      ]
     },
     "metadata": {},
     "output_type": "display_data"
    },
    {
     "data": {
      "application/vnd.jupyter.widget-view+json": {
       "model_id": "ed212abb01cf4f3e8c7795966354e763",
       "version_major": 2,
       "version_minor": 0
      },
      "text/plain": [
       "2025-05-14__openai.parquet:   0%|          | 0.00/77.2k [00:00<?, ?B/s]"
      ]
     },
     "metadata": {},
     "output_type": "display_data"
    },
    {
     "data": {
      "application/vnd.jupyter.widget-view+json": {
       "model_id": "1eda7ad8367343ff9b1aab3af9c0e23e",
       "version_major": 2,
       "version_minor": 0
      },
      "text/plain": [
       "Upload 52 LFS files:   0%|          | 0/52 [00:00<?, ?it/s]"
      ]
     },
     "metadata": {},
     "output_type": "display_data"
    },
    {
     "data": {
      "application/vnd.jupyter.widget-view+json": {
       "model_id": "e8fdc3d100074276bcf3ef806e816379",
       "version_major": 2,
       "version_minor": 0
      },
      "text/plain": [
       "2025-05-14__artificial.parquet:   0%|          | 0.00/44.0k [00:00<?, ?B/s]"
      ]
     },
     "metadata": {},
     "output_type": "display_data"
    },
    {
     "data": {
      "application/vnd.jupyter.widget-view+json": {
       "model_id": "5cd6a5e66b1e469badfe3b0eb302e18f",
       "version_major": 2,
       "version_minor": 0
      },
      "text/plain": [
       "2025-05-14__localllama.parquet:   0%|          | 0.00/86.7k [00:00<?, ?B/s]"
      ]
     },
     "metadata": {},
     "output_type": "display_data"
    },
    {
     "data": {
      "application/vnd.jupyter.widget-view+json": {
       "model_id": "c38e5e4579c04b5faa6a5c1ed195d9ac",
       "version_major": 2,
       "version_minor": 0
      },
      "text/plain": [
       "2025-05-15__artificial.parquet:   0%|          | 0.00/27.5k [00:00<?, ?B/s]"
      ]
     },
     "metadata": {},
     "output_type": "display_data"
    },
    {
     "data": {
      "application/vnd.jupyter.widget-view+json": {
       "model_id": "10949fbbcab440aea1518bf44738ef76",
       "version_major": 2,
       "version_minor": 0
      },
      "text/plain": [
       "2025-05-15__localllama.parquet:   0%|          | 0.00/91.4k [00:00<?, ?B/s]"
      ]
     },
     "metadata": {},
     "output_type": "display_data"
    },
    {
     "data": {
      "application/vnd.jupyter.widget-view+json": {
       "model_id": "ab54f1bfa30f4c9fb6fa0ba7b151e172",
       "version_major": 2,
       "version_minor": 0
      },
      "text/plain": [
       "2025-05-15__singularity.parquet:   0%|          | 0.00/87.4k [00:00<?, ?B/s]"
      ]
     },
     "metadata": {},
     "output_type": "display_data"
    },
    {
     "data": {
      "application/vnd.jupyter.widget-view+json": {
       "model_id": "f39123da09d440b1bbcac24baba73f74",
       "version_major": 2,
       "version_minor": 0
      },
      "text/plain": [
       "2025-05-16__artificial.parquet:   0%|          | 0.00/28.3k [00:00<?, ?B/s]"
      ]
     },
     "metadata": {},
     "output_type": "display_data"
    },
    {
     "data": {
      "application/vnd.jupyter.widget-view+json": {
       "model_id": "e8fdd23d2d33453a9625e8f964ad5ccf",
       "version_major": 2,
       "version_minor": 0
      },
      "text/plain": [
       "2025-05-15__openai.parquet:   0%|          | 0.00/62.5k [00:00<?, ?B/s]"
      ]
     },
     "metadata": {},
     "output_type": "display_data"
    },
    {
     "data": {
      "application/vnd.jupyter.widget-view+json": {
       "model_id": "a9cd7f7663c0483d9b884efb7ddf9461",
       "version_major": 2,
       "version_minor": 0
      },
      "text/plain": [
       "2025-05-16__localllama.parquet:   0%|          | 0.00/88.7k [00:00<?, ?B/s]"
      ]
     },
     "metadata": {},
     "output_type": "display_data"
    },
    {
     "data": {
      "application/vnd.jupyter.widget-view+json": {
       "model_id": "2cad07640f3a426d90ec230979606662",
       "version_major": 2,
       "version_minor": 0
      },
      "text/plain": [
       "2025-05-16__singularity.parquet:   0%|          | 0.00/61.4k [00:00<?, ?B/s]"
      ]
     },
     "metadata": {},
     "output_type": "display_data"
    },
    {
     "data": {
      "application/vnd.jupyter.widget-view+json": {
       "model_id": "f417ed44a35249709bcc6aa12d2f00fd",
       "version_major": 2,
       "version_minor": 0
      },
      "text/plain": [
       "2025-05-16__openai.parquet:   0%|          | 0.00/61.3k [00:00<?, ?B/s]"
      ]
     },
     "metadata": {},
     "output_type": "display_data"
    },
    {
     "data": {
      "application/vnd.jupyter.widget-view+json": {
       "model_id": "c90b234944fa4e48928f80a8fcad1b11",
       "version_major": 2,
       "version_minor": 0
      },
      "text/plain": [
       "2025-05-17__artificial.parquet:   0%|          | 0.00/31.0k [00:00<?, ?B/s]"
      ]
     },
     "metadata": {},
     "output_type": "display_data"
    },
    {
     "data": {
      "application/vnd.jupyter.widget-view+json": {
       "model_id": "b08c9e2a792844c283e409b4c53b311d",
       "version_major": 2,
       "version_minor": 0
      },
      "text/plain": [
       "2025-05-17__localllama.parquet:   0%|          | 0.00/83.0k [00:00<?, ?B/s]"
      ]
     },
     "metadata": {},
     "output_type": "display_data"
    },
    {
     "data": {
      "application/vnd.jupyter.widget-view+json": {
       "model_id": "cd3aeda6025c4253806583b881f4bde0",
       "version_major": 2,
       "version_minor": 0
      },
      "text/plain": [
       "2025-05-17__singularity.parquet:   0%|          | 0.00/55.8k [00:00<?, ?B/s]"
      ]
     },
     "metadata": {},
     "output_type": "display_data"
    },
    {
     "data": {
      "application/vnd.jupyter.widget-view+json": {
       "model_id": "c749b4e239f14c14946af293bd5878ec",
       "version_major": 2,
       "version_minor": 0
      },
      "text/plain": [
       "2025-05-17__openai.parquet:   0%|          | 0.00/75.9k [00:00<?, ?B/s]"
      ]
     },
     "metadata": {},
     "output_type": "display_data"
    },
    {
     "data": {
      "application/vnd.jupyter.widget-view+json": {
       "model_id": "f35850eb833f470eb34a7bb7af90e7bb",
       "version_major": 2,
       "version_minor": 0
      },
      "text/plain": [
       "2025-05-18__artificial.parquet:   0%|          | 0.00/20.8k [00:00<?, ?B/s]"
      ]
     },
     "metadata": {},
     "output_type": "display_data"
    },
    {
     "data": {
      "application/vnd.jupyter.widget-view+json": {
       "model_id": "8e3a317077b447828b5f188af62e495a",
       "version_major": 2,
       "version_minor": 0
      },
      "text/plain": [
       "2025-05-18__localllama.parquet:   0%|          | 0.00/89.1k [00:00<?, ?B/s]"
      ]
     },
     "metadata": {},
     "output_type": "display_data"
    },
    {
     "data": {
      "application/vnd.jupyter.widget-view+json": {
       "model_id": "818aeb4d423a44b5bb58042c1631609c",
       "version_major": 2,
       "version_minor": 0
      },
      "text/plain": [
       "2025-05-18__singularity.parquet:   0%|          | 0.00/37.0k [00:00<?, ?B/s]"
      ]
     },
     "metadata": {},
     "output_type": "display_data"
    },
    {
     "data": {
      "application/vnd.jupyter.widget-view+json": {
       "model_id": "ac8350638ff64429ab8537211b46e349",
       "version_major": 2,
       "version_minor": 0
      },
      "text/plain": [
       "2025-05-18__openai.parquet:   0%|          | 0.00/59.9k [00:00<?, ?B/s]"
      ]
     },
     "metadata": {},
     "output_type": "display_data"
    },
    {
     "data": {
      "application/vnd.jupyter.widget-view+json": {
       "model_id": "c8ac2c9af38341e988c1cc110a37c0aa",
       "version_major": 2,
       "version_minor": 0
      },
      "text/plain": [
       "2025-05-19__artificial.parquet:   0%|          | 0.00/34.9k [00:00<?, ?B/s]"
      ]
     },
     "metadata": {},
     "output_type": "display_data"
    },
    {
     "data": {
      "application/vnd.jupyter.widget-view+json": {
       "model_id": "d1b8dfcf11084da182ca8a30b121d6d4",
       "version_major": 2,
       "version_minor": 0
      },
      "text/plain": [
       "2025-05-19__localllama.parquet:   0%|          | 0.00/83.4k [00:00<?, ?B/s]"
      ]
     },
     "metadata": {},
     "output_type": "display_data"
    },
    {
     "data": {
      "application/vnd.jupyter.widget-view+json": {
       "model_id": "66d7d49bf1cc407d803805624cf5b4e4",
       "version_major": 2,
       "version_minor": 0
      },
      "text/plain": [
       "2025-05-19__singularity.parquet:   0%|          | 0.00/74.1k [00:00<?, ?B/s]"
      ]
     },
     "metadata": {},
     "output_type": "display_data"
    },
    {
     "data": {
      "application/vnd.jupyter.widget-view+json": {
       "model_id": "e6a5d864b9ae4a47b3aaf6c090f650e0",
       "version_major": 2,
       "version_minor": 0
      },
      "text/plain": [
       "2025-05-19__openai.parquet:   0%|          | 0.00/39.2k [00:00<?, ?B/s]"
      ]
     },
     "metadata": {},
     "output_type": "display_data"
    },
    {
     "data": {
      "application/vnd.jupyter.widget-view+json": {
       "model_id": "6e6ba9dcefa94b00bd2b9e788cce50c7",
       "version_major": 2,
       "version_minor": 0
      },
      "text/plain": [
       "2025-05-20__artificial.parquet:   0%|          | 0.00/29.8k [00:00<?, ?B/s]"
      ]
     },
     "metadata": {},
     "output_type": "display_data"
    },
    {
     "data": {
      "application/vnd.jupyter.widget-view+json": {
       "model_id": "73cb4e099ba746ffaf3ce037ca9321b3",
       "version_major": 2,
       "version_minor": 0
      },
      "text/plain": [
       "2025-05-20__localllama.parquet:   0%|          | 0.00/76.2k [00:00<?, ?B/s]"
      ]
     },
     "metadata": {},
     "output_type": "display_data"
    },
    {
     "data": {
      "application/vnd.jupyter.widget-view+json": {
       "model_id": "1aa484c8a9c64f479b6c00db725e2b08",
       "version_major": 2,
       "version_minor": 0
      },
      "text/plain": [
       "2025-05-20__singularity.parquet:   0%|          | 0.00/74.3k [00:00<?, ?B/s]"
      ]
     },
     "metadata": {},
     "output_type": "display_data"
    },
    {
     "data": {
      "application/vnd.jupyter.widget-view+json": {
       "model_id": "9bedec9db179405193a5174ae2eaf84c",
       "version_major": 2,
       "version_minor": 0
      },
      "text/plain": [
       "2025-05-20__openai.parquet:   0%|          | 0.00/44.1k [00:00<?, ?B/s]"
      ]
     },
     "metadata": {},
     "output_type": "display_data"
    },
    {
     "data": {
      "application/vnd.jupyter.widget-view+json": {
       "model_id": "d36d86fa830a4afcb50fa4d7cd6384cb",
       "version_major": 2,
       "version_minor": 0
      },
      "text/plain": [
       "2025-05-21__artificial.parquet:   0%|          | 0.00/30.5k [00:00<?, ?B/s]"
      ]
     },
     "metadata": {},
     "output_type": "display_data"
    },
    {
     "data": {
      "application/vnd.jupyter.widget-view+json": {
       "model_id": "8c32cb9728e8486a836dd2c7be037eb5",
       "version_major": 2,
       "version_minor": 0
      },
      "text/plain": [
       "2025-05-21__localllama.parquet:   0%|          | 0.00/103k [00:00<?, ?B/s]"
      ]
     },
     "metadata": {},
     "output_type": "display_data"
    },
    {
     "data": {
      "application/vnd.jupyter.widget-view+json": {
       "model_id": "a63b4c0871e04f9eb20ed25cc689806f",
       "version_major": 2,
       "version_minor": 0
      },
      "text/plain": [
       "2025-05-21__singularity.parquet:   0%|          | 0.00/134k [00:00<?, ?B/s]"
      ]
     },
     "metadata": {},
     "output_type": "display_data"
    },
    {
     "data": {
      "application/vnd.jupyter.widget-view+json": {
       "model_id": "a5a36a0ecafc49f78455368f8bdacffa",
       "version_major": 2,
       "version_minor": 0
      },
      "text/plain": [
       "2025-05-21__openai.parquet:   0%|          | 0.00/63.5k [00:00<?, ?B/s]"
      ]
     },
     "metadata": {},
     "output_type": "display_data"
    },
    {
     "data": {
      "application/vnd.jupyter.widget-view+json": {
       "model_id": "edb6712fdac44a57aad37d6960e65c5d",
       "version_major": 2,
       "version_minor": 0
      },
      "text/plain": [
       "2025-05-22__artificial.parquet:   0%|          | 0.00/29.3k [00:00<?, ?B/s]"
      ]
     },
     "metadata": {},
     "output_type": "display_data"
    },
    {
     "data": {
      "application/vnd.jupyter.widget-view+json": {
       "model_id": "60327c547d1d4970bc93ba721e017401",
       "version_major": 2,
       "version_minor": 0
      },
      "text/plain": [
       "2025-05-22__localllama.parquet:   0%|          | 0.00/107k [00:00<?, ?B/s]"
      ]
     },
     "metadata": {},
     "output_type": "display_data"
    },
    {
     "data": {
      "application/vnd.jupyter.widget-view+json": {
       "model_id": "51aee3296d81463da75209b20414fad0",
       "version_major": 2,
       "version_minor": 0
      },
      "text/plain": [
       "2025-05-22__singularity.parquet:   0%|          | 0.00/84.4k [00:00<?, ?B/s]"
      ]
     },
     "metadata": {},
     "output_type": "display_data"
    },
    {
     "data": {
      "application/vnd.jupyter.widget-view+json": {
       "model_id": "147cfa0d1a4a4bd2a026f44f9a21ef4d",
       "version_major": 2,
       "version_minor": 0
      },
      "text/plain": [
       "2025-05-22__openai.parquet:   0%|          | 0.00/72.0k [00:00<?, ?B/s]"
      ]
     },
     "metadata": {},
     "output_type": "display_data"
    },
    {
     "data": {
      "application/vnd.jupyter.widget-view+json": {
       "model_id": "d6ed6504fe12452a8530429ec72497e7",
       "version_major": 2,
       "version_minor": 0
      },
      "text/plain": [
       "2025-05-23__artificial.parquet:   0%|          | 0.00/44.2k [00:00<?, ?B/s]"
      ]
     },
     "metadata": {},
     "output_type": "display_data"
    },
    {
     "data": {
      "application/vnd.jupyter.widget-view+json": {
       "model_id": "7ff04044c7a74935a8c7fa06873de5b1",
       "version_major": 2,
       "version_minor": 0
      },
      "text/plain": [
       "2025-05-23__localllama.parquet:   0%|          | 0.00/97.4k [00:00<?, ?B/s]"
      ]
     },
     "metadata": {},
     "output_type": "display_data"
    },
    {
     "data": {
      "application/vnd.jupyter.widget-view+json": {
       "model_id": "2a0d0d2b3cac40cc9f030b4c9bea1b17",
       "version_major": 2,
       "version_minor": 0
      },
      "text/plain": [
       "2025-05-23__singularity.parquet:   0%|          | 0.00/80.9k [00:00<?, ?B/s]"
      ]
     },
     "metadata": {},
     "output_type": "display_data"
    },
    {
     "data": {
      "application/vnd.jupyter.widget-view+json": {
       "model_id": "293ac26617d043e9a6b089b6c41a1c24",
       "version_major": 2,
       "version_minor": 0
      },
      "text/plain": [
       "2025-05-23__openai.parquet:   0%|          | 0.00/53.4k [00:00<?, ?B/s]"
      ]
     },
     "metadata": {},
     "output_type": "display_data"
    },
    {
     "data": {
      "application/vnd.jupyter.widget-view+json": {
       "model_id": "7d4a32215f294ced838440086a2222ed",
       "version_major": 2,
       "version_minor": 0
      },
      "text/plain": [
       "2025-05-24__artificial.parquet:   0%|          | 0.00/36.4k [00:00<?, ?B/s]"
      ]
     },
     "metadata": {},
     "output_type": "display_data"
    },
    {
     "data": {
      "application/vnd.jupyter.widget-view+json": {
       "model_id": "31ae291a73ea4b54b6119b4917b4028f",
       "version_major": 2,
       "version_minor": 0
      },
      "text/plain": [
       "2025-05-24__localllama.parquet:   0%|          | 0.00/88.0k [00:00<?, ?B/s]"
      ]
     },
     "metadata": {},
     "output_type": "display_data"
    },
    {
     "data": {
      "application/vnd.jupyter.widget-view+json": {
       "model_id": "2ecffec0359c4c289e22c86feafd5316",
       "version_major": 2,
       "version_minor": 0
      },
      "text/plain": [
       "2025-05-24__singularity.parquet:   0%|          | 0.00/102k [00:00<?, ?B/s]"
      ]
     },
     "metadata": {},
     "output_type": "display_data"
    },
    {
     "data": {
      "application/vnd.jupyter.widget-view+json": {
       "model_id": "0562f20172df437fb2ab5a2931b27876",
       "version_major": 2,
       "version_minor": 0
      },
      "text/plain": [
       "2025-05-24__openai.parquet:   0%|          | 0.00/66.3k [00:00<?, ?B/s]"
      ]
     },
     "metadata": {},
     "output_type": "display_data"
    },
    {
     "data": {
      "application/vnd.jupyter.widget-view+json": {
       "model_id": "5cb6500f4252418393e74d5eaaf3c507",
       "version_major": 2,
       "version_minor": 0
      },
      "text/plain": [
       "2025-05-25__artificial.parquet:   0%|          | 0.00/46.3k [00:00<?, ?B/s]"
      ]
     },
     "metadata": {},
     "output_type": "display_data"
    },
    {
     "data": {
      "application/vnd.jupyter.widget-view+json": {
       "model_id": "89e9eddfd25348f89d045b00dee77e07",
       "version_major": 2,
       "version_minor": 0
      },
      "text/plain": [
       "2025-05-25__localllama.parquet:   0%|          | 0.00/77.1k [00:00<?, ?B/s]"
      ]
     },
     "metadata": {},
     "output_type": "display_data"
    },
    {
     "data": {
      "application/vnd.jupyter.widget-view+json": {
       "model_id": "2e6d25bafd1042dd8e86c441d13a4c00",
       "version_major": 2,
       "version_minor": 0
      },
      "text/plain": [
       "2025-05-25__singularity.parquet:   0%|          | 0.00/71.1k [00:00<?, ?B/s]"
      ]
     },
     "metadata": {},
     "output_type": "display_data"
    },
    {
     "data": {
      "application/vnd.jupyter.widget-view+json": {
       "model_id": "10c8dd04e5e74cffb3ca466dfad8c188",
       "version_major": 2,
       "version_minor": 0
      },
      "text/plain": [
       "2025-05-25__openai.parquet:   0%|          | 0.00/63.2k [00:00<?, ?B/s]"
      ]
     },
     "metadata": {},
     "output_type": "display_data"
    },
    {
     "data": {
      "application/vnd.jupyter.widget-view+json": {
       "model_id": "9c9251a1a90c47beace49fedb97ae176",
       "version_major": 2,
       "version_minor": 0
      },
      "text/plain": [
       "2025-05-26__artificial.parquet:   0%|          | 0.00/29.4k [00:00<?, ?B/s]"
      ]
     },
     "metadata": {},
     "output_type": "display_data"
    },
    {
     "data": {
      "application/vnd.jupyter.widget-view+json": {
       "model_id": "12d335dfe3b24f1c802bdf8e1c2c89a8",
       "version_major": 2,
       "version_minor": 0
      },
      "text/plain": [
       "2025-05-26__localllama.parquet:   0%|          | 0.00/103k [00:00<?, ?B/s]"
      ]
     },
     "metadata": {},
     "output_type": "display_data"
    },
    {
     "data": {
      "application/vnd.jupyter.widget-view+json": {
       "model_id": "964f131d58164bcea62374320f3be24b",
       "version_major": 2,
       "version_minor": 0
      },
      "text/plain": [
       "2025-05-26__singularity.parquet:   0%|          | 0.00/64.8k [00:00<?, ?B/s]"
      ]
     },
     "metadata": {},
     "output_type": "display_data"
    },
    {
     "data": {
      "application/vnd.jupyter.widget-view+json": {
       "model_id": "932b3d54b55a4b2e8419a90af68c2ef8",
       "version_major": 2,
       "version_minor": 0
      },
      "text/plain": [
       "2025-05-26__openai.parquet:   0%|          | 0.00/59.3k [00:00<?, ?B/s]"
      ]
     },
     "metadata": {},
     "output_type": "display_data"
    },
    {
     "data": {
      "application/vnd.jupyter.widget-view+json": {
       "model_id": "93a7910bb2574a2a92ad5c3f00e72352",
       "version_major": 2,
       "version_minor": 0
      },
      "text/plain": [
       "2025-05-27.parquet:   0%|          | 0.00/232k [00:00<?, ?B/s]"
      ]
     },
     "metadata": {},
     "output_type": "display_data"
    },
    {
     "data": {
      "application/vnd.jupyter.widget-view+json": {
       "model_id": "e9de3761367f4fcf80fc5978b5ef9d08",
       "version_major": 2,
       "version_minor": 0
      },
      "text/plain": [
       "2025-05-28.parquet:   0%|          | 0.00/270k [00:00<?, ?B/s]"
      ]
     },
     "metadata": {},
     "output_type": "display_data"
    },
    {
     "data": {
      "application/vnd.jupyter.widget-view+json": {
       "model_id": "55b638eb2ae3431ba0facd50aac5146e",
       "version_major": 2,
       "version_minor": 0
      },
      "text/plain": [
       "2025-05-29.parquet:   0%|          | 0.00/262k [00:00<?, ?B/s]"
      ]
     },
     "metadata": {},
     "output_type": "display_data"
    },
    {
     "data": {
      "application/vnd.jupyter.widget-view+json": {
       "model_id": "83a2c27a2bc14de787b45736894bf9b8",
       "version_major": 2,
       "version_minor": 0
      },
      "text/plain": [
       "2025-05-30.parquet:   0%|          | 0.00/240k [00:00<?, ?B/s]"
      ]
     },
     "metadata": {},
     "output_type": "display_data"
    },
    {
     "data": {
      "application/vnd.jupyter.widget-view+json": {
       "model_id": "5a90b1ee7ad14a2a804990f948f575c7",
       "version_major": 2,
       "version_minor": 0
      },
      "text/plain": [
       "2025-05-31.parquet:   0%|          | 0.00/231k [00:00<?, ?B/s]"
      ]
     },
     "metadata": {},
     "output_type": "display_data"
    },
    {
     "data": {
      "application/vnd.jupyter.widget-view+json": {
       "model_id": "f703a9d565b54fe992e457891077635b",
       "version_major": 2,
       "version_minor": 0
      },
      "text/plain": [
       "2025-06-01.parquet:   0%|          | 0.00/167k [00:00<?, ?B/s]"
      ]
     },
     "metadata": {},
     "output_type": "display_data"
    },
    {
     "data": {
      "application/vnd.jupyter.widget-view+json": {
       "model_id": "8c79327d81a14ce6a526ee88c5bdb9e5",
       "version_major": 2,
       "version_minor": 0
      },
      "text/plain": [
       "2025-06-02.parquet:   0%|          | 0.00/250k [00:00<?, ?B/s]"
      ]
     },
     "metadata": {},
     "output_type": "display_data"
    },
    {
     "data": {
      "application/vnd.jupyter.widget-view+json": {
       "model_id": "1cf197678ff842d2bfe2fe30125cb924",
       "version_major": 2,
       "version_minor": 0
      },
      "text/plain": [
       "2025-06-03.parquet:   0%|          | 0.00/206k [00:00<?, ?B/s]"
      ]
     },
     "metadata": {},
     "output_type": "display_data"
    },
    {
     "data": {
      "application/vnd.jupyter.widget-view+json": {
       "model_id": "28cda701d8174e00966856b4d32a74b6",
       "version_major": 2,
       "version_minor": 0
      },
      "text/plain": [
       "2025-06-04.parquet:   0%|          | 0.00/269k [00:00<?, ?B/s]"
      ]
     },
     "metadata": {},
     "output_type": "display_data"
    },
    {
     "data": {
      "application/vnd.jupyter.widget-view+json": {
       "model_id": "0105914388e94b5289036a1415360afa",
       "version_major": 2,
       "version_minor": 0
      },
      "text/plain": [
       "2025-05-27__artificial.parquet:   0%|          | 0.00/32.8k [00:00<?, ?B/s]"
      ]
     },
     "metadata": {},
     "output_type": "display_data"
    },
    {
     "data": {
      "application/vnd.jupyter.widget-view+json": {
       "model_id": "14874b9c03024c2d863c285345810028",
       "version_major": 2,
       "version_minor": 0
      },
      "text/plain": [
       "2025-05-27__singularity.parquet:   0%|          | 0.00/85.7k [00:00<?, ?B/s]"
      ]
     },
     "metadata": {},
     "output_type": "display_data"
    },
    {
     "data": {
      "application/vnd.jupyter.widget-view+json": {
       "model_id": "4ac23fb5af124e04b64ff29059912298",
       "version_major": 2,
       "version_minor": 0
      },
      "text/plain": [
       "Upload 36 LFS files:   0%|          | 0/36 [00:00<?, ?it/s]"
      ]
     },
     "metadata": {},
     "output_type": "display_data"
    },
    {
     "data": {
      "application/vnd.jupyter.widget-view+json": {
       "model_id": "cd4317b62cdb4be1a4ff725f12c6176c",
       "version_major": 2,
       "version_minor": 0
      },
      "text/plain": [
       "2025-05-27__localllama.parquet:   0%|          | 0.00/86.4k [00:00<?, ?B/s]"
      ]
     },
     "metadata": {},
     "output_type": "display_data"
    },
    {
     "data": {
      "application/vnd.jupyter.widget-view+json": {
       "model_id": "c87ab7ac7f414fd89a5e73464dcb3de1",
       "version_major": 2,
       "version_minor": 0
      },
      "text/plain": [
       "2025-05-27__openai.parquet:   0%|          | 0.00/50.3k [00:00<?, ?B/s]"
      ]
     },
     "metadata": {},
     "output_type": "display_data"
    },
    {
     "data": {
      "application/vnd.jupyter.widget-view+json": {
       "model_id": "b0f9464f6d01470585b06fb3a51bb702",
       "version_major": 2,
       "version_minor": 0
      },
      "text/plain": [
       "2025-05-28__artificial.parquet:   0%|          | 0.00/27.6k [00:00<?, ?B/s]"
      ]
     },
     "metadata": {},
     "output_type": "display_data"
    },
    {
     "data": {
      "application/vnd.jupyter.widget-view+json": {
       "model_id": "203e32d6504344708541a4d304496100",
       "version_major": 2,
       "version_minor": 0
      },
      "text/plain": [
       "2025-05-28__localllama.parquet:   0%|          | 0.00/93.1k [00:00<?, ?B/s]"
      ]
     },
     "metadata": {},
     "output_type": "display_data"
    },
    {
     "data": {
      "application/vnd.jupyter.widget-view+json": {
       "model_id": "c8dcbc994b294834bb073eb194053f9e",
       "version_major": 2,
       "version_minor": 0
      },
      "text/plain": [
       "2025-05-28__singularity.parquet:   0%|          | 0.00/115k [00:00<?, ?B/s]"
      ]
     },
     "metadata": {},
     "output_type": "display_data"
    },
    {
     "data": {
      "application/vnd.jupyter.widget-view+json": {
       "model_id": "853063d0703141dfbd81a3e2540a569d",
       "version_major": 2,
       "version_minor": 0
      },
      "text/plain": [
       "2025-05-28__openai.parquet:   0%|          | 0.00/62.4k [00:00<?, ?B/s]"
      ]
     },
     "metadata": {},
     "output_type": "display_data"
    },
    {
     "data": {
      "application/vnd.jupyter.widget-view+json": {
       "model_id": "2e24f6a4094d4196989db9cf4e333ee4",
       "version_major": 2,
       "version_minor": 0
      },
      "text/plain": [
       "2025-05-29__artificial.parquet:   0%|          | 0.00/26.9k [00:00<?, ?B/s]"
      ]
     },
     "metadata": {},
     "output_type": "display_data"
    },
    {
     "data": {
      "application/vnd.jupyter.widget-view+json": {
       "model_id": "3d9974e8ab9f4796beb67915b338f59b",
       "version_major": 2,
       "version_minor": 0
      },
      "text/plain": [
       "2025-05-29__localllama.parquet:   0%|          | 0.00/123k [00:00<?, ?B/s]"
      ]
     },
     "metadata": {},
     "output_type": "display_data"
    },
    {
     "data": {
      "application/vnd.jupyter.widget-view+json": {
       "model_id": "6b8de7975297472a8ef7b8daf904ca0c",
       "version_major": 2,
       "version_minor": 0
      },
      "text/plain": [
       "2025-05-29__singularity.parquet:   0%|          | 0.00/100k [00:00<?, ?B/s]"
      ]
     },
     "metadata": {},
     "output_type": "display_data"
    },
    {
     "data": {
      "application/vnd.jupyter.widget-view+json": {
       "model_id": "0c17c89f875746759f2832fc3d64f3e1",
       "version_major": 2,
       "version_minor": 0
      },
      "text/plain": [
       "2025-05-29__openai.parquet:   0%|          | 0.00/42.5k [00:00<?, ?B/s]"
      ]
     },
     "metadata": {},
     "output_type": "display_data"
    },
    {
     "data": {
      "application/vnd.jupyter.widget-view+json": {
       "model_id": "2bb8c8922cab406e86de439df0cb9154",
       "version_major": 2,
       "version_minor": 0
      },
      "text/plain": [
       "2025-05-30__artificial.parquet:   0%|          | 0.00/29.4k [00:00<?, ?B/s]"
      ]
     },
     "metadata": {},
     "output_type": "display_data"
    },
    {
     "data": {
      "application/vnd.jupyter.widget-view+json": {
       "model_id": "6336539762264fca8d65f34d57a73632",
       "version_major": 2,
       "version_minor": 0
      },
      "text/plain": [
       "2025-05-30__localllama.parquet:   0%|          | 0.00/94.9k [00:00<?, ?B/s]"
      ]
     },
     "metadata": {},
     "output_type": "display_data"
    },
    {
     "data": {
      "application/vnd.jupyter.widget-view+json": {
       "model_id": "fdffb60713f041379a0310ea550b217d",
       "version_major": 2,
       "version_minor": 0
      },
      "text/plain": [
       "2025-05-30__singularity.parquet:   0%|          | 0.00/88.7k [00:00<?, ?B/s]"
      ]
     },
     "metadata": {},
     "output_type": "display_data"
    },
    {
     "data": {
      "application/vnd.jupyter.widget-view+json": {
       "model_id": "c569149b6e0a4b039c7bd942afb0c0e4",
       "version_major": 2,
       "version_minor": 0
      },
      "text/plain": [
       "2025-05-30__openai.parquet:   0%|          | 0.00/50.6k [00:00<?, ?B/s]"
      ]
     },
     "metadata": {},
     "output_type": "display_data"
    },
    {
     "data": {
      "application/vnd.jupyter.widget-view+json": {
       "model_id": "c6862669361e42048b862f4bd314e700",
       "version_major": 2,
       "version_minor": 0
      },
      "text/plain": [
       "2025-05-31__artificial.parquet:   0%|          | 0.00/34.1k [00:00<?, ?B/s]"
      ]
     },
     "metadata": {},
     "output_type": "display_data"
    },
    {
     "data": {
      "application/vnd.jupyter.widget-view+json": {
       "model_id": "98436288eb734934a80746c56f46e3f3",
       "version_major": 2,
       "version_minor": 0
      },
      "text/plain": [
       "2025-05-31__localllama.parquet:   0%|          | 0.00/82.8k [00:00<?, ?B/s]"
      ]
     },
     "metadata": {},
     "output_type": "display_data"
    },
    {
     "data": {
      "application/vnd.jupyter.widget-view+json": {
       "model_id": "4273f1d1d0e34eb5b9495b552c132d0d",
       "version_major": 2,
       "version_minor": 0
      },
      "text/plain": [
       "2025-05-31__singularity.parquet:   0%|          | 0.00/82.2k [00:00<?, ?B/s]"
      ]
     },
     "metadata": {},
     "output_type": "display_data"
    },
    {
     "data": {
      "application/vnd.jupyter.widget-view+json": {
       "model_id": "e12cda59fafe43db8d005655a913da40",
       "version_major": 2,
       "version_minor": 0
      },
      "text/plain": [
       "2025-05-31__openai.parquet:   0%|          | 0.00/58.9k [00:00<?, ?B/s]"
      ]
     },
     "metadata": {},
     "output_type": "display_data"
    },
    {
     "data": {
      "application/vnd.jupyter.widget-view+json": {
       "model_id": "c0254fe8ee8743688db50c519208007c",
       "version_major": 2,
       "version_minor": 0
      },
      "text/plain": [
       "2025-06-01__artificial.parquet:   0%|          | 0.00/12.9k [00:00<?, ?B/s]"
      ]
     },
     "metadata": {},
     "output_type": "display_data"
    },
    {
     "data": {
      "application/vnd.jupyter.widget-view+json": {
       "model_id": "2b54a17e08034a4387a70a6042ffea2c",
       "version_major": 2,
       "version_minor": 0
      },
      "text/plain": [
       "2025-06-01__localllama.parquet:   0%|          | 0.00/71.4k [00:00<?, ?B/s]"
      ]
     },
     "metadata": {},
     "output_type": "display_data"
    },
    {
     "data": {
      "application/vnd.jupyter.widget-view+json": {
       "model_id": "c636b07f5f85442ea7cd7c9de3a92988",
       "version_major": 2,
       "version_minor": 0
      },
      "text/plain": [
       "2025-06-01__singularity.parquet:   0%|          | 0.00/50.8k [00:00<?, ?B/s]"
      ]
     },
     "metadata": {},
     "output_type": "display_data"
    },
    {
     "data": {
      "application/vnd.jupyter.widget-view+json": {
       "model_id": "a88a12a5548949e69285c8fb32cb6c8f",
       "version_major": 2,
       "version_minor": 0
      },
      "text/plain": [
       "2025-06-01__openai.parquet:   0%|          | 0.00/52.1k [00:00<?, ?B/s]"
      ]
     },
     "metadata": {},
     "output_type": "display_data"
    },
    {
     "data": {
      "application/vnd.jupyter.widget-view+json": {
       "model_id": "ec5a3ca174944a679bf80805d5981e79",
       "version_major": 2,
       "version_minor": 0
      },
      "text/plain": [
       "2025-06-02__artificial.parquet:   0%|          | 0.00/30.2k [00:00<?, ?B/s]"
      ]
     },
     "metadata": {},
     "output_type": "display_data"
    },
    {
     "data": {
      "application/vnd.jupyter.widget-view+json": {
       "model_id": "ad5f8a6c6a014fd4b402d7f331212ef2",
       "version_major": 2,
       "version_minor": 0
      },
      "text/plain": [
       "2025-06-02__localllama.parquet:   0%|          | 0.00/102k [00:00<?, ?B/s]"
      ]
     },
     "metadata": {},
     "output_type": "display_data"
    },
    {
     "data": {
      "application/vnd.jupyter.widget-view+json": {
       "model_id": "744563bd5cbd485aa7bb55794d7fbfbb",
       "version_major": 2,
       "version_minor": 0
      },
      "text/plain": [
       "2025-06-02__singularity.parquet:   0%|          | 0.00/81.2k [00:00<?, ?B/s]"
      ]
     },
     "metadata": {},
     "output_type": "display_data"
    },
    {
     "data": {
      "application/vnd.jupyter.widget-view+json": {
       "model_id": "54b2c7fab6ec45b78bb9da01048b6fe3",
       "version_major": 2,
       "version_minor": 0
      },
      "text/plain": [
       "2025-06-02__openai.parquet:   0%|          | 0.00/59.5k [00:00<?, ?B/s]"
      ]
     },
     "metadata": {},
     "output_type": "display_data"
    },
    {
     "data": {
      "application/vnd.jupyter.widget-view+json": {
       "model_id": "9d2b23456fcf404fb91413d2f28ced9d",
       "version_major": 2,
       "version_minor": 0
      },
      "text/plain": [
       "2025-06-03__artificial.parquet:   0%|          | 0.00/37.6k [00:00<?, ?B/s]"
      ]
     },
     "metadata": {},
     "output_type": "display_data"
    },
    {
     "data": {
      "application/vnd.jupyter.widget-view+json": {
       "model_id": "674defc04a144c4fbb2a450992a1b2f2",
       "version_major": 2,
       "version_minor": 0
      },
      "text/plain": [
       "2025-06-03__localllama.parquet:   0%|          | 0.00/76.1k [00:00<?, ?B/s]"
      ]
     },
     "metadata": {},
     "output_type": "display_data"
    },
    {
     "data": {
      "application/vnd.jupyter.widget-view+json": {
       "model_id": "e84930c46a5c422b9fb7a2689b8560a5",
       "version_major": 2,
       "version_minor": 0
      },
      "text/plain": [
       "2025-06-03__singularity.parquet:   0%|          | 0.00/57.1k [00:00<?, ?B/s]"
      ]
     },
     "metadata": {},
     "output_type": "display_data"
    },
    {
     "data": {
      "application/vnd.jupyter.widget-view+json": {
       "model_id": "73626e3ab52a4f0084c4b95305a0685a",
       "version_major": 2,
       "version_minor": 0
      },
      "text/plain": [
       "2025-06-03__openai.parquet:   0%|          | 0.00/59.1k [00:00<?, ?B/s]"
      ]
     },
     "metadata": {},
     "output_type": "display_data"
    },
    {
     "data": {
      "application/vnd.jupyter.widget-view+json": {
       "model_id": "0310161f060647ac9468e630615a23b2",
       "version_major": 2,
       "version_minor": 0
      },
      "text/plain": [
       "2025-06-04__artificial.parquet:   0%|          | 0.00/35.2k [00:00<?, ?B/s]"
      ]
     },
     "metadata": {},
     "output_type": "display_data"
    },
    {
     "data": {
      "application/vnd.jupyter.widget-view+json": {
       "model_id": "cf77892cf2ad4609aeb14b3ff8619c22",
       "version_major": 2,
       "version_minor": 0
      },
      "text/plain": [
       "2025-06-04__localllama.parquet:   0%|          | 0.00/84.6k [00:00<?, ?B/s]"
      ]
     },
     "metadata": {},
     "output_type": "display_data"
    },
    {
     "data": {
      "application/vnd.jupyter.widget-view+json": {
       "model_id": "6a661e7c21d74c468450b419f8a04bf8",
       "version_major": 2,
       "version_minor": 0
      },
      "text/plain": [
       "2025-06-04__singularity.parquet:   0%|          | 0.00/84.3k [00:00<?, ?B/s]"
      ]
     },
     "metadata": {},
     "output_type": "display_data"
    },
    {
     "data": {
      "application/vnd.jupyter.widget-view+json": {
       "model_id": "f0d0f2d06033432e86853f24aa427af2",
       "version_major": 2,
       "version_minor": 0
      },
      "text/plain": [
       "2025-06-04__openai.parquet:   0%|          | 0.00/88.2k [00:00<?, ?B/s]"
      ]
     },
     "metadata": {},
     "output_type": "display_data"
    },
    {
     "name": "stdout",
     "output_type": "stream",
     "text": [
      "✅ Done – all subreddit shards uploaded.\n"
     ]
    }
   ],
   "source": [
    "# Example call – adjust repo_id / token as needed\n",
    "split_and_upload_by_subreddit(\n",
    "    repo_id=\"hblim/top_reddit_posts_daily\",\n",
    "    source_folder=\"data_scored\",\n",
    "    target_folder=\"data_scored_subreddit\",\n",
    "    overwrite=False,  # set True if you need to regenerate everything\n",
    "    batch_size=50,    # tweak for faster / slower commits\n",
    ")"
   ]
  }
 ],
 "metadata": {
  "kernelspec": {
   "display_name": "Python [conda env:reddit]",
   "language": "python",
   "name": "conda-env-reddit-py"
  },
  "language_info": {
   "codemirror_mode": {
    "name": "ipython",
    "version": 3
   },
   "file_extension": ".py",
   "mimetype": "text/x-python",
   "name": "python",
   "nbconvert_exporter": "python",
   "pygments_lexer": "ipython3",
   "version": "3.11.12"
  }
 },
 "nbformat": 4,
 "nbformat_minor": 5
}
