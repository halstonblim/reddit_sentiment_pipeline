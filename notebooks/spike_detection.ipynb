{
 "cells": [
  {
   "cell_type": "markdown",
   "id": "78a5a468-2d75-4a6b-a352-e0318bc2d091",
   "metadata": {},
   "source": [
    "# Spike Detection Algorithm Analysis\n",
    "\n",
    "Can we automatically detect when there's lots of positive or negative sentiment discussion in a subreddit on a particular day?\n",
    "\n",
    "The goal of the this notebook is to identify \"spikes\" in the daily average sentiment score\n",
    "- We care about both positive or negative spikes\n",
    "- We want the \"spike\" to be significant relative to historical values\n",
    "\n",
    "This notebook\n",
    "- Walks through importing data from the HuggingFace dataset hub\n",
    "- Compares a few different spike definitions based on rolling statistics\n",
    "- Selects the best spike definition based on sanity checking against historical data"
   ]
  },
  {
   "cell_type": "markdown",
   "id": "453c6fa8-2c87-4bc1-96c1-a2505885e36a",
   "metadata": {},
   "source": [
    "### Imports and Definitions"
   ]
  },
  {
   "cell_type": "code",
   "execution_count": 10,
   "id": "a334cc8c-9260-44cc-a2bc-a51860aa207a",
   "metadata": {
    "execution": {
     "iopub.execute_input": "2025-06-24T20:28:05.954210Z",
     "iopub.status.busy": "2025-06-24T20:28:05.954210Z",
     "iopub.status.idle": "2025-06-24T20:28:05.959953Z",
     "shell.execute_reply": "2025-06-24T20:28:05.959953Z",
     "shell.execute_reply.started": "2025-06-24T20:28:05.954210Z"
    }
   },
   "outputs": [],
   "source": [
    "import os\n",
    "import glob\n",
    "import datetime\n",
    "from pathlib import Path\n",
    "from dotenv import load_dotenv\n",
    "import pandas as pd\n",
    "import numpy as np\n",
    "import pyarrow\n",
    "\n",
    "from huggingface_hub import HfApi"
   ]
  },
  {
   "cell_type": "code",
   "execution_count": 5,
   "id": "393c87bf-19ce-41c6-a19d-f0469d080024",
   "metadata": {
    "execution": {
     "iopub.execute_input": "2025-06-24T20:19:36.634460Z",
     "iopub.status.busy": "2025-06-24T20:19:36.634460Z",
     "iopub.status.idle": "2025-06-24T20:19:36.640424Z",
     "shell.execute_reply": "2025-06-24T20:19:36.640424Z",
     "shell.execute_reply.started": "2025-06-24T20:19:36.634460Z"
    }
   },
   "outputs": [],
   "source": [
    "def load_reddit_data(folder='data_scored'):\n",
    "    df = []\n",
    "    repo_id = \"hblim/top_reddit_posts_daily\"\n",
    "    api = HfApi()\n",
    "    all_files = api.list_repo_files(repo_id, repo_type=\"dataset\")\n",
    "    parquet_files = sorted([f for f in all_files if f.startswith(folder) and f.endswith(\".parquet\")])\n",
    "\n",
    "    for shard in parquet_files:\n",
    "        local_path = api.hf_hub_download(repo_id=repo_id, filename=shard, repo_type=\"dataset\")\n",
    "        file_date = os.path.splitext(os.path.basename(local_path))[0]\n",
    "        df.append(pd.read_parquet(local_path).assign(filedate=file_date))\n",
    "\n",
    "    df = pd.concat(df, ignore_index=True)\n",
    "    print(f\"Total records across {df.filedate.nunique()} days: {len(df)}\")\n",
    "    return df"
   ]
  },
  {
   "cell_type": "code",
   "execution_count": 88,
   "id": "23cdc75b-55cf-4bcb-970e-c0339f1a60cb",
   "metadata": {
    "execution": {
     "iopub.execute_input": "2025-06-24T20:57:11.105675Z",
     "iopub.status.busy": "2025-06-24T20:57:11.105675Z",
     "iopub.status.idle": "2025-06-24T20:57:11.115357Z",
     "shell.execute_reply": "2025-06-24T20:57:11.115357Z",
     "shell.execute_reply.started": "2025-06-24T20:57:11.105675Z"
    }
   },
   "outputs": [],
   "source": [
    "def summary_from_df(df: pd.DataFrame, gamma_post: float = 0.3) -> pd.DataFrame:\n",
    "    \"\"\"\n",
    "    Return a DataFrame with daily & subreddit aggregates.\n",
    "\n",
    "    Expects columns:\n",
    "        retrieved_at  - UTC timestamp or ISO-date string\n",
    "        subreddit     - subreddit name\n",
    "        sentiment     - numeric score (e.g. −1 … 1)\n",
    "        score         - numeric weight / post score\n",
    "\n",
    "    Output columns:\n",
    "        date               (datetime.date)\n",
    "        subreddit          (string)\n",
    "        community_weighted_sentiment\n",
    "        count\n",
    "    \"\"\"\n",
    "    # Normalize retrieved_at to datetime and extract calendar day\n",
    "    df = df.copy()\n",
    "    df[\"date\"] = pd.to_datetime(df[\"retrieved_at\"]).dt.date\n",
    "    \n",
    "    # Group by date and subreddit\n",
    "    grouped = df.groupby([\"date\", \"subreddit\"])\n",
    "    \n",
    "    # Aggregate metrics\n",
    "    result = grouped.agg(\n",
    "        # First calculate raw mean_sentiment\n",
    "        raw_mean_sentiment=(\"sentiment\", \"mean\"),\n",
    "        count=(\"sentiment\", \"count\"),\n",
    "    ).reset_index()\n",
    "    \n",
    "    # Apply transformation to raw_mean_sentiment to get values in range [-1, 1] instead of [0, 1]\n",
    "    result[\"mean_sentiment\"] = 2 * result[\"raw_mean_sentiment\"] - 1\n",
    "    \n",
    "    # Remove the raw mean column\n",
    "    result = result.drop(columns=\"raw_mean_sentiment\")\n",
    "    \n",
    "    # Calculate engagement-adjusted sentiment (EAS) for each group\n",
    "    # 1. Ensure 'score' is numeric\n",
    "    df[\"score_num\"] = pd.to_numeric(df[\"score\"], errors=\"coerce\").fillna(0)\n",
    "    # 2. Compute base weights (1 + log1p(score))\n",
    "    weights_base = 1 + np.log1p(df[\"score_num\"].clip(lower=0))\n",
    "    # 3. Apply post weight multiplier\n",
    "    weights = weights_base * np.where(df.get(\"type\", None) == \"post\", gamma_post, 1.0)\n",
    "    df[\"weight\"] = weights\n",
    "    # 4. Compute EAS per group: weighted average of sentiment\n",
    "    community_weighted_sentiments = []\n",
    "    for (date, subreddit), group in grouped:\n",
    "        w = group[\"weight\"]\n",
    "        s = group[\"sentiment\"]\n",
    "        eas = (w * s).sum() / w.sum() if w.sum() > 0 else 0\n",
    "        community_weighted_sentiments.append(eas)\n",
    "    result[\"community_weighted_sentiment\"] = community_weighted_sentiments\n",
    "    \n",
    "    # Normalize community_weighted_sentiment to range [-1,1]\n",
    "    result[\"community_weighted_sentiment\"] = 2 * result[\"community_weighted_sentiment\"] - 1\n",
    "    \n",
    "    # Ensure consistent column order\n",
    "    result = result[[\"date\", \"subreddit\", \"community_weighted_sentiment\"]]\n",
    "    \n",
    "    return result"
   ]
  },
  {
   "cell_type": "code",
   "execution_count": 6,
   "id": "1fa7ab09-eee2-435a-87b8-38acd91c0a4e",
   "metadata": {
    "execution": {
     "iopub.execute_input": "2025-06-24T20:19:39.793691Z",
     "iopub.status.busy": "2025-06-24T20:19:39.793691Z",
     "iopub.status.idle": "2025-06-24T20:20:36.925050Z",
     "shell.execute_reply": "2025-06-24T20:20:36.925050Z",
     "shell.execute_reply.started": "2025-06-24T20:19:39.793691Z"
    },
    "scrolled": true
   },
   "outputs": [
    {
     "data": {
      "application/vnd.jupyter.widget-view+json": {
       "model_id": "f3cfa93b53d44113acd03f5cfa4440e8",
       "version_major": 2,
       "version_minor": 0
      },
      "text/plain": [
       "2025-05-01.parquet:   0%|          | 0.00/271k [00:00<?, ?B/s]"
      ]
     },
     "metadata": {},
     "output_type": "display_data"
    },
    {
     "data": {
      "application/vnd.jupyter.widget-view+json": {
       "model_id": "f3fe7d6f8cf54732b64d38f56df6936a",
       "version_major": 2,
       "version_minor": 0
      },
      "text/plain": [
       "2025-05-02.parquet:   0%|          | 0.00/202k [00:00<?, ?B/s]"
      ]
     },
     "metadata": {},
     "output_type": "display_data"
    },
    {
     "data": {
      "application/vnd.jupyter.widget-view+json": {
       "model_id": "6272b6252f074ab2a80b6d1bbf696a29",
       "version_major": 2,
       "version_minor": 0
      },
      "text/plain": [
       "2025-05-03.parquet:   0%|          | 0.00/231k [00:00<?, ?B/s]"
      ]
     },
     "metadata": {},
     "output_type": "display_data"
    },
    {
     "data": {
      "application/vnd.jupyter.widget-view+json": {
       "model_id": "91623eaa457a4f56a1a4d0627d7d04d7",
       "version_major": 2,
       "version_minor": 0
      },
      "text/plain": [
       "2025-05-04.parquet:   0%|          | 0.00/195k [00:00<?, ?B/s]"
      ]
     },
     "metadata": {},
     "output_type": "display_data"
    },
    {
     "data": {
      "application/vnd.jupyter.widget-view+json": {
       "model_id": "167ec62014b845a1a209a8f0d9f36e0e",
       "version_major": 2,
       "version_minor": 0
      },
      "text/plain": [
       "2025-05-05.parquet:   0%|          | 0.00/225k [00:00<?, ?B/s]"
      ]
     },
     "metadata": {},
     "output_type": "display_data"
    },
    {
     "data": {
      "application/vnd.jupyter.widget-view+json": {
       "model_id": "a1a92aaa511f4429be691987ef35a5b7",
       "version_major": 2,
       "version_minor": 0
      },
      "text/plain": [
       "2025-05-06.parquet:   0%|          | 0.00/225k [00:00<?, ?B/s]"
      ]
     },
     "metadata": {},
     "output_type": "display_data"
    },
    {
     "data": {
      "application/vnd.jupyter.widget-view+json": {
       "model_id": "07146eab3e9e4b22a281824e6818efa5",
       "version_major": 2,
       "version_minor": 0
      },
      "text/plain": [
       "2025-05-07.parquet:   0%|          | 0.00/188k [00:00<?, ?B/s]"
      ]
     },
     "metadata": {},
     "output_type": "display_data"
    },
    {
     "data": {
      "application/vnd.jupyter.widget-view+json": {
       "model_id": "4d23b0c21ea04c86b233841162e38d1f",
       "version_major": 2,
       "version_minor": 0
      },
      "text/plain": [
       "2025-05-08.parquet:   0%|          | 0.00/228k [00:00<?, ?B/s]"
      ]
     },
     "metadata": {},
     "output_type": "display_data"
    },
    {
     "data": {
      "application/vnd.jupyter.widget-view+json": {
       "model_id": "557a003318d9418c964f06986f1fba82",
       "version_major": 2,
       "version_minor": 0
      },
      "text/plain": [
       "2025-05-09.parquet:   0%|          | 0.00/221k [00:00<?, ?B/s]"
      ]
     },
     "metadata": {},
     "output_type": "display_data"
    },
    {
     "data": {
      "application/vnd.jupyter.widget-view+json": {
       "model_id": "6139848c001449e490b7adcf7c919361",
       "version_major": 2,
       "version_minor": 0
      },
      "text/plain": [
       "2025-05-10.parquet:   0%|          | 0.00/190k [00:00<?, ?B/s]"
      ]
     },
     "metadata": {},
     "output_type": "display_data"
    },
    {
     "data": {
      "application/vnd.jupyter.widget-view+json": {
       "model_id": "001778665a574cdd8af8b14ba3d0b4ce",
       "version_major": 2,
       "version_minor": 0
      },
      "text/plain": [
       "2025-05-11.parquet:   0%|          | 0.00/193k [00:00<?, ?B/s]"
      ]
     },
     "metadata": {},
     "output_type": "display_data"
    },
    {
     "data": {
      "application/vnd.jupyter.widget-view+json": {
       "model_id": "77e882a069024c50bc056f51d4cacf6e",
       "version_major": 2,
       "version_minor": 0
      },
      "text/plain": [
       "2025-05-12.parquet:   0%|          | 0.00/230k [00:00<?, ?B/s]"
      ]
     },
     "metadata": {},
     "output_type": "display_data"
    },
    {
     "data": {
      "application/vnd.jupyter.widget-view+json": {
       "model_id": "045bb7a9d75b4995b0c0b639b857b4d2",
       "version_major": 2,
       "version_minor": 0
      },
      "text/plain": [
       "2025-05-13.parquet:   0%|          | 0.00/221k [00:00<?, ?B/s]"
      ]
     },
     "metadata": {},
     "output_type": "display_data"
    },
    {
     "data": {
      "application/vnd.jupyter.widget-view+json": {
       "model_id": "78053af6a8ff495ea3b488a359289afd",
       "version_major": 2,
       "version_minor": 0
      },
      "text/plain": [
       "2025-05-14.parquet:   0%|          | 0.00/252k [00:00<?, ?B/s]"
      ]
     },
     "metadata": {},
     "output_type": "display_data"
    },
    {
     "data": {
      "application/vnd.jupyter.widget-view+json": {
       "model_id": "6f324c3c982d4a8d8b1467cf03eedef2",
       "version_major": 2,
       "version_minor": 0
      },
      "text/plain": [
       "2025-05-15.parquet:   0%|          | 0.00/238k [00:00<?, ?B/s]"
      ]
     },
     "metadata": {},
     "output_type": "display_data"
    },
    {
     "data": {
      "application/vnd.jupyter.widget-view+json": {
       "model_id": "23249f24f535451cbd3f6b9cec5ecfc3",
       "version_major": 2,
       "version_minor": 0
      },
      "text/plain": [
       "2025-05-16.parquet:   0%|          | 0.00/215k [00:00<?, ?B/s]"
      ]
     },
     "metadata": {},
     "output_type": "display_data"
    },
    {
     "data": {
      "application/vnd.jupyter.widget-view+json": {
       "model_id": "4ce21847629e409fb8d49617a0c5870b",
       "version_major": 2,
       "version_minor": 0
      },
      "text/plain": [
       "2025-05-17.parquet:   0%|          | 0.00/211k [00:00<?, ?B/s]"
      ]
     },
     "metadata": {},
     "output_type": "display_data"
    },
    {
     "data": {
      "application/vnd.jupyter.widget-view+json": {
       "model_id": "2efd54ad7e814dc1a1faaea391234abf",
       "version_major": 2,
       "version_minor": 0
      },
      "text/plain": [
       "2025-05-18.parquet:   0%|          | 0.00/181k [00:00<?, ?B/s]"
      ]
     },
     "metadata": {},
     "output_type": "display_data"
    },
    {
     "data": {
      "application/vnd.jupyter.widget-view+json": {
       "model_id": "fcf2fc41d71349a0939678710376f060",
       "version_major": 2,
       "version_minor": 0
      },
      "text/plain": [
       "2025-05-19.parquet:   0%|          | 0.00/203k [00:00<?, ?B/s]"
      ]
     },
     "metadata": {},
     "output_type": "display_data"
    },
    {
     "data": {
      "application/vnd.jupyter.widget-view+json": {
       "model_id": "448ba922e1c942648cb74984060416cd",
       "version_major": 2,
       "version_minor": 0
      },
      "text/plain": [
       "2025-05-20.parquet:   0%|          | 0.00/200k [00:00<?, ?B/s]"
      ]
     },
     "metadata": {},
     "output_type": "display_data"
    },
    {
     "data": {
      "application/vnd.jupyter.widget-view+json": {
       "model_id": "35bb88db7aad461da75dddc56c33ebf2",
       "version_major": 2,
       "version_minor": 0
      },
      "text/plain": [
       "2025-05-21.parquet:   0%|          | 0.00/305k [00:00<?, ?B/s]"
      ]
     },
     "metadata": {},
     "output_type": "display_data"
    },
    {
     "data": {
      "application/vnd.jupyter.widget-view+json": {
       "model_id": "392c4029049b46c6b8cf248ec76eef36",
       "version_major": 2,
       "version_minor": 0
      },
      "text/plain": [
       "2025-05-22.parquet:   0%|          | 0.00/268k [00:00<?, ?B/s]"
      ]
     },
     "metadata": {},
     "output_type": "display_data"
    },
    {
     "data": {
      "application/vnd.jupyter.widget-view+json": {
       "model_id": "2c45f91c988d456da302343010ad492b",
       "version_major": 2,
       "version_minor": 0
      },
      "text/plain": [
       "2025-05-23.parquet:   0%|          | 0.00/245k [00:00<?, ?B/s]"
      ]
     },
     "metadata": {},
     "output_type": "display_data"
    },
    {
     "data": {
      "application/vnd.jupyter.widget-view+json": {
       "model_id": "a96b68c39bdc42e6ad64837a2991280d",
       "version_major": 2,
       "version_minor": 0
      },
      "text/plain": [
       "2025-05-24.parquet:   0%|          | 0.00/255k [00:00<?, ?B/s]"
      ]
     },
     "metadata": {},
     "output_type": "display_data"
    },
    {
     "data": {
      "application/vnd.jupyter.widget-view+json": {
       "model_id": "8f30908200f448929bd0325a6432c51d",
       "version_major": 2,
       "version_minor": 0
      },
      "text/plain": [
       "2025-05-25.parquet:   0%|          | 0.00/232k [00:00<?, ?B/s]"
      ]
     },
     "metadata": {},
     "output_type": "display_data"
    },
    {
     "data": {
      "application/vnd.jupyter.widget-view+json": {
       "model_id": "6b62038d0cfe4497bf7fe7cd49ee6b5d",
       "version_major": 2,
       "version_minor": 0
      },
      "text/plain": [
       "2025-05-26.parquet:   0%|          | 0.00/229k [00:00<?, ?B/s]"
      ]
     },
     "metadata": {},
     "output_type": "display_data"
    },
    {
     "data": {
      "application/vnd.jupyter.widget-view+json": {
       "model_id": "1ae15301b7d74939ae7d7338ff3ccde7",
       "version_major": 2,
       "version_minor": 0
      },
      "text/plain": [
       "2025-05-27.parquet:   0%|          | 0.00/232k [00:00<?, ?B/s]"
      ]
     },
     "metadata": {},
     "output_type": "display_data"
    },
    {
     "data": {
      "application/vnd.jupyter.widget-view+json": {
       "model_id": "50d618343bbd410a9248c9f2354a3877",
       "version_major": 2,
       "version_minor": 0
      },
      "text/plain": [
       "2025-05-28.parquet:   0%|          | 0.00/270k [00:00<?, ?B/s]"
      ]
     },
     "metadata": {},
     "output_type": "display_data"
    },
    {
     "data": {
      "application/vnd.jupyter.widget-view+json": {
       "model_id": "64313ee4a2ca4b1f968868077b775b21",
       "version_major": 2,
       "version_minor": 0
      },
      "text/plain": [
       "2025-05-29.parquet:   0%|          | 0.00/262k [00:00<?, ?B/s]"
      ]
     },
     "metadata": {},
     "output_type": "display_data"
    },
    {
     "data": {
      "application/vnd.jupyter.widget-view+json": {
       "model_id": "94a5b60af6214eec84bc593fe9488bf2",
       "version_major": 2,
       "version_minor": 0
      },
      "text/plain": [
       "2025-05-30.parquet:   0%|          | 0.00/240k [00:00<?, ?B/s]"
      ]
     },
     "metadata": {},
     "output_type": "display_data"
    },
    {
     "data": {
      "application/vnd.jupyter.widget-view+json": {
       "model_id": "8cf842375cb7493682fad51a764b00a9",
       "version_major": 2,
       "version_minor": 0
      },
      "text/plain": [
       "2025-05-31.parquet:   0%|          | 0.00/231k [00:00<?, ?B/s]"
      ]
     },
     "metadata": {},
     "output_type": "display_data"
    },
    {
     "data": {
      "application/vnd.jupyter.widget-view+json": {
       "model_id": "3aa3c4c00dfb493db08a0fca4e315637",
       "version_major": 2,
       "version_minor": 0
      },
      "text/plain": [
       "2025-06-01.parquet:   0%|          | 0.00/167k [00:00<?, ?B/s]"
      ]
     },
     "metadata": {},
     "output_type": "display_data"
    },
    {
     "data": {
      "application/vnd.jupyter.widget-view+json": {
       "model_id": "692fdf51a44d4de98c37aeff3db54e65",
       "version_major": 2,
       "version_minor": 0
      },
      "text/plain": [
       "2025-06-02.parquet:   0%|          | 0.00/250k [00:00<?, ?B/s]"
      ]
     },
     "metadata": {},
     "output_type": "display_data"
    },
    {
     "data": {
      "application/vnd.jupyter.widget-view+json": {
       "model_id": "2d2441511bc84fcbb0e9c87b408fe0c9",
       "version_major": 2,
       "version_minor": 0
      },
      "text/plain": [
       "2025-06-03.parquet:   0%|          | 0.00/206k [00:00<?, ?B/s]"
      ]
     },
     "metadata": {},
     "output_type": "display_data"
    },
    {
     "data": {
      "application/vnd.jupyter.widget-view+json": {
       "model_id": "fea555d769be44379bd195186551707c",
       "version_major": 2,
       "version_minor": 0
      },
      "text/plain": [
       "2025-06-04.parquet:   0%|          | 0.00/269k [00:00<?, ?B/s]"
      ]
     },
     "metadata": {},
     "output_type": "display_data"
    },
    {
     "data": {
      "application/vnd.jupyter.widget-view+json": {
       "model_id": "b4eb16ce0f454f0683dc2b58ce929b22",
       "version_major": 2,
       "version_minor": 0
      },
      "text/plain": [
       "2025-05-01__artificial.parquet:   0%|          | 0.00/36.2k [00:00<?, ?B/s]"
      ]
     },
     "metadata": {},
     "output_type": "display_data"
    },
    {
     "data": {
      "application/vnd.jupyter.widget-view+json": {
       "model_id": "35d6bdba85cd44e3b92aa4c4e02fd303",
       "version_major": 2,
       "version_minor": 0
      },
      "text/plain": [
       "2025-05-01__localllama.parquet:   0%|          | 0.00/151k [00:00<?, ?B/s]"
      ]
     },
     "metadata": {},
     "output_type": "display_data"
    },
    {
     "data": {
      "application/vnd.jupyter.widget-view+json": {
       "model_id": "d2a65e209da24795a0d6339a169deed1",
       "version_major": 2,
       "version_minor": 0
      },
      "text/plain": [
       "2025-05-01__openai.parquet:   0%|          | 0.00/59.1k [00:00<?, ?B/s]"
      ]
     },
     "metadata": {},
     "output_type": "display_data"
    },
    {
     "data": {
      "application/vnd.jupyter.widget-view+json": {
       "model_id": "c7d84d23c4524ebb8f403f8b59cc975a",
       "version_major": 2,
       "version_minor": 0
      },
      "text/plain": [
       "2025-05-01__singularity.parquet:   0%|          | 0.00/51.6k [00:00<?, ?B/s]"
      ]
     },
     "metadata": {},
     "output_type": "display_data"
    },
    {
     "data": {
      "application/vnd.jupyter.widget-view+json": {
       "model_id": "9594303a0104450d882ed3e6b0012591",
       "version_major": 2,
       "version_minor": 0
      },
      "text/plain": [
       "2025-05-02__artificial.parquet:   0%|          | 0.00/25.5k [00:00<?, ?B/s]"
      ]
     },
     "metadata": {},
     "output_type": "display_data"
    },
    {
     "data": {
      "application/vnd.jupyter.widget-view+json": {
       "model_id": "166e3487807d4eed9ff45ce67c929091",
       "version_major": 2,
       "version_minor": 0
      },
      "text/plain": [
       "2025-05-02__localllama.parquet:   0%|          | 0.00/89.5k [00:00<?, ?B/s]"
      ]
     },
     "metadata": {},
     "output_type": "display_data"
    },
    {
     "data": {
      "application/vnd.jupyter.widget-view+json": {
       "model_id": "b6216595b2f3435886ce1f351ee4f2da",
       "version_major": 2,
       "version_minor": 0
      },
      "text/plain": [
       "2025-05-02__openai.parquet:   0%|          | 0.00/66.8k [00:00<?, ?B/s]"
      ]
     },
     "metadata": {},
     "output_type": "display_data"
    },
    {
     "data": {
      "application/vnd.jupyter.widget-view+json": {
       "model_id": "f73dee7b7dc54ff19bffabeb45137139",
       "version_major": 2,
       "version_minor": 0
      },
      "text/plain": [
       "2025-05-02__singularity.parquet:   0%|          | 0.00/44.8k [00:00<?, ?B/s]"
      ]
     },
     "metadata": {},
     "output_type": "display_data"
    },
    {
     "data": {
      "application/vnd.jupyter.widget-view+json": {
       "model_id": "856691399bba4055a4cd07709597f459",
       "version_major": 2,
       "version_minor": 0
      },
      "text/plain": [
       "2025-05-03__artificial.parquet:   0%|          | 0.00/25.3k [00:00<?, ?B/s]"
      ]
     },
     "metadata": {},
     "output_type": "display_data"
    },
    {
     "data": {
      "application/vnd.jupyter.widget-view+json": {
       "model_id": "0e29e9f155b647c8a7bc4caf3c0aeb99",
       "version_major": 2,
       "version_minor": 0
      },
      "text/plain": [
       "2025-05-03__localllama.parquet:   0%|          | 0.00/113k [00:00<?, ?B/s]"
      ]
     },
     "metadata": {},
     "output_type": "display_data"
    },
    {
     "data": {
      "application/vnd.jupyter.widget-view+json": {
       "model_id": "d418709147b74793b8264b78343f13da",
       "version_major": 2,
       "version_minor": 0
      },
      "text/plain": [
       "2025-05-03__openai.parquet:   0%|          | 0.00/60.2k [00:00<?, ?B/s]"
      ]
     },
     "metadata": {},
     "output_type": "display_data"
    },
    {
     "data": {
      "application/vnd.jupyter.widget-view+json": {
       "model_id": "0b01db739f4e43958ef91e5c91c9ad15",
       "version_major": 2,
       "version_minor": 0
      },
      "text/plain": [
       "2025-05-03__singularity.parquet:   0%|          | 0.00/57.9k [00:00<?, ?B/s]"
      ]
     },
     "metadata": {},
     "output_type": "display_data"
    },
    {
     "data": {
      "application/vnd.jupyter.widget-view+json": {
       "model_id": "561e5abd7cd648588fa0b78fa5f1d19b",
       "version_major": 2,
       "version_minor": 0
      },
      "text/plain": [
       "2025-05-04__artificial.parquet:   0%|          | 0.00/23.6k [00:00<?, ?B/s]"
      ]
     },
     "metadata": {},
     "output_type": "display_data"
    },
    {
     "data": {
      "application/vnd.jupyter.widget-view+json": {
       "model_id": "fe34de3d78a54d0391415cf87706b172",
       "version_major": 2,
       "version_minor": 0
      },
      "text/plain": [
       "2025-05-04__localllama.parquet:   0%|          | 0.00/83.6k [00:00<?, ?B/s]"
      ]
     },
     "metadata": {},
     "output_type": "display_data"
    },
    {
     "data": {
      "application/vnd.jupyter.widget-view+json": {
       "model_id": "bbf7de0cd43a496987730125417dc39c",
       "version_major": 2,
       "version_minor": 0
      },
      "text/plain": [
       "2025-05-04__openai.parquet:   0%|          | 0.00/68.2k [00:00<?, ?B/s]"
      ]
     },
     "metadata": {},
     "output_type": "display_data"
    },
    {
     "data": {
      "application/vnd.jupyter.widget-view+json": {
       "model_id": "994094adf628404bb493b6c0dd708e7a",
       "version_major": 2,
       "version_minor": 0
      },
      "text/plain": [
       "2025-05-04__singularity.parquet:   0%|          | 0.00/42.0k [00:00<?, ?B/s]"
      ]
     },
     "metadata": {},
     "output_type": "display_data"
    },
    {
     "data": {
      "application/vnd.jupyter.widget-view+json": {
       "model_id": "028dbf00d64842a98a3f0af7ec1498be",
       "version_major": 2,
       "version_minor": 0
      },
      "text/plain": [
       "2025-05-05__artificial.parquet:   0%|          | 0.00/12.2k [00:00<?, ?B/s]"
      ]
     },
     "metadata": {},
     "output_type": "display_data"
    },
    {
     "data": {
      "application/vnd.jupyter.widget-view+json": {
       "model_id": "3f4ae6aeac7b4e0198da9e8cc4bde8ca",
       "version_major": 2,
       "version_minor": 0
      },
      "text/plain": [
       "2025-05-05__localllama.parquet:   0%|          | 0.00/108k [00:00<?, ?B/s]"
      ]
     },
     "metadata": {},
     "output_type": "display_data"
    },
    {
     "data": {
      "application/vnd.jupyter.widget-view+json": {
       "model_id": "36de60a644ea4e3f912fbaa4d72fb499",
       "version_major": 2,
       "version_minor": 0
      },
      "text/plain": [
       "2025-05-05__openai.parquet:   0%|          | 0.00/65.9k [00:00<?, ?B/s]"
      ]
     },
     "metadata": {},
     "output_type": "display_data"
    },
    {
     "data": {
      "application/vnd.jupyter.widget-view+json": {
       "model_id": "2c82efd122194fcfaa37c5d552b07725",
       "version_major": 2,
       "version_minor": 0
      },
      "text/plain": [
       "2025-05-05__singularity.parquet:   0%|          | 0.00/62.5k [00:00<?, ?B/s]"
      ]
     },
     "metadata": {},
     "output_type": "display_data"
    },
    {
     "data": {
      "application/vnd.jupyter.widget-view+json": {
       "model_id": "e435687b60b246b7960b0fa6549d6a25",
       "version_major": 2,
       "version_minor": 0
      },
      "text/plain": [
       "2025-05-06__artificial.parquet:   0%|          | 0.00/32.2k [00:00<?, ?B/s]"
      ]
     },
     "metadata": {},
     "output_type": "display_data"
    },
    {
     "data": {
      "application/vnd.jupyter.widget-view+json": {
       "model_id": "c5a8366de0334457ab249962518859a3",
       "version_major": 2,
       "version_minor": 0
      },
      "text/plain": [
       "2025-05-06__localllama.parquet:   0%|          | 0.00/107k [00:00<?, ?B/s]"
      ]
     },
     "metadata": {},
     "output_type": "display_data"
    },
    {
     "data": {
      "application/vnd.jupyter.widget-view+json": {
       "model_id": "4d110549a4e24faba3aa5bba275033ce",
       "version_major": 2,
       "version_minor": 0
      },
      "text/plain": [
       "2025-05-06__openai.parquet:   0%|          | 0.00/68.4k [00:00<?, ?B/s]"
      ]
     },
     "metadata": {},
     "output_type": "display_data"
    },
    {
     "data": {
      "application/vnd.jupyter.widget-view+json": {
       "model_id": "dd368db1c2e844c7b5cdc443f697aa97",
       "version_major": 2,
       "version_minor": 0
      },
      "text/plain": [
       "2025-05-06__singularity.parquet:   0%|          | 0.00/41.9k [00:00<?, ?B/s]"
      ]
     },
     "metadata": {},
     "output_type": "display_data"
    },
    {
     "data": {
      "application/vnd.jupyter.widget-view+json": {
       "model_id": "7337a3f6306a450c8a54fff62b5d5e07",
       "version_major": 2,
       "version_minor": 0
      },
      "text/plain": [
       "2025-05-07__artificial.parquet:   0%|          | 0.00/32.8k [00:00<?, ?B/s]"
      ]
     },
     "metadata": {},
     "output_type": "display_data"
    },
    {
     "data": {
      "application/vnd.jupyter.widget-view+json": {
       "model_id": "72c1a99283354508ac51411eb30f9473",
       "version_major": 2,
       "version_minor": 0
      },
      "text/plain": [
       "2025-05-07__localllama.parquet:   0%|          | 0.00/89.0k [00:00<?, ?B/s]"
      ]
     },
     "metadata": {},
     "output_type": "display_data"
    },
    {
     "data": {
      "application/vnd.jupyter.widget-view+json": {
       "model_id": "c013dd0958194f31845abdab55dc2a17",
       "version_major": 2,
       "version_minor": 0
      },
      "text/plain": [
       "2025-05-07__openai.parquet:   0%|          | 0.00/46.6k [00:00<?, ?B/s]"
      ]
     },
     "metadata": {},
     "output_type": "display_data"
    },
    {
     "data": {
      "application/vnd.jupyter.widget-view+json": {
       "model_id": "89df0eec135e4c3297ff1ca2270241f6",
       "version_major": 2,
       "version_minor": 0
      },
      "text/plain": [
       "2025-05-07__singularity.parquet:   0%|          | 0.00/45.4k [00:00<?, ?B/s]"
      ]
     },
     "metadata": {},
     "output_type": "display_data"
    },
    {
     "data": {
      "application/vnd.jupyter.widget-view+json": {
       "model_id": "7550f2bbd2a442b68103e402d90802e6",
       "version_major": 2,
       "version_minor": 0
      },
      "text/plain": [
       "2025-05-08__artificial.parquet:   0%|          | 0.00/21.3k [00:00<?, ?B/s]"
      ]
     },
     "metadata": {},
     "output_type": "display_data"
    },
    {
     "data": {
      "application/vnd.jupyter.widget-view+json": {
       "model_id": "4c520944074d42dd9d244c01dade2318",
       "version_major": 2,
       "version_minor": 0
      },
      "text/plain": [
       "2025-05-08__localllama.parquet:   0%|          | 0.00/96.9k [00:00<?, ?B/s]"
      ]
     },
     "metadata": {},
     "output_type": "display_data"
    },
    {
     "data": {
      "application/vnd.jupyter.widget-view+json": {
       "model_id": "7d127b9b1f3141f190b5ee9ce830b888",
       "version_major": 2,
       "version_minor": 0
      },
      "text/plain": [
       "2025-05-08__openai.parquet:   0%|          | 0.00/72.3k [00:00<?, ?B/s]"
      ]
     },
     "metadata": {},
     "output_type": "display_data"
    },
    {
     "data": {
      "application/vnd.jupyter.widget-view+json": {
       "model_id": "08e608284df4480289fbb35682b163e8",
       "version_major": 2,
       "version_minor": 0
      },
      "text/plain": [
       "2025-05-08__singularity.parquet:   0%|          | 0.00/61.1k [00:00<?, ?B/s]"
      ]
     },
     "metadata": {},
     "output_type": "display_data"
    },
    {
     "data": {
      "application/vnd.jupyter.widget-view+json": {
       "model_id": "65ab5413aa374b088631411d83cd6c3a",
       "version_major": 2,
       "version_minor": 0
      },
      "text/plain": [
       "2025-05-09__artificial.parquet:   0%|          | 0.00/18.5k [00:00<?, ?B/s]"
      ]
     },
     "metadata": {},
     "output_type": "display_data"
    },
    {
     "data": {
      "application/vnd.jupyter.widget-view+json": {
       "model_id": "3fd68a608ed047efb22660c734530003",
       "version_major": 2,
       "version_minor": 0
      },
      "text/plain": [
       "2025-05-09__localllama.parquet:   0%|          | 0.00/95.1k [00:00<?, ?B/s]"
      ]
     },
     "metadata": {},
     "output_type": "display_data"
    },
    {
     "data": {
      "application/vnd.jupyter.widget-view+json": {
       "model_id": "4f422fb4310844208bbeb7e1489bc5db",
       "version_major": 2,
       "version_minor": 0
      },
      "text/plain": [
       "2025-05-09__openai.parquet:   0%|          | 0.00/66.6k [00:00<?, ?B/s]"
      ]
     },
     "metadata": {},
     "output_type": "display_data"
    },
    {
     "data": {
      "application/vnd.jupyter.widget-view+json": {
       "model_id": "849b0745288748beb7f611e867e504a1",
       "version_major": 2,
       "version_minor": 0
      },
      "text/plain": [
       "2025-05-09__singularity.parquet:   0%|          | 0.00/64.4k [00:00<?, ?B/s]"
      ]
     },
     "metadata": {},
     "output_type": "display_data"
    },
    {
     "data": {
      "application/vnd.jupyter.widget-view+json": {
       "model_id": "9f4d4dab02af4923b3eef93631a450b3",
       "version_major": 2,
       "version_minor": 0
      },
      "text/plain": [
       "2025-05-10__artificial.parquet:   0%|          | 0.00/27.6k [00:00<?, ?B/s]"
      ]
     },
     "metadata": {},
     "output_type": "display_data"
    },
    {
     "data": {
      "application/vnd.jupyter.widget-view+json": {
       "model_id": "391fb189aab74eb6ae354ee3de2916a5",
       "version_major": 2,
       "version_minor": 0
      },
      "text/plain": [
       "2025-05-10__localllama.parquet:   0%|          | 0.00/74.8k [00:00<?, ?B/s]"
      ]
     },
     "metadata": {},
     "output_type": "display_data"
    },
    {
     "data": {
      "application/vnd.jupyter.widget-view+json": {
       "model_id": "e2ff04149bcc418883725239f2746c35",
       "version_major": 2,
       "version_minor": 0
      },
      "text/plain": [
       "2025-05-10__openai.parquet:   0%|          | 0.00/62.1k [00:00<?, ?B/s]"
      ]
     },
     "metadata": {},
     "output_type": "display_data"
    },
    {
     "data": {
      "application/vnd.jupyter.widget-view+json": {
       "model_id": "805a5cc3c2f1463599be54a841f1be84",
       "version_major": 2,
       "version_minor": 0
      },
      "text/plain": [
       "2025-05-10__singularity.parquet:   0%|          | 0.00/49.6k [00:00<?, ?B/s]"
      ]
     },
     "metadata": {},
     "output_type": "display_data"
    },
    {
     "data": {
      "application/vnd.jupyter.widget-view+json": {
       "model_id": "5f8c4d3ac50a43108f333a5a51a1e8c6",
       "version_major": 2,
       "version_minor": 0
      },
      "text/plain": [
       "2025-05-11__artificial.parquet:   0%|          | 0.00/24.4k [00:00<?, ?B/s]"
      ]
     },
     "metadata": {},
     "output_type": "display_data"
    },
    {
     "data": {
      "application/vnd.jupyter.widget-view+json": {
       "model_id": "4fe1edee61e6496fa246d1a30bad7b0f",
       "version_major": 2,
       "version_minor": 0
      },
      "text/plain": [
       "2025-05-11__localllama.parquet:   0%|          | 0.00/87.3k [00:00<?, ?B/s]"
      ]
     },
     "metadata": {},
     "output_type": "display_data"
    },
    {
     "data": {
      "application/vnd.jupyter.widget-view+json": {
       "model_id": "6231ea449483439284c4d65cd755302d",
       "version_major": 2,
       "version_minor": 0
      },
      "text/plain": [
       "2025-05-11__openai.parquet:   0%|          | 0.00/61.2k [00:00<?, ?B/s]"
      ]
     },
     "metadata": {},
     "output_type": "display_data"
    },
    {
     "data": {
      "application/vnd.jupyter.widget-view+json": {
       "model_id": "26721c52ae46485da890af7e7cbbe3b7",
       "version_major": 2,
       "version_minor": 0
      },
      "text/plain": [
       "2025-05-11__singularity.parquet:   0%|          | 0.00/43.2k [00:00<?, ?B/s]"
      ]
     },
     "metadata": {},
     "output_type": "display_data"
    },
    {
     "data": {
      "application/vnd.jupyter.widget-view+json": {
       "model_id": "e7848b9e2c234ea79c7e73cb3f807cfb",
       "version_major": 2,
       "version_minor": 0
      },
      "text/plain": [
       "2025-05-12__artificial.parquet:   0%|          | 0.00/34.5k [00:00<?, ?B/s]"
      ]
     },
     "metadata": {},
     "output_type": "display_data"
    },
    {
     "data": {
      "application/vnd.jupyter.widget-view+json": {
       "model_id": "99fed3cd3bf444a792f55e96c1603101",
       "version_major": 2,
       "version_minor": 0
      },
      "text/plain": [
       "2025-05-12__localllama.parquet:   0%|          | 0.00/91.9k [00:00<?, ?B/s]"
      ]
     },
     "metadata": {},
     "output_type": "display_data"
    },
    {
     "data": {
      "application/vnd.jupyter.widget-view+json": {
       "model_id": "72c174e6010e4ffb9cc5d4264c1232bf",
       "version_major": 2,
       "version_minor": 0
      },
      "text/plain": [
       "2025-05-12__openai.parquet:   0%|          | 0.00/63.9k [00:00<?, ?B/s]"
      ]
     },
     "metadata": {},
     "output_type": "display_data"
    },
    {
     "data": {
      "application/vnd.jupyter.widget-view+json": {
       "model_id": "a48686a0b45f46ff8b898070afb54f8d",
       "version_major": 2,
       "version_minor": 0
      },
      "text/plain": [
       "2025-05-12__singularity.parquet:   0%|          | 0.00/67.2k [00:00<?, ?B/s]"
      ]
     },
     "metadata": {},
     "output_type": "display_data"
    },
    {
     "data": {
      "application/vnd.jupyter.widget-view+json": {
       "model_id": "51dd437876e54521b0f0110e56ed2691",
       "version_major": 2,
       "version_minor": 0
      },
      "text/plain": [
       "2025-05-13__artificial.parquet:   0%|          | 0.00/31.6k [00:00<?, ?B/s]"
      ]
     },
     "metadata": {},
     "output_type": "display_data"
    },
    {
     "data": {
      "application/vnd.jupyter.widget-view+json": {
       "model_id": "f2224d5271394e359e7f44dddb9745c6",
       "version_major": 2,
       "version_minor": 0
      },
      "text/plain": [
       "2025-05-13__localllama.parquet:   0%|          | 0.00/110k [00:00<?, ?B/s]"
      ]
     },
     "metadata": {},
     "output_type": "display_data"
    },
    {
     "data": {
      "application/vnd.jupyter.widget-view+json": {
       "model_id": "5d555c9b262c40bbbe0e54b953ecf31b",
       "version_major": 2,
       "version_minor": 0
      },
      "text/plain": [
       "2025-05-13__openai.parquet:   0%|          | 0.00/77.2k [00:00<?, ?B/s]"
      ]
     },
     "metadata": {},
     "output_type": "display_data"
    },
    {
     "data": {
      "application/vnd.jupyter.widget-view+json": {
       "model_id": "2c3364bdb57c4baab47b006ebcb26824",
       "version_major": 2,
       "version_minor": 0
      },
      "text/plain": [
       "2025-05-13__singularity.parquet:   0%|          | 0.00/34.1k [00:00<?, ?B/s]"
      ]
     },
     "metadata": {},
     "output_type": "display_data"
    },
    {
     "data": {
      "application/vnd.jupyter.widget-view+json": {
       "model_id": "ed3ede1265c645c1a5aa4d56ec0d516b",
       "version_major": 2,
       "version_minor": 0
      },
      "text/plain": [
       "2025-05-14__artificial.parquet:   0%|          | 0.00/44.0k [00:00<?, ?B/s]"
      ]
     },
     "metadata": {},
     "output_type": "display_data"
    },
    {
     "data": {
      "application/vnd.jupyter.widget-view+json": {
       "model_id": "efed8acaa2a048debf1a01cf138682a4",
       "version_major": 2,
       "version_minor": 0
      },
      "text/plain": [
       "2025-05-14__localllama.parquet:   0%|          | 0.00/86.7k [00:00<?, ?B/s]"
      ]
     },
     "metadata": {},
     "output_type": "display_data"
    },
    {
     "data": {
      "application/vnd.jupyter.widget-view+json": {
       "model_id": "923116a9c79d4d718aac98468baec58a",
       "version_major": 2,
       "version_minor": 0
      },
      "text/plain": [
       "2025-05-14__openai.parquet:   0%|          | 0.00/77.2k [00:00<?, ?B/s]"
      ]
     },
     "metadata": {},
     "output_type": "display_data"
    },
    {
     "data": {
      "application/vnd.jupyter.widget-view+json": {
       "model_id": "eee9c45a21d5441b9d932a69e7bb4c7b",
       "version_major": 2,
       "version_minor": 0
      },
      "text/plain": [
       "2025-05-14__singularity.parquet:   0%|          | 0.00/67.7k [00:00<?, ?B/s]"
      ]
     },
     "metadata": {},
     "output_type": "display_data"
    },
    {
     "data": {
      "application/vnd.jupyter.widget-view+json": {
       "model_id": "72b9ffd7e06942e98de2bb9ab67086de",
       "version_major": 2,
       "version_minor": 0
      },
      "text/plain": [
       "2025-05-15__artificial.parquet:   0%|          | 0.00/27.5k [00:00<?, ?B/s]"
      ]
     },
     "metadata": {},
     "output_type": "display_data"
    },
    {
     "data": {
      "application/vnd.jupyter.widget-view+json": {
       "model_id": "8e7093b7e593437890ac7cc8205b57f3",
       "version_major": 2,
       "version_minor": 0
      },
      "text/plain": [
       "2025-05-15__localllama.parquet:   0%|          | 0.00/91.4k [00:00<?, ?B/s]"
      ]
     },
     "metadata": {},
     "output_type": "display_data"
    },
    {
     "data": {
      "application/vnd.jupyter.widget-view+json": {
       "model_id": "9c29a56ca41e40fe93f847fef80cbf3d",
       "version_major": 2,
       "version_minor": 0
      },
      "text/plain": [
       "2025-05-15__openai.parquet:   0%|          | 0.00/62.5k [00:00<?, ?B/s]"
      ]
     },
     "metadata": {},
     "output_type": "display_data"
    },
    {
     "data": {
      "application/vnd.jupyter.widget-view+json": {
       "model_id": "f7a4710d3c1b4609a06cc30fc6d29452",
       "version_major": 2,
       "version_minor": 0
      },
      "text/plain": [
       "2025-05-15__singularity.parquet:   0%|          | 0.00/87.4k [00:00<?, ?B/s]"
      ]
     },
     "metadata": {},
     "output_type": "display_data"
    },
    {
     "data": {
      "application/vnd.jupyter.widget-view+json": {
       "model_id": "29ae478afa064f3e985e89f7c0d4f826",
       "version_major": 2,
       "version_minor": 0
      },
      "text/plain": [
       "2025-05-16__artificial.parquet:   0%|          | 0.00/28.3k [00:00<?, ?B/s]"
      ]
     },
     "metadata": {},
     "output_type": "display_data"
    },
    {
     "data": {
      "application/vnd.jupyter.widget-view+json": {
       "model_id": "e9a20fa7d3424c53a71f0b9c26c3a66c",
       "version_major": 2,
       "version_minor": 0
      },
      "text/plain": [
       "2025-05-16__localllama.parquet:   0%|          | 0.00/88.7k [00:00<?, ?B/s]"
      ]
     },
     "metadata": {},
     "output_type": "display_data"
    },
    {
     "data": {
      "application/vnd.jupyter.widget-view+json": {
       "model_id": "3fc0d2240ba048ebb231dbcd1c03b5cb",
       "version_major": 2,
       "version_minor": 0
      },
      "text/plain": [
       "2025-05-16__openai.parquet:   0%|          | 0.00/61.3k [00:00<?, ?B/s]"
      ]
     },
     "metadata": {},
     "output_type": "display_data"
    },
    {
     "data": {
      "application/vnd.jupyter.widget-view+json": {
       "model_id": "a6eda0164a9d4f1fb7a837b420dd93e2",
       "version_major": 2,
       "version_minor": 0
      },
      "text/plain": [
       "2025-05-16__singularity.parquet:   0%|          | 0.00/61.4k [00:00<?, ?B/s]"
      ]
     },
     "metadata": {},
     "output_type": "display_data"
    },
    {
     "data": {
      "application/vnd.jupyter.widget-view+json": {
       "model_id": "c783ed20d8b34db49df2ff318a1d513a",
       "version_major": 2,
       "version_minor": 0
      },
      "text/plain": [
       "2025-05-17__artificial.parquet:   0%|          | 0.00/31.0k [00:00<?, ?B/s]"
      ]
     },
     "metadata": {},
     "output_type": "display_data"
    },
    {
     "data": {
      "application/vnd.jupyter.widget-view+json": {
       "model_id": "ceedcbb298e94619becc4dc0028dd11d",
       "version_major": 2,
       "version_minor": 0
      },
      "text/plain": [
       "2025-05-17__localllama.parquet:   0%|          | 0.00/83.0k [00:00<?, ?B/s]"
      ]
     },
     "metadata": {},
     "output_type": "display_data"
    },
    {
     "data": {
      "application/vnd.jupyter.widget-view+json": {
       "model_id": "7c2092187aac4058943cc29dd5c10be9",
       "version_major": 2,
       "version_minor": 0
      },
      "text/plain": [
       "2025-05-17__openai.parquet:   0%|          | 0.00/75.9k [00:00<?, ?B/s]"
      ]
     },
     "metadata": {},
     "output_type": "display_data"
    },
    {
     "data": {
      "application/vnd.jupyter.widget-view+json": {
       "model_id": "11ed0a02a3b441a0bd6385f1d27c861a",
       "version_major": 2,
       "version_minor": 0
      },
      "text/plain": [
       "2025-05-17__singularity.parquet:   0%|          | 0.00/55.8k [00:00<?, ?B/s]"
      ]
     },
     "metadata": {},
     "output_type": "display_data"
    },
    {
     "data": {
      "application/vnd.jupyter.widget-view+json": {
       "model_id": "8170eab368204aac867ff80fb5675925",
       "version_major": 2,
       "version_minor": 0
      },
      "text/plain": [
       "2025-05-18__artificial.parquet:   0%|          | 0.00/20.8k [00:00<?, ?B/s]"
      ]
     },
     "metadata": {},
     "output_type": "display_data"
    },
    {
     "data": {
      "application/vnd.jupyter.widget-view+json": {
       "model_id": "a7541f602aca4eeca42151ac7ce7d783",
       "version_major": 2,
       "version_minor": 0
      },
      "text/plain": [
       "2025-05-18__localllama.parquet:   0%|          | 0.00/89.1k [00:00<?, ?B/s]"
      ]
     },
     "metadata": {},
     "output_type": "display_data"
    },
    {
     "data": {
      "application/vnd.jupyter.widget-view+json": {
       "model_id": "c65597ed4a4243438544f89eac5f35db",
       "version_major": 2,
       "version_minor": 0
      },
      "text/plain": [
       "2025-05-18__openai.parquet:   0%|          | 0.00/59.9k [00:00<?, ?B/s]"
      ]
     },
     "metadata": {},
     "output_type": "display_data"
    },
    {
     "data": {
      "application/vnd.jupyter.widget-view+json": {
       "model_id": "214573432e764d038074ddc2dd68c008",
       "version_major": 2,
       "version_minor": 0
      },
      "text/plain": [
       "2025-05-18__singularity.parquet:   0%|          | 0.00/37.0k [00:00<?, ?B/s]"
      ]
     },
     "metadata": {},
     "output_type": "display_data"
    },
    {
     "data": {
      "application/vnd.jupyter.widget-view+json": {
       "model_id": "d185a5e6f91346cc8b93794f5a06eba0",
       "version_major": 2,
       "version_minor": 0
      },
      "text/plain": [
       "2025-05-19__artificial.parquet:   0%|          | 0.00/34.9k [00:00<?, ?B/s]"
      ]
     },
     "metadata": {},
     "output_type": "display_data"
    },
    {
     "data": {
      "application/vnd.jupyter.widget-view+json": {
       "model_id": "819719fe8a9544fab621d823cc19f586",
       "version_major": 2,
       "version_minor": 0
      },
      "text/plain": [
       "2025-05-19__localllama.parquet:   0%|          | 0.00/83.4k [00:00<?, ?B/s]"
      ]
     },
     "metadata": {},
     "output_type": "display_data"
    },
    {
     "data": {
      "application/vnd.jupyter.widget-view+json": {
       "model_id": "f88093242f9c4cf4a9368a61fc27e8c8",
       "version_major": 2,
       "version_minor": 0
      },
      "text/plain": [
       "2025-05-19__openai.parquet:   0%|          | 0.00/39.2k [00:00<?, ?B/s]"
      ]
     },
     "metadata": {},
     "output_type": "display_data"
    },
    {
     "data": {
      "application/vnd.jupyter.widget-view+json": {
       "model_id": "2d13c627ff5f4e0d96b0cc037a70e4c2",
       "version_major": 2,
       "version_minor": 0
      },
      "text/plain": [
       "2025-05-19__singularity.parquet:   0%|          | 0.00/74.1k [00:00<?, ?B/s]"
      ]
     },
     "metadata": {},
     "output_type": "display_data"
    },
    {
     "data": {
      "application/vnd.jupyter.widget-view+json": {
       "model_id": "0ee1cc6f6d254a90b471350d0b416da5",
       "version_major": 2,
       "version_minor": 0
      },
      "text/plain": [
       "2025-05-20__artificial.parquet:   0%|          | 0.00/29.8k [00:00<?, ?B/s]"
      ]
     },
     "metadata": {},
     "output_type": "display_data"
    },
    {
     "data": {
      "application/vnd.jupyter.widget-view+json": {
       "model_id": "3f34bd062fdf4b7ba592afe7adbdacae",
       "version_major": 2,
       "version_minor": 0
      },
      "text/plain": [
       "2025-05-20__localllama.parquet:   0%|          | 0.00/76.2k [00:00<?, ?B/s]"
      ]
     },
     "metadata": {},
     "output_type": "display_data"
    },
    {
     "data": {
      "application/vnd.jupyter.widget-view+json": {
       "model_id": "4dcb5b92492a4eb08858754780029974",
       "version_major": 2,
       "version_minor": 0
      },
      "text/plain": [
       "2025-05-20__openai.parquet:   0%|          | 0.00/44.1k [00:00<?, ?B/s]"
      ]
     },
     "metadata": {},
     "output_type": "display_data"
    },
    {
     "data": {
      "application/vnd.jupyter.widget-view+json": {
       "model_id": "9ede94dbd4704a18b23ddac8569d1470",
       "version_major": 2,
       "version_minor": 0
      },
      "text/plain": [
       "2025-05-20__singularity.parquet:   0%|          | 0.00/74.3k [00:00<?, ?B/s]"
      ]
     },
     "metadata": {},
     "output_type": "display_data"
    },
    {
     "data": {
      "application/vnd.jupyter.widget-view+json": {
       "model_id": "d9ed11f1fec34c45ae489c7ff94dfc8b",
       "version_major": 2,
       "version_minor": 0
      },
      "text/plain": [
       "2025-05-21__artificial.parquet:   0%|          | 0.00/30.5k [00:00<?, ?B/s]"
      ]
     },
     "metadata": {},
     "output_type": "display_data"
    },
    {
     "data": {
      "application/vnd.jupyter.widget-view+json": {
       "model_id": "8dbde5e43ed74410bc5780dfeeeb2e9d",
       "version_major": 2,
       "version_minor": 0
      },
      "text/plain": [
       "2025-05-21__localllama.parquet:   0%|          | 0.00/103k [00:00<?, ?B/s]"
      ]
     },
     "metadata": {},
     "output_type": "display_data"
    },
    {
     "data": {
      "application/vnd.jupyter.widget-view+json": {
       "model_id": "ace3db81a8174a36ab69ffd5d882f44b",
       "version_major": 2,
       "version_minor": 0
      },
      "text/plain": [
       "2025-05-21__openai.parquet:   0%|          | 0.00/63.5k [00:00<?, ?B/s]"
      ]
     },
     "metadata": {},
     "output_type": "display_data"
    },
    {
     "data": {
      "application/vnd.jupyter.widget-view+json": {
       "model_id": "732de15c19ec48f3a13f85b60184f3a0",
       "version_major": 2,
       "version_minor": 0
      },
      "text/plain": [
       "2025-05-21__singularity.parquet:   0%|          | 0.00/134k [00:00<?, ?B/s]"
      ]
     },
     "metadata": {},
     "output_type": "display_data"
    },
    {
     "data": {
      "application/vnd.jupyter.widget-view+json": {
       "model_id": "ecdcc40584004e59bd8571535bea7871",
       "version_major": 2,
       "version_minor": 0
      },
      "text/plain": [
       "2025-05-22__artificial.parquet:   0%|          | 0.00/29.3k [00:00<?, ?B/s]"
      ]
     },
     "metadata": {},
     "output_type": "display_data"
    },
    {
     "data": {
      "application/vnd.jupyter.widget-view+json": {
       "model_id": "22098a0893f74415ba80e6ccb488981b",
       "version_major": 2,
       "version_minor": 0
      },
      "text/plain": [
       "2025-05-22__localllama.parquet:   0%|          | 0.00/107k [00:00<?, ?B/s]"
      ]
     },
     "metadata": {},
     "output_type": "display_data"
    },
    {
     "data": {
      "application/vnd.jupyter.widget-view+json": {
       "model_id": "b7ae97dc62d948349afc899cb220919d",
       "version_major": 2,
       "version_minor": 0
      },
      "text/plain": [
       "2025-05-22__openai.parquet:   0%|          | 0.00/72.0k [00:00<?, ?B/s]"
      ]
     },
     "metadata": {},
     "output_type": "display_data"
    },
    {
     "data": {
      "application/vnd.jupyter.widget-view+json": {
       "model_id": "4d2d501a37bd4b6db3f882cd5d0f6ff5",
       "version_major": 2,
       "version_minor": 0
      },
      "text/plain": [
       "2025-05-22__singularity.parquet:   0%|          | 0.00/84.4k [00:00<?, ?B/s]"
      ]
     },
     "metadata": {},
     "output_type": "display_data"
    },
    {
     "data": {
      "application/vnd.jupyter.widget-view+json": {
       "model_id": "55dcf7aec2ef429da6623edf927869cc",
       "version_major": 2,
       "version_minor": 0
      },
      "text/plain": [
       "2025-05-23__artificial.parquet:   0%|          | 0.00/44.2k [00:00<?, ?B/s]"
      ]
     },
     "metadata": {},
     "output_type": "display_data"
    },
    {
     "data": {
      "application/vnd.jupyter.widget-view+json": {
       "model_id": "42d5edc36b554cb1a9762b0c9227d3af",
       "version_major": 2,
       "version_minor": 0
      },
      "text/plain": [
       "2025-05-23__localllama.parquet:   0%|          | 0.00/97.4k [00:00<?, ?B/s]"
      ]
     },
     "metadata": {},
     "output_type": "display_data"
    },
    {
     "data": {
      "application/vnd.jupyter.widget-view+json": {
       "model_id": "1bccd344ac2e410ca48d61e127a52476",
       "version_major": 2,
       "version_minor": 0
      },
      "text/plain": [
       "2025-05-23__openai.parquet:   0%|          | 0.00/53.4k [00:00<?, ?B/s]"
      ]
     },
     "metadata": {},
     "output_type": "display_data"
    },
    {
     "data": {
      "application/vnd.jupyter.widget-view+json": {
       "model_id": "3f8c383994194c5d94d66e1f449affde",
       "version_major": 2,
       "version_minor": 0
      },
      "text/plain": [
       "2025-05-23__singularity.parquet:   0%|          | 0.00/80.9k [00:00<?, ?B/s]"
      ]
     },
     "metadata": {},
     "output_type": "display_data"
    },
    {
     "data": {
      "application/vnd.jupyter.widget-view+json": {
       "model_id": "8a28e853cd5748a9a6c7e3d54c1e965f",
       "version_major": 2,
       "version_minor": 0
      },
      "text/plain": [
       "2025-05-24__artificial.parquet:   0%|          | 0.00/36.4k [00:00<?, ?B/s]"
      ]
     },
     "metadata": {},
     "output_type": "display_data"
    },
    {
     "data": {
      "application/vnd.jupyter.widget-view+json": {
       "model_id": "257521a468b74df0be97abf95ec4c2d5",
       "version_major": 2,
       "version_minor": 0
      },
      "text/plain": [
       "2025-05-24__localllama.parquet:   0%|          | 0.00/88.0k [00:00<?, ?B/s]"
      ]
     },
     "metadata": {},
     "output_type": "display_data"
    },
    {
     "data": {
      "application/vnd.jupyter.widget-view+json": {
       "model_id": "6ce5ef98679947899b7f898a013ef1b3",
       "version_major": 2,
       "version_minor": 0
      },
      "text/plain": [
       "2025-05-24__openai.parquet:   0%|          | 0.00/66.3k [00:00<?, ?B/s]"
      ]
     },
     "metadata": {},
     "output_type": "display_data"
    },
    {
     "data": {
      "application/vnd.jupyter.widget-view+json": {
       "model_id": "69719f32863c4fe1b49f082c8d4bd76b",
       "version_major": 2,
       "version_minor": 0
      },
      "text/plain": [
       "2025-05-24__singularity.parquet:   0%|          | 0.00/102k [00:00<?, ?B/s]"
      ]
     },
     "metadata": {},
     "output_type": "display_data"
    },
    {
     "data": {
      "application/vnd.jupyter.widget-view+json": {
       "model_id": "7c27b35aaaac4d36a588206c371c8032",
       "version_major": 2,
       "version_minor": 0
      },
      "text/plain": [
       "2025-05-25__artificial.parquet:   0%|          | 0.00/46.3k [00:00<?, ?B/s]"
      ]
     },
     "metadata": {},
     "output_type": "display_data"
    },
    {
     "data": {
      "application/vnd.jupyter.widget-view+json": {
       "model_id": "a9356d2229f84c9b8c0961e36cd5cd79",
       "version_major": 2,
       "version_minor": 0
      },
      "text/plain": [
       "2025-05-25__localllama.parquet:   0%|          | 0.00/77.1k [00:00<?, ?B/s]"
      ]
     },
     "metadata": {},
     "output_type": "display_data"
    },
    {
     "data": {
      "application/vnd.jupyter.widget-view+json": {
       "model_id": "4743ee85fc0640acab81006457ac1173",
       "version_major": 2,
       "version_minor": 0
      },
      "text/plain": [
       "2025-05-25__openai.parquet:   0%|          | 0.00/63.2k [00:00<?, ?B/s]"
      ]
     },
     "metadata": {},
     "output_type": "display_data"
    },
    {
     "data": {
      "application/vnd.jupyter.widget-view+json": {
       "model_id": "23f02a9d32a54917b2f8d9f2641311e6",
       "version_major": 2,
       "version_minor": 0
      },
      "text/plain": [
       "2025-05-25__singularity.parquet:   0%|          | 0.00/71.1k [00:00<?, ?B/s]"
      ]
     },
     "metadata": {},
     "output_type": "display_data"
    },
    {
     "data": {
      "application/vnd.jupyter.widget-view+json": {
       "model_id": "71e38cd2df9b44a0aaaa8a4cac725548",
       "version_major": 2,
       "version_minor": 0
      },
      "text/plain": [
       "2025-05-26__artificial.parquet:   0%|          | 0.00/29.4k [00:00<?, ?B/s]"
      ]
     },
     "metadata": {},
     "output_type": "display_data"
    },
    {
     "data": {
      "application/vnd.jupyter.widget-view+json": {
       "model_id": "1eff8826d7574e729001fc507dc7e6d9",
       "version_major": 2,
       "version_minor": 0
      },
      "text/plain": [
       "2025-05-26__localllama.parquet:   0%|          | 0.00/103k [00:00<?, ?B/s]"
      ]
     },
     "metadata": {},
     "output_type": "display_data"
    },
    {
     "data": {
      "application/vnd.jupyter.widget-view+json": {
       "model_id": "a181df0c097d46b581ebb7f7ccae75e2",
       "version_major": 2,
       "version_minor": 0
      },
      "text/plain": [
       "2025-05-26__openai.parquet:   0%|          | 0.00/59.3k [00:00<?, ?B/s]"
      ]
     },
     "metadata": {},
     "output_type": "display_data"
    },
    {
     "data": {
      "application/vnd.jupyter.widget-view+json": {
       "model_id": "31bfcb9a7fb642dcbaf820b1faa97618",
       "version_major": 2,
       "version_minor": 0
      },
      "text/plain": [
       "2025-05-26__singularity.parquet:   0%|          | 0.00/64.8k [00:00<?, ?B/s]"
      ]
     },
     "metadata": {},
     "output_type": "display_data"
    },
    {
     "data": {
      "application/vnd.jupyter.widget-view+json": {
       "model_id": "dfb80dc6de0a4d6b9079ed4de6db0ad2",
       "version_major": 2,
       "version_minor": 0
      },
      "text/plain": [
       "2025-05-27__artificial.parquet:   0%|          | 0.00/32.8k [00:00<?, ?B/s]"
      ]
     },
     "metadata": {},
     "output_type": "display_data"
    },
    {
     "data": {
      "application/vnd.jupyter.widget-view+json": {
       "model_id": "2c0aa7820b664541829a90a92cbdbf7e",
       "version_major": 2,
       "version_minor": 0
      },
      "text/plain": [
       "2025-05-27__localllama.parquet:   0%|          | 0.00/86.4k [00:00<?, ?B/s]"
      ]
     },
     "metadata": {},
     "output_type": "display_data"
    },
    {
     "data": {
      "application/vnd.jupyter.widget-view+json": {
       "model_id": "85ea88940f1d4dd3a43db54c028bc64d",
       "version_major": 2,
       "version_minor": 0
      },
      "text/plain": [
       "2025-05-27__openai.parquet:   0%|          | 0.00/50.3k [00:00<?, ?B/s]"
      ]
     },
     "metadata": {},
     "output_type": "display_data"
    },
    {
     "data": {
      "application/vnd.jupyter.widget-view+json": {
       "model_id": "3c9cd20be662445ab6ae702129decb33",
       "version_major": 2,
       "version_minor": 0
      },
      "text/plain": [
       "2025-05-27__singularity.parquet:   0%|          | 0.00/85.7k [00:00<?, ?B/s]"
      ]
     },
     "metadata": {},
     "output_type": "display_data"
    },
    {
     "data": {
      "application/vnd.jupyter.widget-view+json": {
       "model_id": "3fa3a69da33d46e5a0f6a40e9c35c769",
       "version_major": 2,
       "version_minor": 0
      },
      "text/plain": [
       "2025-05-28__artificial.parquet:   0%|          | 0.00/27.6k [00:00<?, ?B/s]"
      ]
     },
     "metadata": {},
     "output_type": "display_data"
    },
    {
     "data": {
      "application/vnd.jupyter.widget-view+json": {
       "model_id": "5131d285e0d44fb4a6e3672be15643a8",
       "version_major": 2,
       "version_minor": 0
      },
      "text/plain": [
       "2025-05-28__localllama.parquet:   0%|          | 0.00/93.1k [00:00<?, ?B/s]"
      ]
     },
     "metadata": {},
     "output_type": "display_data"
    },
    {
     "data": {
      "application/vnd.jupyter.widget-view+json": {
       "model_id": "900cb926321c4cc7afc5736d01a41c04",
       "version_major": 2,
       "version_minor": 0
      },
      "text/plain": [
       "2025-05-28__openai.parquet:   0%|          | 0.00/62.4k [00:00<?, ?B/s]"
      ]
     },
     "metadata": {},
     "output_type": "display_data"
    },
    {
     "data": {
      "application/vnd.jupyter.widget-view+json": {
       "model_id": "dee98736a856439b973b2037d2a4e7a6",
       "version_major": 2,
       "version_minor": 0
      },
      "text/plain": [
       "2025-05-28__singularity.parquet:   0%|          | 0.00/115k [00:00<?, ?B/s]"
      ]
     },
     "metadata": {},
     "output_type": "display_data"
    },
    {
     "data": {
      "application/vnd.jupyter.widget-view+json": {
       "model_id": "02a7bf4c5a714147af2d57303b9ac8d2",
       "version_major": 2,
       "version_minor": 0
      },
      "text/plain": [
       "2025-05-29__artificial.parquet:   0%|          | 0.00/26.9k [00:00<?, ?B/s]"
      ]
     },
     "metadata": {},
     "output_type": "display_data"
    },
    {
     "data": {
      "application/vnd.jupyter.widget-view+json": {
       "model_id": "f7800ac7da1b4b0cb309ddb1e0f866fb",
       "version_major": 2,
       "version_minor": 0
      },
      "text/plain": [
       "2025-05-29__localllama.parquet:   0%|          | 0.00/123k [00:00<?, ?B/s]"
      ]
     },
     "metadata": {},
     "output_type": "display_data"
    },
    {
     "data": {
      "application/vnd.jupyter.widget-view+json": {
       "model_id": "62c15ed8b94d4ea0baca12b33612314f",
       "version_major": 2,
       "version_minor": 0
      },
      "text/plain": [
       "2025-05-29__openai.parquet:   0%|          | 0.00/42.5k [00:00<?, ?B/s]"
      ]
     },
     "metadata": {},
     "output_type": "display_data"
    },
    {
     "data": {
      "application/vnd.jupyter.widget-view+json": {
       "model_id": "4d0e4990dcb64ff1ade866b9982fb6dd",
       "version_major": 2,
       "version_minor": 0
      },
      "text/plain": [
       "2025-05-29__singularity.parquet:   0%|          | 0.00/100k [00:00<?, ?B/s]"
      ]
     },
     "metadata": {},
     "output_type": "display_data"
    },
    {
     "data": {
      "application/vnd.jupyter.widget-view+json": {
       "model_id": "73ea71cf6eb64a9a983ec8970027d337",
       "version_major": 2,
       "version_minor": 0
      },
      "text/plain": [
       "2025-05-30__artificial.parquet:   0%|          | 0.00/29.4k [00:00<?, ?B/s]"
      ]
     },
     "metadata": {},
     "output_type": "display_data"
    },
    {
     "data": {
      "application/vnd.jupyter.widget-view+json": {
       "model_id": "e78ab60138194b7094fdd371169dfc59",
       "version_major": 2,
       "version_minor": 0
      },
      "text/plain": [
       "2025-05-30__localllama.parquet:   0%|          | 0.00/94.9k [00:00<?, ?B/s]"
      ]
     },
     "metadata": {},
     "output_type": "display_data"
    },
    {
     "data": {
      "application/vnd.jupyter.widget-view+json": {
       "model_id": "0cb302b4f45f4d4ba32985bcb06457eb",
       "version_major": 2,
       "version_minor": 0
      },
      "text/plain": [
       "2025-05-30__openai.parquet:   0%|          | 0.00/50.6k [00:00<?, ?B/s]"
      ]
     },
     "metadata": {},
     "output_type": "display_data"
    },
    {
     "data": {
      "application/vnd.jupyter.widget-view+json": {
       "model_id": "211c252648eb477d93dc1dafad2e1dcd",
       "version_major": 2,
       "version_minor": 0
      },
      "text/plain": [
       "2025-05-30__singularity.parquet:   0%|          | 0.00/88.7k [00:00<?, ?B/s]"
      ]
     },
     "metadata": {},
     "output_type": "display_data"
    },
    {
     "data": {
      "application/vnd.jupyter.widget-view+json": {
       "model_id": "ec915c37abfe4242839807eefce30bd3",
       "version_major": 2,
       "version_minor": 0
      },
      "text/plain": [
       "2025-05-31__artificial.parquet:   0%|          | 0.00/34.1k [00:00<?, ?B/s]"
      ]
     },
     "metadata": {},
     "output_type": "display_data"
    },
    {
     "data": {
      "application/vnd.jupyter.widget-view+json": {
       "model_id": "3be55aba164e495d88d31811073cd944",
       "version_major": 2,
       "version_minor": 0
      },
      "text/plain": [
       "2025-05-31__localllama.parquet:   0%|          | 0.00/82.8k [00:00<?, ?B/s]"
      ]
     },
     "metadata": {},
     "output_type": "display_data"
    },
    {
     "data": {
      "application/vnd.jupyter.widget-view+json": {
       "model_id": "1c31596b3444421ea14c12df4335dee6",
       "version_major": 2,
       "version_minor": 0
      },
      "text/plain": [
       "2025-05-31__openai.parquet:   0%|          | 0.00/58.9k [00:00<?, ?B/s]"
      ]
     },
     "metadata": {},
     "output_type": "display_data"
    },
    {
     "data": {
      "application/vnd.jupyter.widget-view+json": {
       "model_id": "2875a46e12814fab877ad1b36ecc5cd0",
       "version_major": 2,
       "version_minor": 0
      },
      "text/plain": [
       "2025-05-31__singularity.parquet:   0%|          | 0.00/82.2k [00:00<?, ?B/s]"
      ]
     },
     "metadata": {},
     "output_type": "display_data"
    },
    {
     "data": {
      "application/vnd.jupyter.widget-view+json": {
       "model_id": "abb2bb70a3a043e2b5f4540879913c5e",
       "version_major": 2,
       "version_minor": 0
      },
      "text/plain": [
       "2025-06-01__artificial.parquet:   0%|          | 0.00/12.9k [00:00<?, ?B/s]"
      ]
     },
     "metadata": {},
     "output_type": "display_data"
    },
    {
     "data": {
      "application/vnd.jupyter.widget-view+json": {
       "model_id": "170e6e4fd9aa452cbbbb852cad846a9b",
       "version_major": 2,
       "version_minor": 0
      },
      "text/plain": [
       "2025-06-01__localllama.parquet:   0%|          | 0.00/71.4k [00:00<?, ?B/s]"
      ]
     },
     "metadata": {},
     "output_type": "display_data"
    },
    {
     "data": {
      "application/vnd.jupyter.widget-view+json": {
       "model_id": "36e1d7fff6224cd5ae8cdc2ae1716525",
       "version_major": 2,
       "version_minor": 0
      },
      "text/plain": [
       "2025-06-01__openai.parquet:   0%|          | 0.00/52.1k [00:00<?, ?B/s]"
      ]
     },
     "metadata": {},
     "output_type": "display_data"
    },
    {
     "data": {
      "application/vnd.jupyter.widget-view+json": {
       "model_id": "fce0985039704bdbb9d9b57e5fc1ddda",
       "version_major": 2,
       "version_minor": 0
      },
      "text/plain": [
       "2025-06-01__singularity.parquet:   0%|          | 0.00/50.8k [00:00<?, ?B/s]"
      ]
     },
     "metadata": {},
     "output_type": "display_data"
    },
    {
     "data": {
      "application/vnd.jupyter.widget-view+json": {
       "model_id": "6ec69ca475d74398a28e67a8ae56e01d",
       "version_major": 2,
       "version_minor": 0
      },
      "text/plain": [
       "2025-06-02__artificial.parquet:   0%|          | 0.00/30.2k [00:00<?, ?B/s]"
      ]
     },
     "metadata": {},
     "output_type": "display_data"
    },
    {
     "data": {
      "application/vnd.jupyter.widget-view+json": {
       "model_id": "a61870471245491f8326ed40bb131db8",
       "version_major": 2,
       "version_minor": 0
      },
      "text/plain": [
       "2025-06-02__localllama.parquet:   0%|          | 0.00/102k [00:00<?, ?B/s]"
      ]
     },
     "metadata": {},
     "output_type": "display_data"
    },
    {
     "data": {
      "application/vnd.jupyter.widget-view+json": {
       "model_id": "614ee772fae94e0e8af6b8b581a5a9d9",
       "version_major": 2,
       "version_minor": 0
      },
      "text/plain": [
       "2025-06-02__openai.parquet:   0%|          | 0.00/59.5k [00:00<?, ?B/s]"
      ]
     },
     "metadata": {},
     "output_type": "display_data"
    },
    {
     "data": {
      "application/vnd.jupyter.widget-view+json": {
       "model_id": "e8c58d5787744aa3a7f587b70723cea5",
       "version_major": 2,
       "version_minor": 0
      },
      "text/plain": [
       "2025-06-02__singularity.parquet:   0%|          | 0.00/81.2k [00:00<?, ?B/s]"
      ]
     },
     "metadata": {},
     "output_type": "display_data"
    },
    {
     "data": {
      "application/vnd.jupyter.widget-view+json": {
       "model_id": "2309d94dd564406186bea7fddb00108f",
       "version_major": 2,
       "version_minor": 0
      },
      "text/plain": [
       "2025-06-03__artificial.parquet:   0%|          | 0.00/37.6k [00:00<?, ?B/s]"
      ]
     },
     "metadata": {},
     "output_type": "display_data"
    },
    {
     "data": {
      "application/vnd.jupyter.widget-view+json": {
       "model_id": "f180f0c294e4493cac77fdbd2139fe60",
       "version_major": 2,
       "version_minor": 0
      },
      "text/plain": [
       "2025-06-03__localllama.parquet:   0%|          | 0.00/76.1k [00:00<?, ?B/s]"
      ]
     },
     "metadata": {},
     "output_type": "display_data"
    },
    {
     "data": {
      "application/vnd.jupyter.widget-view+json": {
       "model_id": "2f94ac87964b460f87cc6e3a4db7a261",
       "version_major": 2,
       "version_minor": 0
      },
      "text/plain": [
       "2025-06-03__openai.parquet:   0%|          | 0.00/59.1k [00:00<?, ?B/s]"
      ]
     },
     "metadata": {},
     "output_type": "display_data"
    },
    {
     "data": {
      "application/vnd.jupyter.widget-view+json": {
       "model_id": "c62963486ff14b1ab6b69152b295db31",
       "version_major": 2,
       "version_minor": 0
      },
      "text/plain": [
       "2025-06-03__singularity.parquet:   0%|          | 0.00/57.1k [00:00<?, ?B/s]"
      ]
     },
     "metadata": {},
     "output_type": "display_data"
    },
    {
     "data": {
      "application/vnd.jupyter.widget-view+json": {
       "model_id": "42e82e260bc14bb09a035b4f804a97a0",
       "version_major": 2,
       "version_minor": 0
      },
      "text/plain": [
       "2025-06-04__artificial.parquet:   0%|          | 0.00/35.2k [00:00<?, ?B/s]"
      ]
     },
     "metadata": {},
     "output_type": "display_data"
    },
    {
     "data": {
      "application/vnd.jupyter.widget-view+json": {
       "model_id": "237e0e9da43a43609d4aba3252ff690d",
       "version_major": 2,
       "version_minor": 0
      },
      "text/plain": [
       "2025-06-04__localllama.parquet:   0%|          | 0.00/84.6k [00:00<?, ?B/s]"
      ]
     },
     "metadata": {},
     "output_type": "display_data"
    },
    {
     "data": {
      "application/vnd.jupyter.widget-view+json": {
       "model_id": "898e566ff0fc409e86e1d28876acc025",
       "version_major": 2,
       "version_minor": 0
      },
      "text/plain": [
       "2025-06-04__openai.parquet:   0%|          | 0.00/88.2k [00:00<?, ?B/s]"
      ]
     },
     "metadata": {},
     "output_type": "display_data"
    },
    {
     "data": {
      "application/vnd.jupyter.widget-view+json": {
       "model_id": "6f0e15825b684fef853eb9caee45fc09",
       "version_major": 2,
       "version_minor": 0
      },
      "text/plain": [
       "2025-06-04__singularity.parquet:   0%|          | 0.00/84.3k [00:00<?, ?B/s]"
      ]
     },
     "metadata": {},
     "output_type": "display_data"
    },
    {
     "data": {
      "application/vnd.jupyter.widget-view+json": {
       "model_id": "6478f42d236c4492881672b6364f2dee",
       "version_major": 2,
       "version_minor": 0
      },
      "text/plain": [
       "2025-06-05__artificial.parquet:   0%|          | 0.00/26.9k [00:00<?, ?B/s]"
      ]
     },
     "metadata": {},
     "output_type": "display_data"
    },
    {
     "data": {
      "application/vnd.jupyter.widget-view+json": {
       "model_id": "3577d3b78b06476e8d96420bfe4f5a1b",
       "version_major": 2,
       "version_minor": 0
      },
      "text/plain": [
       "2025-06-05__localllama.parquet:   0%|          | 0.00/83.3k [00:00<?, ?B/s]"
      ]
     },
     "metadata": {},
     "output_type": "display_data"
    },
    {
     "data": {
      "application/vnd.jupyter.widget-view+json": {
       "model_id": "70d284c15d54461bba721a6ddc76f139",
       "version_major": 2,
       "version_minor": 0
      },
      "text/plain": [
       "2025-06-05__openai.parquet:   0%|          | 0.00/50.0k [00:00<?, ?B/s]"
      ]
     },
     "metadata": {},
     "output_type": "display_data"
    },
    {
     "data": {
      "application/vnd.jupyter.widget-view+json": {
       "model_id": "9b6744125456486e95c072cd3f5e9ed3",
       "version_major": 2,
       "version_minor": 0
      },
      "text/plain": [
       "2025-06-05__singularity.parquet:   0%|          | 0.00/54.7k [00:00<?, ?B/s]"
      ]
     },
     "metadata": {},
     "output_type": "display_data"
    },
    {
     "data": {
      "application/vnd.jupyter.widget-view+json": {
       "model_id": "a0a60645489147ab8073131dfad46117",
       "version_major": 2,
       "version_minor": 0
      },
      "text/plain": [
       "2025-06-06__artificial.parquet:   0%|          | 0.00/34.6k [00:00<?, ?B/s]"
      ]
     },
     "metadata": {},
     "output_type": "display_data"
    },
    {
     "data": {
      "application/vnd.jupyter.widget-view+json": {
       "model_id": "a30190395bd64d4b917763d062fcb2af",
       "version_major": 2,
       "version_minor": 0
      },
      "text/plain": [
       "2025-06-06__localllama.parquet:   0%|          | 0.00/69.2k [00:00<?, ?B/s]"
      ]
     },
     "metadata": {},
     "output_type": "display_data"
    },
    {
     "data": {
      "application/vnd.jupyter.widget-view+json": {
       "model_id": "4e067aa7f7d74aadb7bec434eb55a686",
       "version_major": 2,
       "version_minor": 0
      },
      "text/plain": [
       "2025-06-06__openai.parquet:   0%|          | 0.00/36.0k [00:00<?, ?B/s]"
      ]
     },
     "metadata": {},
     "output_type": "display_data"
    },
    {
     "data": {
      "application/vnd.jupyter.widget-view+json": {
       "model_id": "8a6ea475df844e30a72afa0ad65d4065",
       "version_major": 2,
       "version_minor": 0
      },
      "text/plain": [
       "2025-06-06__singularity.parquet:   0%|          | 0.00/57.7k [00:00<?, ?B/s]"
      ]
     },
     "metadata": {},
     "output_type": "display_data"
    },
    {
     "data": {
      "application/vnd.jupyter.widget-view+json": {
       "model_id": "6cfe9496db584c5296dcd2066c9b263e",
       "version_major": 2,
       "version_minor": 0
      },
      "text/plain": [
       "2025-06-07__artificial.parquet:   0%|          | 0.00/31.5k [00:00<?, ?B/s]"
      ]
     },
     "metadata": {},
     "output_type": "display_data"
    },
    {
     "data": {
      "application/vnd.jupyter.widget-view+json": {
       "model_id": "4dd79648ed7c49b4a1dda0989e4e48d9",
       "version_major": 2,
       "version_minor": 0
      },
      "text/plain": [
       "2025-06-07__localllama.parquet:   0%|          | 0.00/63.9k [00:00<?, ?B/s]"
      ]
     },
     "metadata": {},
     "output_type": "display_data"
    },
    {
     "data": {
      "application/vnd.jupyter.widget-view+json": {
       "model_id": "db8a23dd483d4d608420d48510317a32",
       "version_major": 2,
       "version_minor": 0
      },
      "text/plain": [
       "2025-06-07__openai.parquet:   0%|          | 0.00/58.0k [00:00<?, ?B/s]"
      ]
     },
     "metadata": {},
     "output_type": "display_data"
    },
    {
     "data": {
      "application/vnd.jupyter.widget-view+json": {
       "model_id": "fa85cc95e46b45648f185fc0276f9f0e",
       "version_major": 2,
       "version_minor": 0
      },
      "text/plain": [
       "2025-06-07__singularity.parquet:   0%|          | 0.00/64.4k [00:00<?, ?B/s]"
      ]
     },
     "metadata": {},
     "output_type": "display_data"
    },
    {
     "data": {
      "application/vnd.jupyter.widget-view+json": {
       "model_id": "1b1cee1c75cd47aeb65a3a9917bf9095",
       "version_major": 2,
       "version_minor": 0
      },
      "text/plain": [
       "2025-06-08__artificial.parquet:   0%|          | 0.00/31.4k [00:00<?, ?B/s]"
      ]
     },
     "metadata": {},
     "output_type": "display_data"
    },
    {
     "data": {
      "application/vnd.jupyter.widget-view+json": {
       "model_id": "d839d8772ca64265ab8912ad837e332b",
       "version_major": 2,
       "version_minor": 0
      },
      "text/plain": [
       "2025-06-08__localllama.parquet:   0%|          | 0.00/84.0k [00:00<?, ?B/s]"
      ]
     },
     "metadata": {},
     "output_type": "display_data"
    },
    {
     "data": {
      "application/vnd.jupyter.widget-view+json": {
       "model_id": "3f3f368cea884e8a95cdd65bfd404dd0",
       "version_major": 2,
       "version_minor": 0
      },
      "text/plain": [
       "2025-06-08__openai.parquet:   0%|          | 0.00/73.2k [00:00<?, ?B/s]"
      ]
     },
     "metadata": {},
     "output_type": "display_data"
    },
    {
     "data": {
      "application/vnd.jupyter.widget-view+json": {
       "model_id": "626ff99c58de40659fca0a7a3f7e730d",
       "version_major": 2,
       "version_minor": 0
      },
      "text/plain": [
       "2025-06-08__singularity.parquet:   0%|          | 0.00/43.0k [00:00<?, ?B/s]"
      ]
     },
     "metadata": {},
     "output_type": "display_data"
    },
    {
     "data": {
      "application/vnd.jupyter.widget-view+json": {
       "model_id": "4265e29cca3f4766bfa5fecf84b396e0",
       "version_major": 2,
       "version_minor": 0
      },
      "text/plain": [
       "2025-06-09__artificial.parquet:   0%|          | 0.00/54.6k [00:00<?, ?B/s]"
      ]
     },
     "metadata": {},
     "output_type": "display_data"
    },
    {
     "data": {
      "application/vnd.jupyter.widget-view+json": {
       "model_id": "088c661c191a4fce86bc03e4daa77195",
       "version_major": 2,
       "version_minor": 0
      },
      "text/plain": [
       "2025-06-09__localllama.parquet:   0%|          | 0.00/73.1k [00:00<?, ?B/s]"
      ]
     },
     "metadata": {},
     "output_type": "display_data"
    },
    {
     "data": {
      "application/vnd.jupyter.widget-view+json": {
       "model_id": "ea4c366532e84ba5938702a1790c4807",
       "version_major": 2,
       "version_minor": 0
      },
      "text/plain": [
       "2025-06-09__openai.parquet:   0%|          | 0.00/67.2k [00:00<?, ?B/s]"
      ]
     },
     "metadata": {},
     "output_type": "display_data"
    },
    {
     "data": {
      "application/vnd.jupyter.widget-view+json": {
       "model_id": "4ddd903a40d747bda94bda3573f9bf71",
       "version_major": 2,
       "version_minor": 0
      },
      "text/plain": [
       "2025-06-09__singularity.parquet:   0%|          | 0.00/72.1k [00:00<?, ?B/s]"
      ]
     },
     "metadata": {},
     "output_type": "display_data"
    },
    {
     "data": {
      "application/vnd.jupyter.widget-view+json": {
       "model_id": "21d7a3e9ae7d47aa99ec02921c3b5c4d",
       "version_major": 2,
       "version_minor": 0
      },
      "text/plain": [
       "2025-06-10__artificial.parquet:   0%|          | 0.00/33.6k [00:00<?, ?B/s]"
      ]
     },
     "metadata": {},
     "output_type": "display_data"
    },
    {
     "data": {
      "application/vnd.jupyter.widget-view+json": {
       "model_id": "f77b6525ceee47c28202bc29bd696570",
       "version_major": 2,
       "version_minor": 0
      },
      "text/plain": [
       "2025-06-10__localllama.parquet:   0%|          | 0.00/83.8k [00:00<?, ?B/s]"
      ]
     },
     "metadata": {},
     "output_type": "display_data"
    },
    {
     "data": {
      "application/vnd.jupyter.widget-view+json": {
       "model_id": "9d8fa6e9d65b47caa5606b9b9fa0ad0e",
       "version_major": 2,
       "version_minor": 0
      },
      "text/plain": [
       "2025-06-10__openai.parquet:   0%|          | 0.00/63.8k [00:00<?, ?B/s]"
      ]
     },
     "metadata": {},
     "output_type": "display_data"
    },
    {
     "data": {
      "application/vnd.jupyter.widget-view+json": {
       "model_id": "1de9073699fc487ab822cea6cf0818b3",
       "version_major": 2,
       "version_minor": 0
      },
      "text/plain": [
       "2025-06-10__singularity.parquet:   0%|          | 0.00/67.9k [00:00<?, ?B/s]"
      ]
     },
     "metadata": {},
     "output_type": "display_data"
    },
    {
     "data": {
      "application/vnd.jupyter.widget-view+json": {
       "model_id": "c8df7cce4054492eaf8d8b6dccc66db2",
       "version_major": 2,
       "version_minor": 0
      },
      "text/plain": [
       "2025-06-11__artificial.parquet:   0%|          | 0.00/36.7k [00:00<?, ?B/s]"
      ]
     },
     "metadata": {},
     "output_type": "display_data"
    },
    {
     "data": {
      "application/vnd.jupyter.widget-view+json": {
       "model_id": "2dcebec0a6464d2a9d00025c832af4ed",
       "version_major": 2,
       "version_minor": 0
      },
      "text/plain": [
       "2025-06-11__localllama.parquet:   0%|          | 0.00/68.7k [00:00<?, ?B/s]"
      ]
     },
     "metadata": {},
     "output_type": "display_data"
    },
    {
     "data": {
      "application/vnd.jupyter.widget-view+json": {
       "model_id": "6bbf84e591974b829be5bab445087930",
       "version_major": 2,
       "version_minor": 0
      },
      "text/plain": [
       "2025-06-11__openai.parquet:   0%|          | 0.00/57.4k [00:00<?, ?B/s]"
      ]
     },
     "metadata": {},
     "output_type": "display_data"
    },
    {
     "data": {
      "application/vnd.jupyter.widget-view+json": {
       "model_id": "c6e476ffe92e471dbfc4bdb5d9841cad",
       "version_major": 2,
       "version_minor": 0
      },
      "text/plain": [
       "2025-06-11__singularity.parquet:   0%|          | 0.00/47.9k [00:00<?, ?B/s]"
      ]
     },
     "metadata": {},
     "output_type": "display_data"
    },
    {
     "data": {
      "application/vnd.jupyter.widget-view+json": {
       "model_id": "0f242eae51fe4a8c9ca0aef365ca38de",
       "version_major": 2,
       "version_minor": 0
      },
      "text/plain": [
       "2025-06-12__artificial.parquet:   0%|          | 0.00/20.9k [00:00<?, ?B/s]"
      ]
     },
     "metadata": {},
     "output_type": "display_data"
    },
    {
     "data": {
      "application/vnd.jupyter.widget-view+json": {
       "model_id": "6fd1726db7b14ef7bad610f5c83b019f",
       "version_major": 2,
       "version_minor": 0
      },
      "text/plain": [
       "2025-06-12__localllama.parquet:   0%|          | 0.00/69.4k [00:00<?, ?B/s]"
      ]
     },
     "metadata": {},
     "output_type": "display_data"
    },
    {
     "data": {
      "application/vnd.jupyter.widget-view+json": {
       "model_id": "5fdcbdb392964e4dab7ee4959085a802",
       "version_major": 2,
       "version_minor": 0
      },
      "text/plain": [
       "2025-06-12__openai.parquet:   0%|          | 0.00/63.3k [00:00<?, ?B/s]"
      ]
     },
     "metadata": {},
     "output_type": "display_data"
    },
    {
     "data": {
      "application/vnd.jupyter.widget-view+json": {
       "model_id": "741f34297b2242ba887adfb09db6412b",
       "version_major": 2,
       "version_minor": 0
      },
      "text/plain": [
       "2025-06-12__singularity.parquet:   0%|          | 0.00/57.7k [00:00<?, ?B/s]"
      ]
     },
     "metadata": {},
     "output_type": "display_data"
    },
    {
     "data": {
      "application/vnd.jupyter.widget-view+json": {
       "model_id": "fff8b9318e924f6d944dad66205b26bb",
       "version_major": 2,
       "version_minor": 0
      },
      "text/plain": [
       "2025-06-13__artificial.parquet:   0%|          | 0.00/44.1k [00:00<?, ?B/s]"
      ]
     },
     "metadata": {},
     "output_type": "display_data"
    },
    {
     "data": {
      "application/vnd.jupyter.widget-view+json": {
       "model_id": "d393c093d3c04cf2ae840878259ccf2d",
       "version_major": 2,
       "version_minor": 0
      },
      "text/plain": [
       "2025-06-13__localllama.parquet:   0%|          | 0.00/76.7k [00:00<?, ?B/s]"
      ]
     },
     "metadata": {},
     "output_type": "display_data"
    },
    {
     "data": {
      "application/vnd.jupyter.widget-view+json": {
       "model_id": "e6b2194b9b204ca19a93cb51c7f9e593",
       "version_major": 2,
       "version_minor": 0
      },
      "text/plain": [
       "2025-06-13__openai.parquet:   0%|          | 0.00/43.9k [00:00<?, ?B/s]"
      ]
     },
     "metadata": {},
     "output_type": "display_data"
    },
    {
     "data": {
      "application/vnd.jupyter.widget-view+json": {
       "model_id": "41ff99141cd248278d8196cce4d2eb77",
       "version_major": 2,
       "version_minor": 0
      },
      "text/plain": [
       "2025-06-13__singularity.parquet:   0%|          | 0.00/29.8k [00:00<?, ?B/s]"
      ]
     },
     "metadata": {},
     "output_type": "display_data"
    },
    {
     "data": {
      "application/vnd.jupyter.widget-view+json": {
       "model_id": "b2657f734e5847d8a13ddaa170c8a4e7",
       "version_major": 2,
       "version_minor": 0
      },
      "text/plain": [
       "2025-06-14__artificial.parquet:   0%|          | 0.00/27.0k [00:00<?, ?B/s]"
      ]
     },
     "metadata": {},
     "output_type": "display_data"
    },
    {
     "data": {
      "application/vnd.jupyter.widget-view+json": {
       "model_id": "10bd4b8a5e5c43d29d231bd73117b06a",
       "version_major": 2,
       "version_minor": 0
      },
      "text/plain": [
       "2025-06-14__localllama.parquet:   0%|          | 0.00/61.6k [00:00<?, ?B/s]"
      ]
     },
     "metadata": {},
     "output_type": "display_data"
    },
    {
     "data": {
      "application/vnd.jupyter.widget-view+json": {
       "model_id": "cbf5bbf613ed426184a6832b51930ff0",
       "version_major": 2,
       "version_minor": 0
      },
      "text/plain": [
       "2025-06-14__openai.parquet:   0%|          | 0.00/52.8k [00:00<?, ?B/s]"
      ]
     },
     "metadata": {},
     "output_type": "display_data"
    },
    {
     "data": {
      "application/vnd.jupyter.widget-view+json": {
       "model_id": "f070ffaa1bd0488ea98c76b5aad6d937",
       "version_major": 2,
       "version_minor": 0
      },
      "text/plain": [
       "2025-06-14__singularity.parquet:   0%|          | 0.00/59.3k [00:00<?, ?B/s]"
      ]
     },
     "metadata": {},
     "output_type": "display_data"
    },
    {
     "data": {
      "application/vnd.jupyter.widget-view+json": {
       "model_id": "410dd72918d542fb94d811ac9175a460",
       "version_major": 2,
       "version_minor": 0
      },
      "text/plain": [
       "2025-06-15__artificial.parquet:   0%|          | 0.00/31.0k [00:00<?, ?B/s]"
      ]
     },
     "metadata": {},
     "output_type": "display_data"
    },
    {
     "data": {
      "application/vnd.jupyter.widget-view+json": {
       "model_id": "7a0b0bbbbffd47138103a34524699280",
       "version_major": 2,
       "version_minor": 0
      },
      "text/plain": [
       "2025-06-15__localllama.parquet:   0%|          | 0.00/73.9k [00:00<?, ?B/s]"
      ]
     },
     "metadata": {},
     "output_type": "display_data"
    },
    {
     "data": {
      "application/vnd.jupyter.widget-view+json": {
       "model_id": "452fdfc81d1b42d8ab28268449ee0291",
       "version_major": 2,
       "version_minor": 0
      },
      "text/plain": [
       "2025-06-15__openai.parquet:   0%|          | 0.00/37.5k [00:00<?, ?B/s]"
      ]
     },
     "metadata": {},
     "output_type": "display_data"
    },
    {
     "data": {
      "application/vnd.jupyter.widget-view+json": {
       "model_id": "d6f3639ab69c439683efa43652a18a45",
       "version_major": 2,
       "version_minor": 0
      },
      "text/plain": [
       "2025-06-15__singularity.parquet:   0%|          | 0.00/39.5k [00:00<?, ?B/s]"
      ]
     },
     "metadata": {},
     "output_type": "display_data"
    },
    {
     "data": {
      "application/vnd.jupyter.widget-view+json": {
       "model_id": "824b41ab7aa74df187c10aa7a919c580",
       "version_major": 2,
       "version_minor": 0
      },
      "text/plain": [
       "2025-06-16__artificial.parquet:   0%|          | 0.00/30.6k [00:00<?, ?B/s]"
      ]
     },
     "metadata": {},
     "output_type": "display_data"
    },
    {
     "data": {
      "application/vnd.jupyter.widget-view+json": {
       "model_id": "f4df91103a2d4efb98d9e5558b9f134c",
       "version_major": 2,
       "version_minor": 0
      },
      "text/plain": [
       "2025-06-16__localllama.parquet:   0%|          | 0.00/78.7k [00:00<?, ?B/s]"
      ]
     },
     "metadata": {},
     "output_type": "display_data"
    },
    {
     "data": {
      "application/vnd.jupyter.widget-view+json": {
       "model_id": "68180ad4bc2340d09c60a9a054306c3a",
       "version_major": 2,
       "version_minor": 0
      },
      "text/plain": [
       "2025-06-16__openai.parquet:   0%|          | 0.00/100k [00:00<?, ?B/s]"
      ]
     },
     "metadata": {},
     "output_type": "display_data"
    },
    {
     "data": {
      "application/vnd.jupyter.widget-view+json": {
       "model_id": "27265235d7af44588321cb02c9e6bf87",
       "version_major": 2,
       "version_minor": 0
      },
      "text/plain": [
       "2025-06-16__singularity.parquet:   0%|          | 0.00/31.1k [00:00<?, ?B/s]"
      ]
     },
     "metadata": {},
     "output_type": "display_data"
    },
    {
     "data": {
      "application/vnd.jupyter.widget-view+json": {
       "model_id": "9307c3b343b8457e81d33ee9f0fd2596",
       "version_major": 2,
       "version_minor": 0
      },
      "text/plain": [
       "2025-06-17__artificial.parquet:   0%|          | 0.00/39.3k [00:00<?, ?B/s]"
      ]
     },
     "metadata": {},
     "output_type": "display_data"
    },
    {
     "data": {
      "application/vnd.jupyter.widget-view+json": {
       "model_id": "39fac1b6346a4b53a04db6beb52543ff",
       "version_major": 2,
       "version_minor": 0
      },
      "text/plain": [
       "2025-06-17__localllama.parquet:   0%|          | 0.00/85.7k [00:00<?, ?B/s]"
      ]
     },
     "metadata": {},
     "output_type": "display_data"
    },
    {
     "data": {
      "application/vnd.jupyter.widget-view+json": {
       "model_id": "1c994b029247489a87d7c56a3965dd2d",
       "version_major": 2,
       "version_minor": 0
      },
      "text/plain": [
       "2025-06-17__openai.parquet:   0%|          | 0.00/66.6k [00:00<?, ?B/s]"
      ]
     },
     "metadata": {},
     "output_type": "display_data"
    },
    {
     "data": {
      "application/vnd.jupyter.widget-view+json": {
       "model_id": "218c516cbf3349cfab9b1fae7ea25232",
       "version_major": 2,
       "version_minor": 0
      },
      "text/plain": [
       "2025-06-17__singularity.parquet:   0%|          | 0.00/68.4k [00:00<?, ?B/s]"
      ]
     },
     "metadata": {},
     "output_type": "display_data"
    },
    {
     "data": {
      "application/vnd.jupyter.widget-view+json": {
       "model_id": "00116cb0cc38440191346eb3c1333605",
       "version_major": 2,
       "version_minor": 0
      },
      "text/plain": [
       "2025-06-18__artificial.parquet:   0%|          | 0.00/24.5k [00:00<?, ?B/s]"
      ]
     },
     "metadata": {},
     "output_type": "display_data"
    },
    {
     "data": {
      "application/vnd.jupyter.widget-view+json": {
       "model_id": "3daebc49dc8c4021b82a7ff323edbda7",
       "version_major": 2,
       "version_minor": 0
      },
      "text/plain": [
       "2025-06-18__localllama.parquet:   0%|          | 0.00/116k [00:00<?, ?B/s]"
      ]
     },
     "metadata": {},
     "output_type": "display_data"
    },
    {
     "data": {
      "application/vnd.jupyter.widget-view+json": {
       "model_id": "24e81e43946a4ea49892f9ac74f58485",
       "version_major": 2,
       "version_minor": 0
      },
      "text/plain": [
       "2025-06-18__openai.parquet:   0%|          | 0.00/72.1k [00:00<?, ?B/s]"
      ]
     },
     "metadata": {},
     "output_type": "display_data"
    },
    {
     "data": {
      "application/vnd.jupyter.widget-view+json": {
       "model_id": "b2cb956d19b74e95b65c662b6562b4cf",
       "version_major": 2,
       "version_minor": 0
      },
      "text/plain": [
       "2025-06-18__singularity.parquet:   0%|          | 0.00/40.4k [00:00<?, ?B/s]"
      ]
     },
     "metadata": {},
     "output_type": "display_data"
    },
    {
     "data": {
      "application/vnd.jupyter.widget-view+json": {
       "model_id": "6eae2b8e1b1e4cdebe13914ec90c370d",
       "version_major": 2,
       "version_minor": 0
      },
      "text/plain": [
       "2025-06-19__artificial.parquet:   0%|          | 0.00/26.1k [00:00<?, ?B/s]"
      ]
     },
     "metadata": {},
     "output_type": "display_data"
    },
    {
     "data": {
      "application/vnd.jupyter.widget-view+json": {
       "model_id": "66be40dcadcb40b6a50d2ea8eabba02d",
       "version_major": 2,
       "version_minor": 0
      },
      "text/plain": [
       "2025-06-19__localllama.parquet:   0%|          | 0.00/129k [00:00<?, ?B/s]"
      ]
     },
     "metadata": {},
     "output_type": "display_data"
    },
    {
     "data": {
      "application/vnd.jupyter.widget-view+json": {
       "model_id": "70212d8141044108b258ae9837c76356",
       "version_major": 2,
       "version_minor": 0
      },
      "text/plain": [
       "2025-06-19__openai.parquet:   0%|          | 0.00/59.9k [00:00<?, ?B/s]"
      ]
     },
     "metadata": {},
     "output_type": "display_data"
    },
    {
     "data": {
      "application/vnd.jupyter.widget-view+json": {
       "model_id": "5bead58663ac4c4c972b92b7ae002468",
       "version_major": 2,
       "version_minor": 0
      },
      "text/plain": [
       "2025-06-19__singularity.parquet:   0%|          | 0.00/66.4k [00:00<?, ?B/s]"
      ]
     },
     "metadata": {},
     "output_type": "display_data"
    },
    {
     "data": {
      "application/vnd.jupyter.widget-view+json": {
       "model_id": "5625c583c6704a95afab87e564c1f2b8",
       "version_major": 2,
       "version_minor": 0
      },
      "text/plain": [
       "2025-06-20__artificial.parquet:   0%|          | 0.00/34.2k [00:00<?, ?B/s]"
      ]
     },
     "metadata": {},
     "output_type": "display_data"
    },
    {
     "data": {
      "application/vnd.jupyter.widget-view+json": {
       "model_id": "ddd943fadd7f45818eb69d18c4e7e07d",
       "version_major": 2,
       "version_minor": 0
      },
      "text/plain": [
       "2025-06-20__localllama.parquet:   0%|          | 0.00/125k [00:00<?, ?B/s]"
      ]
     },
     "metadata": {},
     "output_type": "display_data"
    },
    {
     "data": {
      "application/vnd.jupyter.widget-view+json": {
       "model_id": "4eeab4ff6a61440bb44405fbbad306fb",
       "version_major": 2,
       "version_minor": 0
      },
      "text/plain": [
       "2025-06-20__openai.parquet:   0%|          | 0.00/61.4k [00:00<?, ?B/s]"
      ]
     },
     "metadata": {},
     "output_type": "display_data"
    },
    {
     "data": {
      "application/vnd.jupyter.widget-view+json": {
       "model_id": "a919cb661f11498a93123a06fc9ddae5",
       "version_major": 2,
       "version_minor": 0
      },
      "text/plain": [
       "2025-06-20__singularity.parquet:   0%|          | 0.00/42.2k [00:00<?, ?B/s]"
      ]
     },
     "metadata": {},
     "output_type": "display_data"
    },
    {
     "data": {
      "application/vnd.jupyter.widget-view+json": {
       "model_id": "b6ca77fefec34c5bae1cdecfa7392980",
       "version_major": 2,
       "version_minor": 0
      },
      "text/plain": [
       "2025-06-21__artificial.parquet:   0%|          | 0.00/39.1k [00:00<?, ?B/s]"
      ]
     },
     "metadata": {},
     "output_type": "display_data"
    },
    {
     "data": {
      "application/vnd.jupyter.widget-view+json": {
       "model_id": "a1d55aca3ac84b3bbcf6bcc0b4f25e4f",
       "version_major": 2,
       "version_minor": 0
      },
      "text/plain": [
       "2025-06-21__localllama.parquet:   0%|          | 0.00/97.1k [00:00<?, ?B/s]"
      ]
     },
     "metadata": {},
     "output_type": "display_data"
    },
    {
     "data": {
      "application/vnd.jupyter.widget-view+json": {
       "model_id": "48763b55873144b9a36fdd7220929d15",
       "version_major": 2,
       "version_minor": 0
      },
      "text/plain": [
       "2025-06-21__openai.parquet:   0%|          | 0.00/49.1k [00:00<?, ?B/s]"
      ]
     },
     "metadata": {},
     "output_type": "display_data"
    },
    {
     "data": {
      "application/vnd.jupyter.widget-view+json": {
       "model_id": "034c5753e1cd42b7a14d409cd29c5445",
       "version_major": 2,
       "version_minor": 0
      },
      "text/plain": [
       "2025-06-21__singularity.parquet:   0%|          | 0.00/64.9k [00:00<?, ?B/s]"
      ]
     },
     "metadata": {},
     "output_type": "display_data"
    },
    {
     "data": {
      "application/vnd.jupyter.widget-view+json": {
       "model_id": "250ea4bfb8ea4a1e9ebe0b2fc004ff21",
       "version_major": 2,
       "version_minor": 0
      },
      "text/plain": [
       "2025-06-22__artificial.parquet:   0%|          | 0.00/34.3k [00:00<?, ?B/s]"
      ]
     },
     "metadata": {},
     "output_type": "display_data"
    },
    {
     "data": {
      "application/vnd.jupyter.widget-view+json": {
       "model_id": "f28b56f33ee04f9cbe1c4e37e5378dd0",
       "version_major": 2,
       "version_minor": 0
      },
      "text/plain": [
       "2025-06-22__localllama.parquet:   0%|          | 0.00/21.6k [00:00<?, ?B/s]"
      ]
     },
     "metadata": {},
     "output_type": "display_data"
    },
    {
     "data": {
      "application/vnd.jupyter.widget-view+json": {
       "model_id": "6227a495a6b0447e8c34f4f0a4e9fb46",
       "version_major": 2,
       "version_minor": 0
      },
      "text/plain": [
       "2025-06-22__openai.parquet:   0%|          | 0.00/42.2k [00:00<?, ?B/s]"
      ]
     },
     "metadata": {},
     "output_type": "display_data"
    },
    {
     "data": {
      "application/vnd.jupyter.widget-view+json": {
       "model_id": "0f3fe3bc08354c09b802037fc22f55db",
       "version_major": 2,
       "version_minor": 0
      },
      "text/plain": [
       "2025-06-22__singularity.parquet:   0%|          | 0.00/33.3k [00:00<?, ?B/s]"
      ]
     },
     "metadata": {},
     "output_type": "display_data"
    },
    {
     "data": {
      "application/vnd.jupyter.widget-view+json": {
       "model_id": "cfcda9f946d142188ae4f412b16ecf9b",
       "version_major": 2,
       "version_minor": 0
      },
      "text/plain": [
       "2025-06-23__artificial.parquet:   0%|          | 0.00/28.9k [00:00<?, ?B/s]"
      ]
     },
     "metadata": {},
     "output_type": "display_data"
    },
    {
     "data": {
      "application/vnd.jupyter.widget-view+json": {
       "model_id": "f2a21317daf74d65801ab5ae75b58ed7",
       "version_major": 2,
       "version_minor": 0
      },
      "text/plain": [
       "2025-06-23__openai.parquet:   0%|          | 0.00/36.6k [00:00<?, ?B/s]"
      ]
     },
     "metadata": {},
     "output_type": "display_data"
    },
    {
     "data": {
      "application/vnd.jupyter.widget-view+json": {
       "model_id": "75c9398ec01945d09e7d41e00b416c88",
       "version_major": 2,
       "version_minor": 0
      },
      "text/plain": [
       "2025-06-23__singularity.parquet:   0%|          | 0.00/40.5k [00:00<?, ?B/s]"
      ]
     },
     "metadata": {},
     "output_type": "display_data"
    },
    {
     "name": "stdout",
     "output_type": "stream",
     "text": [
      "Total records across 250 days: 81251\n"
     ]
    }
   ],
   "source": [
    "df = load_reddit_data()"
   ]
  },
  {
   "cell_type": "code",
   "execution_count": 183,
   "id": "0597fb74-e300-4a7e-ae63-5732cb22ed59",
   "metadata": {
    "execution": {
     "iopub.execute_input": "2025-06-24T21:58:50.300797Z",
     "iopub.status.busy": "2025-06-24T21:58:50.298796Z",
     "iopub.status.idle": "2025-06-24T21:58:50.428899Z",
     "shell.execute_reply": "2025-06-24T21:58:50.428899Z",
     "shell.execute_reply.started": "2025-06-24T21:58:50.300797Z"
    }
   },
   "outputs": [
    {
     "data": {
      "text/html": [
       "<div>\n",
       "<style scoped>\n",
       "    .dataframe tbody tr th:only-of-type {\n",
       "        vertical-align: middle;\n",
       "    }\n",
       "\n",
       "    .dataframe tbody tr th {\n",
       "        vertical-align: top;\n",
       "    }\n",
       "\n",
       "    .dataframe thead th {\n",
       "        text-align: right;\n",
       "    }\n",
       "</style>\n",
       "<table border=\"1\" class=\"dataframe\">\n",
       "  <thead>\n",
       "    <tr style=\"text-align: right;\">\n",
       "      <th></th>\n",
       "      <th>subreddit</th>\n",
       "      <th>community_weighted_sentiment</th>\n",
       "    </tr>\n",
       "    <tr>\n",
       "      <th>date</th>\n",
       "      <th></th>\n",
       "      <th></th>\n",
       "    </tr>\n",
       "  </thead>\n",
       "  <tbody>\n",
       "    <tr>\n",
       "      <th>2025-05-01</th>\n",
       "      <td>LocalLLaMA</td>\n",
       "      <td>-0.477880</td>\n",
       "    </tr>\n",
       "    <tr>\n",
       "      <th>2025-05-01</th>\n",
       "      <td>OpenAI</td>\n",
       "      <td>-0.516990</td>\n",
       "    </tr>\n",
       "    <tr>\n",
       "      <th>2025-05-01</th>\n",
       "      <td>artificial</td>\n",
       "      <td>-0.506502</td>\n",
       "    </tr>\n",
       "    <tr>\n",
       "      <th>2025-05-01</th>\n",
       "      <td>singularity</td>\n",
       "      <td>-0.435683</td>\n",
       "    </tr>\n",
       "    <tr>\n",
       "      <th>2025-05-02</th>\n",
       "      <td>LocalLLaMA</td>\n",
       "      <td>-0.434680</td>\n",
       "    </tr>\n",
       "    <tr>\n",
       "      <th>2025-05-02</th>\n",
       "      <td>OpenAI</td>\n",
       "      <td>-0.487859</td>\n",
       "    </tr>\n",
       "    <tr>\n",
       "      <th>2025-05-02</th>\n",
       "      <td>artificial</td>\n",
       "      <td>-0.504200</td>\n",
       "    </tr>\n",
       "    <tr>\n",
       "      <th>2025-05-02</th>\n",
       "      <td>singularity</td>\n",
       "      <td>-0.415097</td>\n",
       "    </tr>\n",
       "  </tbody>\n",
       "</table>\n",
       "</div>"
      ],
      "text/plain": [
       "              subreddit  community_weighted_sentiment\n",
       "date                                                 \n",
       "2025-05-01   LocalLLaMA                     -0.477880\n",
       "2025-05-01       OpenAI                     -0.516990\n",
       "2025-05-01   artificial                     -0.506502\n",
       "2025-05-01  singularity                     -0.435683\n",
       "2025-05-02   LocalLLaMA                     -0.434680\n",
       "2025-05-02       OpenAI                     -0.487859\n",
       "2025-05-02   artificial                     -0.504200\n",
       "2025-05-02  singularity                     -0.415097"
      ]
     },
     "execution_count": 183,
     "metadata": {},
     "output_type": "execute_result"
    }
   ],
   "source": [
    "df_summary = summary_from_df(df).set_index('date',drop=True)\n",
    "df_summary.head(8)"
   ]
  },
  {
   "cell_type": "markdown",
   "id": "91bfb2e1-a11a-48b6-9f0a-2e50d60f1630",
   "metadata": {},
   "source": [
    "### Method 1: Calculate Z-score based on mean and std of prior week"
   ]
  },
  {
   "cell_type": "markdown",
   "id": "16f54df0-db57-4b75-8fa4-2f7fd9c81f9f",
   "metadata": {},
   "source": [
    "Use prior week mean and std"
   ]
  },
  {
   "cell_type": "code",
   "execution_count": 184,
   "id": "2024fb08-fbf5-4d8c-b56a-bae1d5e05730",
   "metadata": {
    "execution": {
     "iopub.execute_input": "2025-06-24T21:58:50.873829Z",
     "iopub.status.busy": "2025-06-24T21:58:50.873829Z",
     "iopub.status.idle": "2025-06-24T21:58:50.886826Z",
     "shell.execute_reply": "2025-06-24T21:58:50.886826Z",
     "shell.execute_reply.started": "2025-06-24T21:58:50.873829Z"
    }
   },
   "outputs": [],
   "source": [
    "rolling = df_summary.groupby('subreddit')[['community_weighted_sentiment']].rolling(7)\n",
    "mean_cws = rolling.mean().groupby('subreddit').shift(1).reset_index().rename(columns={'community_weighted_sentiment': 'mean_cws'})\n",
    "std_cws = rolling.std().groupby('subreddit').shift(1).reset_index().rename(columns={'community_weighted_sentiment': 'std_cws'})"
   ]
  },
  {
   "cell_type": "code",
   "execution_count": 185,
   "id": "a88046cc-0361-47f8-8aa4-813506afdecb",
   "metadata": {
    "execution": {
     "iopub.execute_input": "2025-06-24T21:58:51.299169Z",
     "iopub.status.busy": "2025-06-24T21:58:51.299169Z",
     "iopub.status.idle": "2025-06-24T21:58:51.310232Z",
     "shell.execute_reply": "2025-06-24T21:58:51.310232Z",
     "shell.execute_reply.started": "2025-06-24T21:58:51.299169Z"
    }
   },
   "outputs": [],
   "source": [
    "df_history = df_summary.merge(mean_cws,how='outer',on=['date','subreddit']).merge(std_cws,how='outer',on=['date','subreddit'])\n",
    "df_history['z_score'] = (df_history.community_weighted_sentiment - df_history.mean_cws) / df_history.std_cws"
   ]
  },
  {
   "cell_type": "code",
   "execution_count": 186,
   "id": "ce9f0566-6014-412b-ab91-677f24189245",
   "metadata": {
    "execution": {
     "iopub.execute_input": "2025-06-24T21:58:51.497646Z",
     "iopub.status.busy": "2025-06-24T21:58:51.497646Z",
     "iopub.status.idle": "2025-06-24T21:58:51.514844Z",
     "shell.execute_reply": "2025-06-24T21:58:51.514844Z",
     "shell.execute_reply.started": "2025-06-24T21:58:51.497646Z"
    }
   },
   "outputs": [
    {
     "data": {
      "text/html": [
       "<style type=\"text/css\">\n",
       "#T_73c30_row5_col1, #T_73c30_row6_col0, #T_73c30_row27_col3, #T_73c30_row43_col1, #T_73c30_row45_col3 {\n",
       "  background-color: red;\n",
       "}\n",
       "</style>\n",
       "<table id=\"T_73c30\">\n",
       "  <thead>\n",
       "    <tr>\n",
       "      <th class=\"index_name level0\" >subreddit</th>\n",
       "      <th id=\"T_73c30_level0_col0\" class=\"col_heading level0 col0\" >LocalLLaMA</th>\n",
       "      <th id=\"T_73c30_level0_col1\" class=\"col_heading level0 col1\" >OpenAI</th>\n",
       "      <th id=\"T_73c30_level0_col2\" class=\"col_heading level0 col2\" >artificial</th>\n",
       "      <th id=\"T_73c30_level0_col3\" class=\"col_heading level0 col3\" >singularity</th>\n",
       "    </tr>\n",
       "    <tr>\n",
       "      <th class=\"index_name level0\" >date</th>\n",
       "      <th class=\"blank col0\" >&nbsp;</th>\n",
       "      <th class=\"blank col1\" >&nbsp;</th>\n",
       "      <th class=\"blank col2\" >&nbsp;</th>\n",
       "      <th class=\"blank col3\" >&nbsp;</th>\n",
       "    </tr>\n",
       "  </thead>\n",
       "  <tbody>\n",
       "    <tr>\n",
       "      <th id=\"T_73c30_level0_row0\" class=\"row_heading level0 row0\" >2025-05-08</th>\n",
       "      <td id=\"T_73c30_row0_col0\" class=\"data row0 col0\" >-0.044194</td>\n",
       "      <td id=\"T_73c30_row0_col1\" class=\"data row0 col1\" >-0.119832</td>\n",
       "      <td id=\"T_73c30_row0_col2\" class=\"data row0 col2\" >-0.871183</td>\n",
       "      <td id=\"T_73c30_row0_col3\" class=\"data row0 col3\" >-1.053798</td>\n",
       "    </tr>\n",
       "    <tr>\n",
       "      <th id=\"T_73c30_level0_row1\" class=\"row_heading level0 row1\" >2025-05-09</th>\n",
       "      <td id=\"T_73c30_row1_col0\" class=\"data row1 col0\" >0.403591</td>\n",
       "      <td id=\"T_73c30_row1_col1\" class=\"data row1 col1\" >1.229599</td>\n",
       "      <td id=\"T_73c30_row1_col2\" class=\"data row1 col2\" >-1.078368</td>\n",
       "      <td id=\"T_73c30_row1_col3\" class=\"data row1 col3\" >-1.174753</td>\n",
       "    </tr>\n",
       "    <tr>\n",
       "      <th id=\"T_73c30_level0_row2\" class=\"row_heading level0 row2\" >2025-05-10</th>\n",
       "      <td id=\"T_73c30_row2_col0\" class=\"data row2 col0\" >0.502283</td>\n",
       "      <td id=\"T_73c30_row2_col1\" class=\"data row2 col1\" >-1.493683</td>\n",
       "      <td id=\"T_73c30_row2_col2\" class=\"data row2 col2\" >-0.093901</td>\n",
       "      <td id=\"T_73c30_row2_col3\" class=\"data row2 col3\" >-0.676206</td>\n",
       "    </tr>\n",
       "    <tr>\n",
       "      <th id=\"T_73c30_level0_row3\" class=\"row_heading level0 row3\" >2025-05-11</th>\n",
       "      <td id=\"T_73c30_row3_col0\" class=\"data row3 col0\" >-1.258698</td>\n",
       "      <td id=\"T_73c30_row3_col1\" class=\"data row3 col1\" >0.342304</td>\n",
       "      <td id=\"T_73c30_row3_col2\" class=\"data row3 col2\" >-0.902464</td>\n",
       "      <td id=\"T_73c30_row3_col3\" class=\"data row3 col3\" >1.518415</td>\n",
       "    </tr>\n",
       "    <tr>\n",
       "      <th id=\"T_73c30_level0_row4\" class=\"row_heading level0 row4\" >2025-05-12</th>\n",
       "      <td id=\"T_73c30_row4_col0\" class=\"data row4 col0\" >-2.167469</td>\n",
       "      <td id=\"T_73c30_row4_col1\" class=\"data row4 col1\" >-0.389167</td>\n",
       "      <td id=\"T_73c30_row4_col2\" class=\"data row4 col2\" >-0.588013</td>\n",
       "      <td id=\"T_73c30_row4_col3\" class=\"data row4 col3\" >-1.014135</td>\n",
       "    </tr>\n",
       "    <tr>\n",
       "      <th id=\"T_73c30_level0_row5\" class=\"row_heading level0 row5\" >2025-05-13</th>\n",
       "      <td id=\"T_73c30_row5_col0\" class=\"data row5 col0\" >0.332501</td>\n",
       "      <td id=\"T_73c30_row5_col1\" class=\"data row5 col1\" >-3.434951</td>\n",
       "      <td id=\"T_73c30_row5_col2\" class=\"data row5 col2\" >2.930380</td>\n",
       "      <td id=\"T_73c30_row5_col3\" class=\"data row5 col3\" >0.205499</td>\n",
       "    </tr>\n",
       "    <tr>\n",
       "      <th id=\"T_73c30_level0_row6\" class=\"row_heading level0 row6\" >2025-05-14</th>\n",
       "      <td id=\"T_73c30_row6_col0\" class=\"data row6 col0\" >3.364345</td>\n",
       "      <td id=\"T_73c30_row6_col1\" class=\"data row6 col1\" >-0.956420</td>\n",
       "      <td id=\"T_73c30_row6_col2\" class=\"data row6 col2\" >-0.526388</td>\n",
       "      <td id=\"T_73c30_row6_col3\" class=\"data row6 col3\" >1.531968</td>\n",
       "    </tr>\n",
       "    <tr>\n",
       "      <th id=\"T_73c30_level0_row7\" class=\"row_heading level0 row7\" >2025-05-15</th>\n",
       "      <td id=\"T_73c30_row7_col0\" class=\"data row7 col0\" >-0.725389</td>\n",
       "      <td id=\"T_73c30_row7_col1\" class=\"data row7 col1\" >0.081388</td>\n",
       "      <td id=\"T_73c30_row7_col2\" class=\"data row7 col2\" >-2.332290</td>\n",
       "      <td id=\"T_73c30_row7_col3\" class=\"data row7 col3\" >-0.305970</td>\n",
       "    </tr>\n",
       "    <tr>\n",
       "      <th id=\"T_73c30_level0_row8\" class=\"row_heading level0 row8\" >2025-05-16</th>\n",
       "      <td id=\"T_73c30_row8_col0\" class=\"data row8 col0\" >-0.653573</td>\n",
       "      <td id=\"T_73c30_row8_col1\" class=\"data row8 col1\" >-0.582556</td>\n",
       "      <td id=\"T_73c30_row8_col2\" class=\"data row8 col2\" >-0.770156</td>\n",
       "      <td id=\"T_73c30_row8_col3\" class=\"data row8 col3\" >0.037852</td>\n",
       "    </tr>\n",
       "    <tr>\n",
       "      <th id=\"T_73c30_level0_row9\" class=\"row_heading level0 row9\" >2025-05-17</th>\n",
       "      <td id=\"T_73c30_row9_col0\" class=\"data row9 col0\" >-0.804320</td>\n",
       "      <td id=\"T_73c30_row9_col1\" class=\"data row9 col1\" >0.412928</td>\n",
       "      <td id=\"T_73c30_row9_col2\" class=\"data row9 col2\" >0.356351</td>\n",
       "      <td id=\"T_73c30_row9_col3\" class=\"data row9 col3\" >-1.132476</td>\n",
       "    </tr>\n",
       "    <tr>\n",
       "      <th id=\"T_73c30_level0_row10\" class=\"row_heading level0 row10\" >2025-05-18</th>\n",
       "      <td id=\"T_73c30_row10_col0\" class=\"data row10 col0\" >0.042610</td>\n",
       "      <td id=\"T_73c30_row10_col1\" class=\"data row10 col1\" >1.183579</td>\n",
       "      <td id=\"T_73c30_row10_col2\" class=\"data row10 col2\" >0.572702</td>\n",
       "      <td id=\"T_73c30_row10_col3\" class=\"data row10 col3\" >-1.373600</td>\n",
       "    </tr>\n",
       "    <tr>\n",
       "      <th id=\"T_73c30_level0_row11\" class=\"row_heading level0 row11\" >2025-05-19</th>\n",
       "      <td id=\"T_73c30_row11_col0\" class=\"data row11 col0\" >0.045067</td>\n",
       "      <td id=\"T_73c30_row11_col1\" class=\"data row11 col1\" >-2.333859</td>\n",
       "      <td id=\"T_73c30_row11_col2\" class=\"data row11 col2\" >-0.364828</td>\n",
       "      <td id=\"T_73c30_row11_col3\" class=\"data row11 col3\" >1.027555</td>\n",
       "    </tr>\n",
       "    <tr>\n",
       "      <th id=\"T_73c30_level0_row12\" class=\"row_heading level0 row12\" >2025-05-20</th>\n",
       "      <td id=\"T_73c30_row12_col0\" class=\"data row12 col0\" >0.091186</td>\n",
       "      <td id=\"T_73c30_row12_col1\" class=\"data row12 col1\" >1.945140</td>\n",
       "      <td id=\"T_73c30_row12_col2\" class=\"data row12 col2\" >1.578278</td>\n",
       "      <td id=\"T_73c30_row12_col3\" class=\"data row12 col3\" >1.261514</td>\n",
       "    </tr>\n",
       "    <tr>\n",
       "      <th id=\"T_73c30_level0_row13\" class=\"row_heading level0 row13\" >2025-05-21</th>\n",
       "      <td id=\"T_73c30_row13_col0\" class=\"data row13 col0\" >-0.533151</td>\n",
       "      <td id=\"T_73c30_row13_col1\" class=\"data row13 col1\" >0.225542</td>\n",
       "      <td id=\"T_73c30_row13_col2\" class=\"data row13 col2\" >-1.494234</td>\n",
       "      <td id=\"T_73c30_row13_col3\" class=\"data row13 col3\" >1.073047</td>\n",
       "    </tr>\n",
       "    <tr>\n",
       "      <th id=\"T_73c30_level0_row14\" class=\"row_heading level0 row14\" >2025-05-22</th>\n",
       "      <td id=\"T_73c30_row14_col0\" class=\"data row14 col0\" >0.955171</td>\n",
       "      <td id=\"T_73c30_row14_col1\" class=\"data row14 col1\" >-0.053678</td>\n",
       "      <td id=\"T_73c30_row14_col2\" class=\"data row14 col2\" >-1.962915</td>\n",
       "      <td id=\"T_73c30_row14_col3\" class=\"data row14 col3\" >-1.005345</td>\n",
       "    </tr>\n",
       "    <tr>\n",
       "      <th id=\"T_73c30_level0_row15\" class=\"row_heading level0 row15\" >2025-05-23</th>\n",
       "      <td id=\"T_73c30_row15_col0\" class=\"data row15 col0\" >-2.340671</td>\n",
       "      <td id=\"T_73c30_row15_col1\" class=\"data row15 col1\" >0.380027</td>\n",
       "      <td id=\"T_73c30_row15_col2\" class=\"data row15 col2\" >2.630616</td>\n",
       "      <td id=\"T_73c30_row15_col3\" class=\"data row15 col3\" >0.696121</td>\n",
       "    </tr>\n",
       "    <tr>\n",
       "      <th id=\"T_73c30_level0_row16\" class=\"row_heading level0 row16\" >2025-05-24</th>\n",
       "      <td id=\"T_73c30_row16_col0\" class=\"data row16 col0\" >1.211108</td>\n",
       "      <td id=\"T_73c30_row16_col1\" class=\"data row16 col1\" >2.414997</td>\n",
       "      <td id=\"T_73c30_row16_col2\" class=\"data row16 col2\" >1.516051</td>\n",
       "      <td id=\"T_73c30_row16_col3\" class=\"data row16 col3\" >-0.078288</td>\n",
       "    </tr>\n",
       "    <tr>\n",
       "      <th id=\"T_73c30_level0_row17\" class=\"row_heading level0 row17\" >2025-05-25</th>\n",
       "      <td id=\"T_73c30_row17_col0\" class=\"data row17 col0\" >-1.167484</td>\n",
       "      <td id=\"T_73c30_row17_col1\" class=\"data row17 col1\" >0.952176</td>\n",
       "      <td id=\"T_73c30_row17_col2\" class=\"data row17 col2\" >0.798131</td>\n",
       "      <td id=\"T_73c30_row17_col3\" class=\"data row17 col3\" >0.313335</td>\n",
       "    </tr>\n",
       "    <tr>\n",
       "      <th id=\"T_73c30_level0_row18\" class=\"row_heading level0 row18\" >2025-05-26</th>\n",
       "      <td id=\"T_73c30_row18_col0\" class=\"data row18 col0\" >0.362807</td>\n",
       "      <td id=\"T_73c30_row18_col1\" class=\"data row18 col1\" >-0.814531</td>\n",
       "      <td id=\"T_73c30_row18_col2\" class=\"data row18 col2\" >1.366979</td>\n",
       "      <td id=\"T_73c30_row18_col3\" class=\"data row18 col3\" >-0.162863</td>\n",
       "    </tr>\n",
       "    <tr>\n",
       "      <th id=\"T_73c30_level0_row19\" class=\"row_heading level0 row19\" >2025-05-27</th>\n",
       "      <td id=\"T_73c30_row19_col0\" class=\"data row19 col0\" >-2.376909</td>\n",
       "      <td id=\"T_73c30_row19_col1\" class=\"data row19 col1\" >-0.327798</td>\n",
       "      <td id=\"T_73c30_row19_col2\" class=\"data row19 col2\" >-1.540509</td>\n",
       "      <td id=\"T_73c30_row19_col3\" class=\"data row19 col3\" >1.831157</td>\n",
       "    </tr>\n",
       "    <tr>\n",
       "      <th id=\"T_73c30_level0_row20\" class=\"row_heading level0 row20\" >2025-05-28</th>\n",
       "      <td id=\"T_73c30_row20_col0\" class=\"data row20 col0\" >0.506768</td>\n",
       "      <td id=\"T_73c30_row20_col1\" class=\"data row20 col1\" >-0.099355</td>\n",
       "      <td id=\"T_73c30_row20_col2\" class=\"data row20 col2\" >-0.040696</td>\n",
       "      <td id=\"T_73c30_row20_col3\" class=\"data row20 col3\" >-0.281792</td>\n",
       "    </tr>\n",
       "    <tr>\n",
       "      <th id=\"T_73c30_level0_row21\" class=\"row_heading level0 row21\" >2025-05-29</th>\n",
       "      <td id=\"T_73c30_row21_col0\" class=\"data row21 col0\" >1.429324</td>\n",
       "      <td id=\"T_73c30_row21_col1\" class=\"data row21 col1\" >-0.846192</td>\n",
       "      <td id=\"T_73c30_row21_col2\" class=\"data row21 col2\" >2.571573</td>\n",
       "      <td id=\"T_73c30_row21_col3\" class=\"data row21 col3\" >-0.281824</td>\n",
       "    </tr>\n",
       "    <tr>\n",
       "      <th id=\"T_73c30_level0_row22\" class=\"row_heading level0 row22\" >2025-05-30</th>\n",
       "      <td id=\"T_73c30_row22_col0\" class=\"data row22 col0\" >1.015244</td>\n",
       "      <td id=\"T_73c30_row22_col1\" class=\"data row22 col1\" >0.004725</td>\n",
       "      <td id=\"T_73c30_row22_col2\" class=\"data row22 col2\" >-1.024469</td>\n",
       "      <td id=\"T_73c30_row22_col3\" class=\"data row22 col3\" >-0.622153</td>\n",
       "    </tr>\n",
       "    <tr>\n",
       "      <th id=\"T_73c30_level0_row23\" class=\"row_heading level0 row23\" >2025-05-31</th>\n",
       "      <td id=\"T_73c30_row23_col0\" class=\"data row23 col0\" >-2.224623</td>\n",
       "      <td id=\"T_73c30_row23_col1\" class=\"data row23 col1\" >0.047550</td>\n",
       "      <td id=\"T_73c30_row23_col2\" class=\"data row23 col2\" >0.600559</td>\n",
       "      <td id=\"T_73c30_row23_col3\" class=\"data row23 col3\" >-0.899762</td>\n",
       "    </tr>\n",
       "    <tr>\n",
       "      <th id=\"T_73c30_level0_row24\" class=\"row_heading level0 row24\" >2025-06-01</th>\n",
       "      <td id=\"T_73c30_row24_col0\" class=\"data row24 col0\" >1.052451</td>\n",
       "      <td id=\"T_73c30_row24_col1\" class=\"data row24 col1\" >1.328365</td>\n",
       "      <td id=\"T_73c30_row24_col2\" class=\"data row24 col2\" >0.741410</td>\n",
       "      <td id=\"T_73c30_row24_col3\" class=\"data row24 col3\" >-1.496282</td>\n",
       "    </tr>\n",
       "    <tr>\n",
       "      <th id=\"T_73c30_level0_row25\" class=\"row_heading level0 row25\" >2025-06-02</th>\n",
       "      <td id=\"T_73c30_row25_col0\" class=\"data row25 col0\" >0.520514</td>\n",
       "      <td id=\"T_73c30_row25_col1\" class=\"data row25 col1\" >-0.370123</td>\n",
       "      <td id=\"T_73c30_row25_col2\" class=\"data row25 col2\" >-1.168059</td>\n",
       "      <td id=\"T_73c30_row25_col3\" class=\"data row25 col3\" >-1.622483</td>\n",
       "    </tr>\n",
       "    <tr>\n",
       "      <th id=\"T_73c30_level0_row26\" class=\"row_heading level0 row26\" >2025-06-03</th>\n",
       "      <td id=\"T_73c30_row26_col0\" class=\"data row26 col0\" >2.091989</td>\n",
       "      <td id=\"T_73c30_row26_col1\" class=\"data row26 col1\" >-2.331258</td>\n",
       "      <td id=\"T_73c30_row26_col2\" class=\"data row26 col2\" >-0.880932</td>\n",
       "      <td id=\"T_73c30_row26_col3\" class=\"data row26 col3\" >-1.191772</td>\n",
       "    </tr>\n",
       "    <tr>\n",
       "      <th id=\"T_73c30_level0_row27\" class=\"row_heading level0 row27\" >2025-06-04</th>\n",
       "      <td id=\"T_73c30_row27_col0\" class=\"data row27 col0\" >-0.333966</td>\n",
       "      <td id=\"T_73c30_row27_col1\" class=\"data row27 col1\" >-1.151395</td>\n",
       "      <td id=\"T_73c30_row27_col2\" class=\"data row27 col2\" >-0.870942</td>\n",
       "      <td id=\"T_73c30_row27_col3\" class=\"data row27 col3\" >3.864479</td>\n",
       "    </tr>\n",
       "    <tr>\n",
       "      <th id=\"T_73c30_level0_row28\" class=\"row_heading level0 row28\" >2025-06-05</th>\n",
       "      <td id=\"T_73c30_row28_col0\" class=\"data row28 col0\" >-0.134243</td>\n",
       "      <td id=\"T_73c30_row28_col1\" class=\"data row28 col1\" >1.060434</td>\n",
       "      <td id=\"T_73c30_row28_col2\" class=\"data row28 col2\" >-1.354283</td>\n",
       "      <td id=\"T_73c30_row28_col3\" class=\"data row28 col3\" >1.134746</td>\n",
       "    </tr>\n",
       "    <tr>\n",
       "      <th id=\"T_73c30_level0_row29\" class=\"row_heading level0 row29\" >2025-06-06</th>\n",
       "      <td id=\"T_73c30_row29_col0\" class=\"data row29 col0\" >1.412021</td>\n",
       "      <td id=\"T_73c30_row29_col1\" class=\"data row29 col1\" >-0.210666</td>\n",
       "      <td id=\"T_73c30_row29_col2\" class=\"data row29 col2\" >-0.126506</td>\n",
       "      <td id=\"T_73c30_row29_col3\" class=\"data row29 col3\" >1.131646</td>\n",
       "    </tr>\n",
       "    <tr>\n",
       "      <th id=\"T_73c30_level0_row30\" class=\"row_heading level0 row30\" >2025-06-07</th>\n",
       "      <td id=\"T_73c30_row30_col0\" class=\"data row30 col0\" >0.005485</td>\n",
       "      <td id=\"T_73c30_row30_col1\" class=\"data row30 col1\" >0.743742</td>\n",
       "      <td id=\"T_73c30_row30_col2\" class=\"data row30 col2\" >0.393000</td>\n",
       "      <td id=\"T_73c30_row30_col3\" class=\"data row30 col3\" >0.812612</td>\n",
       "    </tr>\n",
       "    <tr>\n",
       "      <th id=\"T_73c30_level0_row31\" class=\"row_heading level0 row31\" >2025-06-08</th>\n",
       "      <td id=\"T_73c30_row31_col0\" class=\"data row31 col0\" >-1.177690</td>\n",
       "      <td id=\"T_73c30_row31_col1\" class=\"data row31 col1\" >0.077874</td>\n",
       "      <td id=\"T_73c30_row31_col2\" class=\"data row31 col2\" >-0.769660</td>\n",
       "      <td id=\"T_73c30_row31_col3\" class=\"data row31 col3\" >-0.886763</td>\n",
       "    </tr>\n",
       "    <tr>\n",
       "      <th id=\"T_73c30_level0_row32\" class=\"row_heading level0 row32\" >2025-06-09</th>\n",
       "      <td id=\"T_73c30_row32_col0\" class=\"data row32 col0\" >0.099286</td>\n",
       "      <td id=\"T_73c30_row32_col1\" class=\"data row32 col1\" >1.456970</td>\n",
       "      <td id=\"T_73c30_row32_col2\" class=\"data row32 col2\" >1.462335</td>\n",
       "      <td id=\"T_73c30_row32_col3\" class=\"data row32 col3\" >-0.743442</td>\n",
       "    </tr>\n",
       "    <tr>\n",
       "      <th id=\"T_73c30_level0_row33\" class=\"row_heading level0 row33\" >2025-06-10</th>\n",
       "      <td id=\"T_73c30_row33_col0\" class=\"data row33 col0\" >2.093233</td>\n",
       "      <td id=\"T_73c30_row33_col1\" class=\"data row33 col1\" >-0.617740</td>\n",
       "      <td id=\"T_73c30_row33_col2\" class=\"data row33 col2\" >0.492822</td>\n",
       "      <td id=\"T_73c30_row33_col3\" class=\"data row33 col3\" >-0.101424</td>\n",
       "    </tr>\n",
       "    <tr>\n",
       "      <th id=\"T_73c30_level0_row34\" class=\"row_heading level0 row34\" >2025-06-11</th>\n",
       "      <td id=\"T_73c30_row34_col0\" class=\"data row34 col0\" >0.600059</td>\n",
       "      <td id=\"T_73c30_row34_col1\" class=\"data row34 col1\" >2.094294</td>\n",
       "      <td id=\"T_73c30_row34_col2\" class=\"data row34 col2\" >0.037819</td>\n",
       "      <td id=\"T_73c30_row34_col3\" class=\"data row34 col3\" >0.461712</td>\n",
       "    </tr>\n",
       "    <tr>\n",
       "      <th id=\"T_73c30_level0_row35\" class=\"row_heading level0 row35\" >2025-06-12</th>\n",
       "      <td id=\"T_73c30_row35_col0\" class=\"data row35 col0\" >0.177291</td>\n",
       "      <td id=\"T_73c30_row35_col1\" class=\"data row35 col1\" >-2.477452</td>\n",
       "      <td id=\"T_73c30_row35_col2\" class=\"data row35 col2\" >1.112029</td>\n",
       "      <td id=\"T_73c30_row35_col3\" class=\"data row35 col3\" >1.461535</td>\n",
       "    </tr>\n",
       "    <tr>\n",
       "      <th id=\"T_73c30_level0_row36\" class=\"row_heading level0 row36\" >2025-06-13</th>\n",
       "      <td id=\"T_73c30_row36_col0\" class=\"data row36 col0\" >1.369635</td>\n",
       "      <td id=\"T_73c30_row36_col1\" class=\"data row36 col1\" >1.055051</td>\n",
       "      <td id=\"T_73c30_row36_col2\" class=\"data row36 col2\" >1.789994</td>\n",
       "      <td id=\"T_73c30_row36_col3\" class=\"data row36 col3\" >1.882643</td>\n",
       "    </tr>\n",
       "    <tr>\n",
       "      <th id=\"T_73c30_level0_row37\" class=\"row_heading level0 row37\" >2025-06-14</th>\n",
       "      <td id=\"T_73c30_row37_col0\" class=\"data row37 col0\" >-2.056550</td>\n",
       "      <td id=\"T_73c30_row37_col1\" class=\"data row37 col1\" >0.503585</td>\n",
       "      <td id=\"T_73c30_row37_col2\" class=\"data row37 col2\" >0.529743</td>\n",
       "      <td id=\"T_73c30_row37_col3\" class=\"data row37 col3\" >2.430223</td>\n",
       "    </tr>\n",
       "    <tr>\n",
       "      <th id=\"T_73c30_level0_row38\" class=\"row_heading level0 row38\" >2025-06-15</th>\n",
       "      <td id=\"T_73c30_row38_col0\" class=\"data row38 col0\" >0.033870</td>\n",
       "      <td id=\"T_73c30_row38_col1\" class=\"data row38 col1\" >-0.739333</td>\n",
       "      <td id=\"T_73c30_row38_col2\" class=\"data row38 col2\" >-0.770163</td>\n",
       "      <td id=\"T_73c30_row38_col3\" class=\"data row38 col3\" >-0.307101</td>\n",
       "    </tr>\n",
       "    <tr>\n",
       "      <th id=\"T_73c30_level0_row39\" class=\"row_heading level0 row39\" >2025-06-16</th>\n",
       "      <td id=\"T_73c30_row39_col0\" class=\"data row39 col0\" >-1.762794</td>\n",
       "      <td id=\"T_73c30_row39_col1\" class=\"data row39 col1\" >-1.198593</td>\n",
       "      <td id=\"T_73c30_row39_col2\" class=\"data row39 col2\" >-1.290733</td>\n",
       "      <td id=\"T_73c30_row39_col3\" class=\"data row39 col3\" >-0.460972</td>\n",
       "    </tr>\n",
       "    <tr>\n",
       "      <th id=\"T_73c30_level0_row40\" class=\"row_heading level0 row40\" >2025-06-17</th>\n",
       "      <td id=\"T_73c30_row40_col0\" class=\"data row40 col0\" >-0.768915</td>\n",
       "      <td id=\"T_73c30_row40_col1\" class=\"data row40 col1\" >0.528013</td>\n",
       "      <td id=\"T_73c30_row40_col2\" class=\"data row40 col2\" >1.871727</td>\n",
       "      <td id=\"T_73c30_row40_col3\" class=\"data row40 col3\" >-1.186198</td>\n",
       "    </tr>\n",
       "    <tr>\n",
       "      <th id=\"T_73c30_level0_row41\" class=\"row_heading level0 row41\" >2025-06-18</th>\n",
       "      <td id=\"T_73c30_row41_col0\" class=\"data row41 col0\" >0.279047</td>\n",
       "      <td id=\"T_73c30_row41_col1\" class=\"data row41 col1\" >-0.375068</td>\n",
       "      <td id=\"T_73c30_row41_col2\" class=\"data row41 col2\" >-1.127651</td>\n",
       "      <td id=\"T_73c30_row41_col3\" class=\"data row41 col3\" >-1.097628</td>\n",
       "    </tr>\n",
       "    <tr>\n",
       "      <th id=\"T_73c30_level0_row42\" class=\"row_heading level0 row42\" >2025-06-19</th>\n",
       "      <td id=\"T_73c30_row42_col0\" class=\"data row42 col0\" >-0.648869</td>\n",
       "      <td id=\"T_73c30_row42_col1\" class=\"data row42 col1\" >1.761289</td>\n",
       "      <td id=\"T_73c30_row42_col2\" class=\"data row42 col2\" >-1.395471</td>\n",
       "      <td id=\"T_73c30_row42_col3\" class=\"data row42 col3\" >-0.876198</td>\n",
       "    </tr>\n",
       "    <tr>\n",
       "      <th id=\"T_73c30_level0_row43\" class=\"row_heading level0 row43\" >2025-06-20</th>\n",
       "      <td id=\"T_73c30_row43_col0\" class=\"data row43 col0\" >1.499789</td>\n",
       "      <td id=\"T_73c30_row43_col1\" class=\"data row43 col1\" >-3.225222</td>\n",
       "      <td id=\"T_73c30_row43_col2\" class=\"data row43 col2\" >-0.894687</td>\n",
       "      <td id=\"T_73c30_row43_col3\" class=\"data row43 col3\" >-0.752625</td>\n",
       "    </tr>\n",
       "    <tr>\n",
       "      <th id=\"T_73c30_level0_row44\" class=\"row_heading level0 row44\" >2025-06-21</th>\n",
       "      <td id=\"T_73c30_row44_col0\" class=\"data row44 col0\" >-1.023443</td>\n",
       "      <td id=\"T_73c30_row44_col1\" class=\"data row44 col1\" >-1.240655</td>\n",
       "      <td id=\"T_73c30_row44_col2\" class=\"data row44 col2\" >-0.932564</td>\n",
       "      <td id=\"T_73c30_row44_col3\" class=\"data row44 col3\" >-0.348584</td>\n",
       "    </tr>\n",
       "    <tr>\n",
       "      <th id=\"T_73c30_level0_row45\" class=\"row_heading level0 row45\" >2025-06-22</th>\n",
       "      <td id=\"T_73c30_row45_col0\" class=\"data row45 col0\" >0.969063</td>\n",
       "      <td id=\"T_73c30_row45_col1\" class=\"data row45 col1\" >1.197812</td>\n",
       "      <td id=\"T_73c30_row45_col2\" class=\"data row45 col2\" >1.602163</td>\n",
       "      <td id=\"T_73c30_row45_col3\" class=\"data row45 col3\" >8.705383</td>\n",
       "    </tr>\n",
       "    <tr>\n",
       "      <th id=\"T_73c30_level0_row46\" class=\"row_heading level0 row46\" >2025-06-23</th>\n",
       "      <td id=\"T_73c30_row46_col0\" class=\"data row46 col0\" >nan</td>\n",
       "      <td id=\"T_73c30_row46_col1\" class=\"data row46 col1\" >0.383280</td>\n",
       "      <td id=\"T_73c30_row46_col2\" class=\"data row46 col2\" >0.779473</td>\n",
       "      <td id=\"T_73c30_row46_col3\" class=\"data row46 col3\" >-2.011176</td>\n",
       "    </tr>\n",
       "  </tbody>\n",
       "</table>\n"
      ],
      "text/plain": [
       "<pandas.io.formats.style.Styler at 0x1e8c0e62ba0>"
      ]
     },
     "execution_count": 186,
     "metadata": {},
     "output_type": "execute_result"
    }
   ],
   "source": [
    "df_zscores = df_history.pipe(pd.pivot_table, index='date',columns='subreddit',values='z_score',aggfunc=\"max\")\n",
    "\n",
    "def highlight_abs_gt_3(val):\n",
    "    return 'background-color: red' if abs(val) > 3 else ''\n",
    "\n",
    "styled = df_zscores.style.map(highlight_abs_gt_3)\n",
    "\n",
    "styled"
   ]
  },
  {
   "cell_type": "markdown",
   "id": "45cf9a6d-532a-4083-9781-81ff8bdce488",
   "metadata": {},
   "source": [
    "Looking at the June 22 spike, it's suspicious we found an 8.7 sigma spike\n",
    "- The prior week (6/15 -- 6/21) had a smaller std, which suddenly dropped to 0.019 from 0.1 ish\n",
    "- This caused the current day's -0.25 score to look really spikey\n",
    "\n",
    "However, based on the data beyond just the prior week, the -.25 score is not that significant! See plenty of values near -0.2 prior to that week\n",
    "\n",
    "Therefore is probably not a huge spike to alert on, so we need a more stable std calculation."
   ]
  },
  {
   "cell_type": "code",
   "execution_count": 187,
   "id": "f27992da-d1ec-4087-8100-513df36e8246",
   "metadata": {
    "execution": {
     "iopub.execute_input": "2025-06-24T21:58:51.834680Z",
     "iopub.status.busy": "2025-06-24T21:58:51.832679Z",
     "iopub.status.idle": "2025-06-24T21:58:51.844699Z",
     "shell.execute_reply": "2025-06-24T21:58:51.844699Z",
     "shell.execute_reply.started": "2025-06-24T21:58:51.834680Z"
    }
   },
   "outputs": [
    {
     "data": {
      "text/html": [
       "<div>\n",
       "<style scoped>\n",
       "    .dataframe tbody tr th:only-of-type {\n",
       "        vertical-align: middle;\n",
       "    }\n",
       "\n",
       "    .dataframe tbody tr th {\n",
       "        vertical-align: top;\n",
       "    }\n",
       "\n",
       "    .dataframe thead th {\n",
       "        text-align: right;\n",
       "    }\n",
       "</style>\n",
       "<table border=\"1\" class=\"dataframe\">\n",
       "  <thead>\n",
       "    <tr style=\"text-align: right;\">\n",
       "      <th></th>\n",
       "      <th>date</th>\n",
       "      <th>subreddit</th>\n",
       "      <th>community_weighted_sentiment</th>\n",
       "      <th>mean_cws</th>\n",
       "      <th>std_cws</th>\n",
       "      <th>z_score</th>\n",
       "    </tr>\n",
       "  </thead>\n",
       "  <tbody>\n",
       "    <tr>\n",
       "      <th>151</th>\n",
       "      <td>2025-06-07</td>\n",
       "      <td>singularity</td>\n",
       "      <td>-0.352707</td>\n",
       "      <td>-0.425644</td>\n",
       "      <td>0.089756</td>\n",
       "      <td>0.812612</td>\n",
       "    </tr>\n",
       "    <tr>\n",
       "      <th>155</th>\n",
       "      <td>2025-06-08</td>\n",
       "      <td>singularity</td>\n",
       "      <td>-0.493835</td>\n",
       "      <td>-0.411582</td>\n",
       "      <td>0.092756</td>\n",
       "      <td>-0.886763</td>\n",
       "    </tr>\n",
       "    <tr>\n",
       "      <th>159</th>\n",
       "      <td>2025-06-09</td>\n",
       "      <td>singularity</td>\n",
       "      <td>-0.482524</td>\n",
       "      <td>-0.412734</td>\n",
       "      <td>0.093874</td>\n",
       "      <td>-0.743442</td>\n",
       "    </tr>\n",
       "    <tr>\n",
       "      <th>163</th>\n",
       "      <td>2025-06-10</td>\n",
       "      <td>singularity</td>\n",
       "      <td>-0.416534</td>\n",
       "      <td>-0.407614</td>\n",
       "      <td>0.087944</td>\n",
       "      <td>-0.101424</td>\n",
       "    </tr>\n",
       "    <tr>\n",
       "      <th>167</th>\n",
       "      <td>2025-06-11</td>\n",
       "      <td>singularity</td>\n",
       "      <td>-0.358953</td>\n",
       "      <td>-0.392952</td>\n",
       "      <td>0.073637</td>\n",
       "      <td>0.461712</td>\n",
       "    </tr>\n",
       "    <tr>\n",
       "      <th>171</th>\n",
       "      <td>2025-06-12</td>\n",
       "      <td>singularity</td>\n",
       "      <td>-0.308392</td>\n",
       "      <td>-0.401512</td>\n",
       "      <td>0.063714</td>\n",
       "      <td>1.461535</td>\n",
       "    </tr>\n",
       "    <tr>\n",
       "      <th>175</th>\n",
       "      <td>2025-06-13</td>\n",
       "      <td>singularity</td>\n",
       "      <td>-0.258518</td>\n",
       "      <td>-0.393909</td>\n",
       "      <td>0.071916</td>\n",
       "      <td>1.882643</td>\n",
       "    </tr>\n",
       "    <tr>\n",
       "      <th>179</th>\n",
       "      <td>2025-06-14</td>\n",
       "      <td>singularity</td>\n",
       "      <td>-0.169175</td>\n",
       "      <td>-0.381637</td>\n",
       "      <td>0.087425</td>\n",
       "      <td>2.430223</td>\n",
       "    </tr>\n",
       "    <tr>\n",
       "      <th>183</th>\n",
       "      <td>2025-06-15</td>\n",
       "      <td>singularity</td>\n",
       "      <td>-0.392046</td>\n",
       "      <td>-0.355419</td>\n",
       "      <td>0.119269</td>\n",
       "      <td>-0.307101</td>\n",
       "    </tr>\n",
       "    <tr>\n",
       "      <th>187</th>\n",
       "      <td>2025-06-16</td>\n",
       "      <td>singularity</td>\n",
       "      <td>-0.389244</td>\n",
       "      <td>-0.340877</td>\n",
       "      <td>0.104923</td>\n",
       "      <td>-0.460972</td>\n",
       "    </tr>\n",
       "    <tr>\n",
       "      <th>191</th>\n",
       "      <td>2025-06-17</td>\n",
       "      <td>singularity</td>\n",
       "      <td>-0.432632</td>\n",
       "      <td>-0.327552</td>\n",
       "      <td>0.088586</td>\n",
       "      <td>-1.186198</td>\n",
       "    </tr>\n",
       "    <tr>\n",
       "      <th>195</th>\n",
       "      <td>2025-06-18</td>\n",
       "      <td>singularity</td>\n",
       "      <td>-0.430223</td>\n",
       "      <td>-0.329851</td>\n",
       "      <td>0.091444</td>\n",
       "      <td>-1.097628</td>\n",
       "    </tr>\n",
       "    <tr>\n",
       "      <th>199</th>\n",
       "      <td>2025-06-19</td>\n",
       "      <td>singularity</td>\n",
       "      <td>-0.426679</td>\n",
       "      <td>-0.340033</td>\n",
       "      <td>0.098889</td>\n",
       "      <td>-0.876198</td>\n",
       "    </tr>\n",
       "    <tr>\n",
       "      <th>203</th>\n",
       "      <td>2025-06-20</td>\n",
       "      <td>singularity</td>\n",
       "      <td>-0.434163</td>\n",
       "      <td>-0.356931</td>\n",
       "      <td>0.102617</td>\n",
       "      <td>-0.752625</td>\n",
       "    </tr>\n",
       "    <tr>\n",
       "      <th>207</th>\n",
       "      <td>2025-06-21</td>\n",
       "      <td>singularity</td>\n",
       "      <td>-0.415414</td>\n",
       "      <td>-0.382023</td>\n",
       "      <td>0.095790</td>\n",
       "      <td>-0.348584</td>\n",
       "    </tr>\n",
       "    <tr>\n",
       "      <th>211</th>\n",
       "      <td>2025-06-22</td>\n",
       "      <td>singularity</td>\n",
       "      <td>-0.250397</td>\n",
       "      <td>-0.417200</td>\n",
       "      <td>0.019161</td>\n",
       "      <td>8.705383</td>\n",
       "    </tr>\n",
       "  </tbody>\n",
       "</table>\n",
       "</div>"
      ],
      "text/plain": [
       "           date    subreddit  community_weighted_sentiment  mean_cws  \\\n",
       "151  2025-06-07  singularity                     -0.352707 -0.425644   \n",
       "155  2025-06-08  singularity                     -0.493835 -0.411582   \n",
       "159  2025-06-09  singularity                     -0.482524 -0.412734   \n",
       "163  2025-06-10  singularity                     -0.416534 -0.407614   \n",
       "167  2025-06-11  singularity                     -0.358953 -0.392952   \n",
       "171  2025-06-12  singularity                     -0.308392 -0.401512   \n",
       "175  2025-06-13  singularity                     -0.258518 -0.393909   \n",
       "179  2025-06-14  singularity                     -0.169175 -0.381637   \n",
       "183  2025-06-15  singularity                     -0.392046 -0.355419   \n",
       "187  2025-06-16  singularity                     -0.389244 -0.340877   \n",
       "191  2025-06-17  singularity                     -0.432632 -0.327552   \n",
       "195  2025-06-18  singularity                     -0.430223 -0.329851   \n",
       "199  2025-06-19  singularity                     -0.426679 -0.340033   \n",
       "203  2025-06-20  singularity                     -0.434163 -0.356931   \n",
       "207  2025-06-21  singularity                     -0.415414 -0.382023   \n",
       "211  2025-06-22  singularity                     -0.250397 -0.417200   \n",
       "\n",
       "      std_cws   z_score  \n",
       "151  0.089756  0.812612  \n",
       "155  0.092756 -0.886763  \n",
       "159  0.093874 -0.743442  \n",
       "163  0.087944 -0.101424  \n",
       "167  0.073637  0.461712  \n",
       "171  0.063714  1.461535  \n",
       "175  0.071916  1.882643  \n",
       "179  0.087425  2.430223  \n",
       "183  0.119269 -0.307101  \n",
       "187  0.104923 -0.460972  \n",
       "191  0.088586 -1.186198  \n",
       "195  0.091444 -1.097628  \n",
       "199  0.098889 -0.876198  \n",
       "203  0.102617 -0.752625  \n",
       "207  0.095790 -0.348584  \n",
       "211  0.019161  8.705383  "
      ]
     },
     "execution_count": 187,
     "metadata": {},
     "output_type": "execute_result"
    }
   ],
   "source": [
    "date = \"2025-06-22\"\n",
    "subreddit = \"singularity\"\n",
    "\n",
    "rightwindow = datetime.datetime.strptime(date,\"%Y-%m-%d\").date()\n",
    "leftwindow = rightwindow - datetime.timedelta(days=15)\n",
    "\n",
    "\n",
    "fil = lambda x: x.date.between(leftwindow,rightwindow) & (x.subreddit == subreddit)\n",
    "\n",
    "df_history[fil]"
   ]
  },
  {
   "cell_type": "code",
   "execution_count": 188,
   "id": "1cbd75a7-530b-47cd-b327-eee0477b06ba",
   "metadata": {
    "execution": {
     "iopub.execute_input": "2025-06-24T21:58:52.302354Z",
     "iopub.status.busy": "2025-06-24T21:58:52.298239Z",
     "iopub.status.idle": "2025-06-24T21:58:52.436682Z",
     "shell.execute_reply": "2025-06-24T21:58:52.436682Z",
     "shell.execute_reply.started": "2025-06-24T21:58:52.302354Z"
    }
   },
   "outputs": [
    {
     "data": {
      "text/plain": [
       "<Axes: xlabel='date', ylabel='sentiment score'>"
      ]
     },
     "execution_count": 188,
     "metadata": {},
     "output_type": "execute_result"
    },
    {
     "data": {
      "image/png": "[encoded data removed]",
      "text/plain": [
       "<Figure size 640x480 with 1 Axes>"
      ]
     },
     "metadata": {},
     "output_type": "display_data"
    }
   ],
   "source": [
    "df_history[fil].pipe(pd.pivot_table,index='date',values='community_weighted_sentiment',columns=['subreddit'],aggfunc='max').plot(rot=45,ylabel='sentiment score')"
   ]
  },
  {
   "cell_type": "markdown",
   "id": "9ada3fbb-d889-420b-888d-de7d86f5693e",
   "metadata": {},
   "source": [
    "### Method 2: Calculate z-score based on the mean and std of entire May's data"
   ]
  },
  {
   "cell_type": "code",
   "execution_count": 189,
   "id": "343165d0-7b6e-4ed4-bf8d-1ab4ca0537db",
   "metadata": {
    "execution": {
     "iopub.execute_input": "2025-06-24T21:58:53.788347Z",
     "iopub.status.busy": "2025-06-24T21:58:53.788347Z",
     "iopub.status.idle": "2025-06-24T21:58:53.802467Z",
     "shell.execute_reply": "2025-06-24T21:58:53.802467Z",
     "shell.execute_reply.started": "2025-06-24T21:58:53.788347Z"
    }
   },
   "outputs": [
    {
     "data": {
      "text/html": [
       "<div>\n",
       "<style scoped>\n",
       "    .dataframe tbody tr th:only-of-type {\n",
       "        vertical-align: middle;\n",
       "    }\n",
       "\n",
       "    .dataframe tbody tr th {\n",
       "        vertical-align: top;\n",
       "    }\n",
       "\n",
       "    .dataframe thead th {\n",
       "        text-align: right;\n",
       "    }\n",
       "</style>\n",
       "<table border=\"1\" class=\"dataframe\">\n",
       "  <thead>\n",
       "    <tr style=\"text-align: right;\">\n",
       "      <th></th>\n",
       "      <th>mean_cws</th>\n",
       "      <th>std_cws</th>\n",
       "    </tr>\n",
       "    <tr>\n",
       "      <th>subreddit</th>\n",
       "      <th></th>\n",
       "      <th></th>\n",
       "    </tr>\n",
       "  </thead>\n",
       "  <tbody>\n",
       "    <tr>\n",
       "      <th>LocalLLaMA</th>\n",
       "      <td>-0.485437</td>\n",
       "      <td>0.069627</td>\n",
       "    </tr>\n",
       "    <tr>\n",
       "      <th>OpenAI</th>\n",
       "      <td>-0.493694</td>\n",
       "      <td>0.071395</td>\n",
       "    </tr>\n",
       "    <tr>\n",
       "      <th>artificial</th>\n",
       "      <td>-0.473540</td>\n",
       "      <td>0.138909</td>\n",
       "    </tr>\n",
       "    <tr>\n",
       "      <th>singularity</th>\n",
       "      <td>-0.429887</td>\n",
       "      <td>0.081146</td>\n",
       "    </tr>\n",
       "  </tbody>\n",
       "</table>\n",
       "</div>"
      ],
      "text/plain": [
       "             mean_cws   std_cws\n",
       "subreddit                      \n",
       "LocalLLaMA  -0.485437  0.069627\n",
       "OpenAI      -0.493694  0.071395\n",
       "artificial  -0.473540  0.138909\n",
       "singularity -0.429887  0.081146"
      ]
     },
     "execution_count": 189,
     "metadata": {},
     "output_type": "execute_result"
    }
   ],
   "source": [
    "global_stats = (df_summary[pd.to_datetime(df_summary.index).month == 5]\n",
    "                .groupby('subreddit').agg(mean_cws=('community_weighted_sentiment','mean'),\n",
    "                                          std_cws=('community_weighted_sentiment','std')\n",
    "                                          )\n",
    "               )\n",
    "global_stats"
   ]
  },
  {
   "cell_type": "code",
   "execution_count": 196,
   "id": "ba4f287b-24f3-4976-86af-a8377140d724",
   "metadata": {
    "execution": {
     "iopub.execute_input": "2025-06-24T21:59:59.880538Z",
     "iopub.status.busy": "2025-06-24T21:59:59.877527Z",
     "iopub.status.idle": "2025-06-24T21:59:59.885556Z",
     "shell.execute_reply": "2025-06-24T21:59:59.885556Z",
     "shell.execute_reply.started": "2025-06-24T21:59:59.880538Z"
    }
   },
   "outputs": [],
   "source": [
    "df_summary[['mean_cws','std_cws']] = global_stats.loc[df_summary.subreddit,['mean_cws','std_cws']].values\n",
    "df_history = df_summary.copy().reset_index()\n",
    "df_history['z_score'] = (df_history.community_weighted_sentiment - df_history.mean_cws) / df_history.std_cws"
   ]
  },
  {
   "cell_type": "code",
   "execution_count": 197,
   "id": "2d2bc20a-0a08-4deb-9206-f9e026c0f3d2",
   "metadata": {
    "execution": {
     "iopub.execute_input": "2025-06-24T22:00:00.675672Z",
     "iopub.status.busy": "2025-06-24T22:00:00.672608Z",
     "iopub.status.idle": "2025-06-24T22:00:00.690998Z",
     "shell.execute_reply": "2025-06-24T22:00:00.690998Z",
     "shell.execute_reply.started": "2025-06-24T22:00:00.675672Z"
    }
   },
   "outputs": [
    {
     "data": {
      "text/html": [
       "<style type=\"text/css\">\n",
       "#T_dd047_row28_col2, #T_dd047_row44_col3 {\n",
       "  background-color: red;\n",
       "}\n",
       "</style>\n",
       "<table id=\"T_dd047\">\n",
       "  <thead>\n",
       "    <tr>\n",
       "      <th class=\"index_name level0\" >subreddit</th>\n",
       "      <th id=\"T_dd047_level0_col0\" class=\"col_heading level0 col0\" >LocalLLaMA</th>\n",
       "      <th id=\"T_dd047_level0_col1\" class=\"col_heading level0 col1\" >OpenAI</th>\n",
       "      <th id=\"T_dd047_level0_col2\" class=\"col_heading level0 col2\" >artificial</th>\n",
       "      <th id=\"T_dd047_level0_col3\" class=\"col_heading level0 col3\" >singularity</th>\n",
       "    </tr>\n",
       "    <tr>\n",
       "      <th class=\"index_name level0\" >date</th>\n",
       "      <th class=\"blank col0\" >&nbsp;</th>\n",
       "      <th class=\"blank col1\" >&nbsp;</th>\n",
       "      <th class=\"blank col2\" >&nbsp;</th>\n",
       "      <th class=\"blank col3\" >&nbsp;</th>\n",
       "    </tr>\n",
       "  </thead>\n",
       "  <tbody>\n",
       "    <tr>\n",
       "      <th id=\"T_dd047_level0_row0\" class=\"row_heading level0 row0\" >2025-05-01</th>\n",
       "      <td id=\"T_dd047_row0_col0\" class=\"data row0 col0\" >0.108533</td>\n",
       "      <td id=\"T_dd047_row0_col1\" class=\"data row0 col1\" >-0.326294</td>\n",
       "      <td id=\"T_dd047_row0_col2\" class=\"data row0 col2\" >-0.237290</td>\n",
       "      <td id=\"T_dd047_row0_col3\" class=\"data row0 col3\" >-0.071433</td>\n",
       "    </tr>\n",
       "    <tr>\n",
       "      <th id=\"T_dd047_level0_row1\" class=\"row_heading level0 row1\" >2025-05-02</th>\n",
       "      <td id=\"T_dd047_row1_col0\" class=\"data row1 col0\" >0.728985</td>\n",
       "      <td id=\"T_dd047_row1_col1\" class=\"data row1 col1\" >0.081725</td>\n",
       "      <td id=\"T_dd047_row1_col2\" class=\"data row1 col2\" >-0.220718</td>\n",
       "      <td id=\"T_dd047_row1_col3\" class=\"data row1 col3\" >0.182259</td>\n",
       "    </tr>\n",
       "    <tr>\n",
       "      <th id=\"T_dd047_level0_row2\" class=\"row_heading level0 row2\" >2025-05-03</th>\n",
       "      <td id=\"T_dd047_row2_col0\" class=\"data row2 col0\" >-0.584901</td>\n",
       "      <td id=\"T_dd047_row2_col1\" class=\"data row2 col1\" >0.547064</td>\n",
       "      <td id=\"T_dd047_row2_col2\" class=\"data row2 col2\" >0.779239</td>\n",
       "      <td id=\"T_dd047_row2_col3\" class=\"data row2 col3\" >0.443977</td>\n",
       "    </tr>\n",
       "    <tr>\n",
       "      <th id=\"T_dd047_level0_row3\" class=\"row_heading level0 row3\" >2025-05-04</th>\n",
       "      <td id=\"T_dd047_row3_col0\" class=\"data row3 col0\" >2.589418</td>\n",
       "      <td id=\"T_dd047_row3_col1\" class=\"data row3 col1\" >0.675299</td>\n",
       "      <td id=\"T_dd047_row3_col2\" class=\"data row3 col2\" >-0.491293</td>\n",
       "      <td id=\"T_dd047_row3_col3\" class=\"data row3 col3\" >-2.161081</td>\n",
       "    </tr>\n",
       "    <tr>\n",
       "      <th id=\"T_dd047_level0_row4\" class=\"row_heading level0 row4\" >2025-05-05</th>\n",
       "      <td id=\"T_dd047_row4_col0\" class=\"data row4 col0\" >0.505834</td>\n",
       "      <td id=\"T_dd047_row4_col1\" class=\"data row4 col1\" >0.947750</td>\n",
       "      <td id=\"T_dd047_row4_col2\" class=\"data row4 col2\" >0.752050</td>\n",
       "      <td id=\"T_dd047_row4_col3\" class=\"data row4 col3\" >1.201308</td>\n",
       "    </tr>\n",
       "    <tr>\n",
       "      <th id=\"T_dd047_level0_row5\" class=\"row_heading level0 row5\" >2025-05-06</th>\n",
       "      <td id=\"T_dd047_row5_col0\" class=\"data row5 col0\" >-0.679105</td>\n",
       "      <td id=\"T_dd047_row5_col1\" class=\"data row5 col1\" >-0.867288</td>\n",
       "      <td id=\"T_dd047_row5_col2\" class=\"data row5 col2\" >0.108398</td>\n",
       "      <td id=\"T_dd047_row5_col3\" class=\"data row5 col3\" >0.487051</td>\n",
       "    </tr>\n",
       "    <tr>\n",
       "      <th id=\"T_dd047_level0_row6\" class=\"row_heading level0 row6\" >2025-05-07</th>\n",
       "      <td id=\"T_dd047_row6_col0\" class=\"data row6 col0\" >0.080169</td>\n",
       "      <td id=\"T_dd047_row6_col1\" class=\"data row6 col1\" >0.488811</td>\n",
       "      <td id=\"T_dd047_row6_col2\" class=\"data row6 col2\" >-0.327867</td>\n",
       "      <td id=\"T_dd047_row6_col3\" class=\"data row6 col3\" >0.892507</td>\n",
       "    </tr>\n",
       "    <tr>\n",
       "      <th id=\"T_dd047_level0_row7\" class=\"row_heading level0 row7\" >2025-05-08</th>\n",
       "      <td id=\"T_dd047_row7_col0\" class=\"data row7 col0\" >0.344177</td>\n",
       "      <td id=\"T_dd047_row7_col1\" class=\"data row7 col1\" >0.144971</td>\n",
       "      <td id=\"T_dd047_row7_col2\" class=\"data row7 col2\" >-0.400844</td>\n",
       "      <td id=\"T_dd047_row7_col3\" class=\"data row7 col3\" >-1.018908</td>\n",
       "    </tr>\n",
       "    <tr>\n",
       "      <th id=\"T_dd047_level0_row8\" class=\"row_heading level0 row8\" >2025-05-09</th>\n",
       "      <td id=\"T_dd047_row8_col0\" class=\"data row8 col0\" >0.866881</td>\n",
       "      <td id=\"T_dd047_row8_col1\" class=\"data row8 col1\" >1.014110</td>\n",
       "      <td id=\"T_dd047_row8_col2\" class=\"data row8 col2\" >-0.551819</td>\n",
       "      <td id=\"T_dd047_row8_col3\" class=\"data row8 col3\" >-1.387403</td>\n",
       "    </tr>\n",
       "    <tr>\n",
       "      <th id=\"T_dd047_level0_row9\" class=\"row_heading level0 row9\" >2025-05-10</th>\n",
       "      <td id=\"T_dd047_row9_col0\" class=\"data row9 col0\" >0.998114</td>\n",
       "      <td id=\"T_dd047_row9_col1\" class=\"data row9 col1\" >-0.533001</td>\n",
       "      <td id=\"T_dd047_row9_col2\" class=\"data row9 col2\" >-0.073038</td>\n",
       "      <td id=\"T_dd047_row9_col3\" class=\"data row9 col3\" >-1.091921</td>\n",
       "    </tr>\n",
       "    <tr>\n",
       "      <th id=\"T_dd047_level0_row10\" class=\"row_heading level0 row10\" >2025-05-11</th>\n",
       "      <td id=\"T_dd047_row10_col0\" class=\"data row10 col0\" >-0.600219</td>\n",
       "      <td id=\"T_dd047_row10_col1\" class=\"data row10 col1\" >0.516398</td>\n",
       "      <td id=\"T_dd047_row10_col2\" class=\"data row10 col2\" >-0.553907</td>\n",
       "      <td id=\"T_dd047_row10_col3\" class=\"data row10 col3\" >1.515454</td>\n",
       "    </tr>\n",
       "    <tr>\n",
       "      <th id=\"T_dd047_level0_row11\" class=\"row_heading level0 row11\" >2025-05-12</th>\n",
       "      <td id=\"T_dd047_row11_col0\" class=\"data row11 col0\" >-1.216182</td>\n",
       "      <td id=\"T_dd047_row11_col1\" class=\"data row11 col1\" >-0.033883</td>\n",
       "      <td id=\"T_dd047_row11_col2\" class=\"data row11 col2\" >-0.423863</td>\n",
       "      <td id=\"T_dd047_row11_col3\" class=\"data row11 col3\" >-1.148153</td>\n",
       "    </tr>\n",
       "    <tr>\n",
       "      <th id=\"T_dd047_level0_row12\" class=\"row_heading level0 row12\" >2025-05-13</th>\n",
       "      <td id=\"T_dd047_row12_col0\" class=\"data row12 col0\" >0.247646</td>\n",
       "      <td id=\"T_dd047_row12_col1\" class=\"data row12 col1\" >-2.120170</td>\n",
       "      <td id=\"T_dd047_row12_col2\" class=\"data row12 col2\" >0.410438</td>\n",
       "      <td id=\"T_dd047_row12_col3\" class=\"data row12 col3\" >-0.007542</td>\n",
       "    </tr>\n",
       "    <tr>\n",
       "      <th id=\"T_dd047_level0_row13\" class=\"row_heading level0 row13\" >2025-05-14</th>\n",
       "      <td id=\"T_dd047_row13_col0\" class=\"data row13 col0\" >2.744581</td>\n",
       "      <td id=\"T_dd047_row13_col1\" class=\"data row13 col1\" >-1.054436</td>\n",
       "      <td id=\"T_dd047_row13_col2\" class=\"data row13 col2\" >-0.454956</td>\n",
       "      <td id=\"T_dd047_row13_col3\" class=\"data row13 col3\" >1.431027</td>\n",
       "    </tr>\n",
       "    <tr>\n",
       "      <th id=\"T_dd047_level0_row14\" class=\"row_heading level0 row14\" >2025-05-15</th>\n",
       "      <td id=\"T_dd047_row14_col0\" class=\"data row14 col0\" >-0.436973</td>\n",
       "      <td id=\"T_dd047_row14_col1\" class=\"data row14 col1\" >-0.209793</td>\n",
       "      <td id=\"T_dd047_row14_col2\" class=\"data row14 col2\" >-1.107901</td>\n",
       "      <td id=\"T_dd047_row14_col3\" class=\"data row14 col3\" >-0.626926</td>\n",
       "    </tr>\n",
       "    <tr>\n",
       "      <th id=\"T_dd047_level0_row15\" class=\"row_heading level0 row15\" >2025-05-16</th>\n",
       "      <td id=\"T_dd047_row15_col0\" class=\"data row15 col0\" >-0.488635</td>\n",
       "      <td id=\"T_dd047_row15_col1\" class=\"data row15 col1\" >-0.947210</td>\n",
       "      <td id=\"T_dd047_row15_col2\" class=\"data row15 col2\" >-0.754111</td>\n",
       "      <td id=\"T_dd047_row15_col3\" class=\"data row15 col3\" >-0.141756</td>\n",
       "    </tr>\n",
       "    <tr>\n",
       "      <th id=\"T_dd047_level0_row16\" class=\"row_heading level0 row16\" >2025-05-17</th>\n",
       "      <td id=\"T_dd047_row16_col0\" class=\"data row16 col0\" >-0.892587</td>\n",
       "      <td id=\"T_dd047_row16_col1\" class=\"data row16 col1\" >-0.274142</td>\n",
       "      <td id=\"T_dd047_row16_col2\" class=\"data row16 col2\" >-0.249486</td>\n",
       "      <td id=\"T_dd047_row16_col3\" class=\"data row16 col3\" >-1.256339</td>\n",
       "    </tr>\n",
       "    <tr>\n",
       "      <th id=\"T_dd047_level0_row17\" class=\"row_heading level0 row17\" >2025-05-18</th>\n",
       "      <td id=\"T_dd047_row17_col0\" class=\"data row17 col0\" >-0.035129</td>\n",
       "      <td id=\"T_dd047_row17_col1\" class=\"data row17 col1\" >0.431687</td>\n",
       "      <td id=\"T_dd047_row17_col2\" class=\"data row17 col2\" >-0.179333</td>\n",
       "      <td id=\"T_dd047_row17_col3\" class=\"data row17 col3\" >-1.584113</td>\n",
       "    </tr>\n",
       "    <tr>\n",
       "      <th id=\"T_dd047_level0_row18\" class=\"row_heading level0 row18\" >2025-05-19</th>\n",
       "      <td id=\"T_dd047_row18_col0\" class=\"data row18 col0\" >0.048008</td>\n",
       "      <td id=\"T_dd047_row18_col1\" class=\"data row18 col1\" >-2.572587</td>\n",
       "      <td id=\"T_dd047_row18_col2\" class=\"data row18 col2\" >-0.567740</td>\n",
       "      <td id=\"T_dd047_row18_col3\" class=\"data row18 col3\" >0.574945</td>\n",
       "    </tr>\n",
       "    <tr>\n",
       "      <th id=\"T_dd047_level0_row19\" class=\"row_heading level0 row19\" >2025-05-20</th>\n",
       "      <td id=\"T_dd047_row19_col0\" class=\"data row19 col0\" >0.278872</td>\n",
       "      <td id=\"T_dd047_row19_col1\" class=\"data row19 col1\" >1.125961</td>\n",
       "      <td id=\"T_dd047_row19_col2\" class=\"data row19 col2\" >0.343371</td>\n",
       "      <td id=\"T_dd047_row19_col3\" class=\"data row19 col3\" >1.083809</td>\n",
       "    </tr>\n",
       "    <tr>\n",
       "      <th id=\"T_dd047_level0_row20\" class=\"row_heading level0 row20\" >2025-05-21</th>\n",
       "      <td id=\"T_dd047_row20_col0\" class=\"data row20 col0\" >-0.465335</td>\n",
       "      <td id=\"T_dd047_row20_col1\" class=\"data row20 col1\" >-0.232416</td>\n",
       "      <td id=\"T_dd047_row20_col2\" class=\"data row20 col2\" >-1.113788</td>\n",
       "      <td id=\"T_dd047_row20_col3\" class=\"data row20 col3\" >1.166050</td>\n",
       "    </tr>\n",
       "    <tr>\n",
       "      <th id=\"T_dd047_level0_row21\" class=\"row_heading level0 row21\" >2025-05-22</th>\n",
       "      <td id=\"T_dd047_row21_col0\" class=\"data row21 col0\" >0.097036</td>\n",
       "      <td id=\"T_dd047_row21_col1\" class=\"data row21 col1\" >-0.445080</td>\n",
       "      <td id=\"T_dd047_row21_col2\" class=\"data row21 col2\" >-1.560167</td>\n",
       "      <td id=\"T_dd047_row21_col3\" class=\"data row21 col3\" >-1.219291</td>\n",
       "    </tr>\n",
       "    <tr>\n",
       "      <th id=\"T_dd047_level0_row22\" class=\"row_heading level0 row22\" >2025-05-23</th>\n",
       "      <td id=\"T_dd047_row22_col0\" class=\"data row22 col0\" >-1.182355</td>\n",
       "      <td id=\"T_dd047_row22_col1\" class=\"data row22 col1\" >0.024858</td>\n",
       "      <td id=\"T_dd047_row22_col2\" class=\"data row22 col2\" >1.080172</td>\n",
       "      <td id=\"T_dd047_row22_col3\" class=\"data row22 col3\" >0.616565</td>\n",
       "    </tr>\n",
       "    <tr>\n",
       "      <th id=\"T_dd047_level0_row23\" class=\"row_heading level0 row23\" >2025-05-24</th>\n",
       "      <td id=\"T_dd047_row23_col0\" class=\"data row23 col0\" >0.363446</td>\n",
       "      <td id=\"T_dd047_row23_col1\" class=\"data row23 col1\" >2.486987</td>\n",
       "      <td id=\"T_dd047_row23_col2\" class=\"data row23 col2\" >1.014332</td>\n",
       "      <td id=\"T_dd047_row23_col3\" class=\"data row23 col3\" >-0.182961</td>\n",
       "    </tr>\n",
       "    <tr>\n",
       "      <th id=\"T_dd047_level0_row24\" class=\"row_heading level0 row24\" >2025-05-25</th>\n",
       "      <td id=\"T_dd047_row24_col0\" class=\"data row24 col0\" >-0.753511</td>\n",
       "      <td id=\"T_dd047_row24_col1\" class=\"data row24 col1\" >1.592893</td>\n",
       "      <td id=\"T_dd047_row24_col2\" class=\"data row24 col2\" >0.671174</td>\n",
       "      <td id=\"T_dd047_row24_col3\" class=\"data row24 col3\" >0.409314</td>\n",
       "    </tr>\n",
       "    <tr>\n",
       "      <th id=\"T_dd047_level0_row25\" class=\"row_heading level0 row25\" >2025-05-26</th>\n",
       "      <td id=\"T_dd047_row25_col0\" class=\"data row25 col0\" >-0.019423</td>\n",
       "      <td id=\"T_dd047_row25_col1\" class=\"data row25 col1\" >-1.059621</td>\n",
       "      <td id=\"T_dd047_row25_col2\" class=\"data row25 col2\" >1.431861</td>\n",
       "      <td id=\"T_dd047_row25_col3\" class=\"data row25 col3\" >0.215536</td>\n",
       "    </tr>\n",
       "    <tr>\n",
       "      <th id=\"T_dd047_level0_row26\" class=\"row_heading level0 row26\" >2025-05-27</th>\n",
       "      <td id=\"T_dd047_row26_col0\" class=\"data row26 col0\" >-1.611847</td>\n",
       "      <td id=\"T_dd047_row26_col1\" class=\"data row26 col1\" >0.083969</td>\n",
       "      <td id=\"T_dd047_row26_col2\" class=\"data row26 col2\" >-1.511113</td>\n",
       "      <td id=\"T_dd047_row26_col3\" class=\"data row26 col3\" >1.798263</td>\n",
       "    </tr>\n",
       "    <tr>\n",
       "      <th id=\"T_dd047_level0_row27\" class=\"row_heading level0 row27\" >2025-05-28</th>\n",
       "      <td id=\"T_dd047_row27_col0\" class=\"data row27 col0\" >-0.146052</td>\n",
       "      <td id=\"T_dd047_row27_col1\" class=\"data row27 col1\" >0.226888</td>\n",
       "      <td id=\"T_dd047_row27_col2\" class=\"data row27 col2\" >-0.052449</td>\n",
       "      <td id=\"T_dd047_row27_col3\" class=\"data row27 col3\" >0.128626</td>\n",
       "    </tr>\n",
       "    <tr>\n",
       "      <th id=\"T_dd047_level0_row28\" class=\"row_heading level0 row28\" >2025-05-29</th>\n",
       "      <td id=\"T_dd047_row28_col0\" class=\"data row28 col0\" >0.581694</td>\n",
       "      <td id=\"T_dd047_row28_col1\" class=\"data row28 col1\" >-0.614289</td>\n",
       "      <td id=\"T_dd047_row28_col2\" class=\"data row28 col2\" >3.346702</td>\n",
       "      <td id=\"T_dd047_row28_col3\" class=\"data row28 col3\" >-0.002884</td>\n",
       "    </tr>\n",
       "    <tr>\n",
       "      <th id=\"T_dd047_level0_row29\" class=\"row_heading level0 row29\" >2025-05-30</th>\n",
       "      <td id=\"T_dd047_row29_col0\" class=\"data row29 col0\" >0.429497</td>\n",
       "      <td id=\"T_dd047_row29_col1\" class=\"data row29 col1\" >0.397523</td>\n",
       "      <td id=\"T_dd047_row29_col2\" class=\"data row29 col2\" >-0.657833</td>\n",
       "      <td id=\"T_dd047_row29_col3\" class=\"data row29 col3\" >0.015947</td>\n",
       "    </tr>\n",
       "    <tr>\n",
       "      <th id=\"T_dd047_level0_row30\" class=\"row_heading level0 row30\" >2025-05-31</th>\n",
       "      <td id=\"T_dd047_row30_col0\" class=\"data row30 col0\" >-1.900638</td>\n",
       "      <td id=\"T_dd047_row30_col1\" class=\"data row30 col1\" >0.503316</td>\n",
       "      <td id=\"T_dd047_row30_col2\" class=\"data row30 col2\" >1.551778</td>\n",
       "      <td id=\"T_dd047_row30_col3\" class=\"data row30 col3\" >-0.261925</td>\n",
       "    </tr>\n",
       "    <tr>\n",
       "      <th id=\"T_dd047_level0_row31\" class=\"row_heading level0 row31\" >2025-06-01</th>\n",
       "      <td id=\"T_dd047_row31_col0\" class=\"data row31 col0\" >0.532828</td>\n",
       "      <td id=\"T_dd047_row31_col1\" class=\"data row31 col1\" >1.289294</td>\n",
       "      <td id=\"T_dd047_row31_col2\" class=\"data row31 col2\" >1.876977</td>\n",
       "      <td id=\"T_dd047_row31_col3\" class=\"data row31 col3\" >-0.688700</td>\n",
       "    </tr>\n",
       "    <tr>\n",
       "      <th id=\"T_dd047_level0_row32\" class=\"row_heading level0 row32\" >2025-06-02</th>\n",
       "      <td id=\"T_dd047_row32_col0\" class=\"data row32 col0\" >0.232248</td>\n",
       "      <td id=\"T_dd047_row32_col1\" class=\"data row32 col1\" >-0.165925</td>\n",
       "      <td id=\"T_dd047_row32_col2\" class=\"data row32 col2\" >-1.098352</td>\n",
       "      <td id=\"T_dd047_row32_col3\" class=\"data row32 col3\" >-1.090313</td>\n",
       "    </tr>\n",
       "    <tr>\n",
       "      <th id=\"T_dd047_level0_row33\" class=\"row_heading level0 row33\" >2025-06-03</th>\n",
       "      <td id=\"T_dd047_row33_col0\" class=\"data row33 col0\" >1.922932</td>\n",
       "      <td id=\"T_dd047_row33_col1\" class=\"data row33 col1\" >-1.137965</td>\n",
       "      <td id=\"T_dd047_row33_col2\" class=\"data row33 col2\" >-1.088363</td>\n",
       "      <td id=\"T_dd047_row33_col3\" class=\"data row33 col3\" >-1.100269</td>\n",
       "    </tr>\n",
       "    <tr>\n",
       "      <th id=\"T_dd047_level0_row34\" class=\"row_heading level0 row34\" >2025-06-04</th>\n",
       "      <td id=\"T_dd047_row34_col0\" class=\"data row34 col0\" >-0.144756</td>\n",
       "      <td id=\"T_dd047_row34_col1\" class=\"data row34 col1\" >-0.843765</td>\n",
       "      <td id=\"T_dd047_row34_col2\" class=\"data row34 col2\" >-0.946424</td>\n",
       "      <td id=\"T_dd047_row34_col3\" class=\"data row34 col3\" >1.612607</td>\n",
       "    </tr>\n",
       "    <tr>\n",
       "      <th id=\"T_dd047_level0_row35\" class=\"row_heading level0 row35\" >2025-06-05</th>\n",
       "      <td id=\"T_dd047_row35_col0\" class=\"data row35 col0\" >0.083187</td>\n",
       "      <td id=\"T_dd047_row35_col1\" class=\"data row35 col1\" >0.830400</td>\n",
       "      <td id=\"T_dd047_row35_col2\" class=\"data row35 col2\" >-2.020017</td>\n",
       "      <td id=\"T_dd047_row35_col3\" class=\"data row35 col3\" >0.841401</td>\n",
       "    </tr>\n",
       "    <tr>\n",
       "      <th id=\"T_dd047_level0_row36\" class=\"row_heading level0 row36\" >2025-06-06</th>\n",
       "      <td id=\"T_dd047_row36_col0\" class=\"data row36 col0\" >1.761480</td>\n",
       "      <td id=\"T_dd047_row36_col1\" class=\"data row36 col1\" >-0.061533</td>\n",
       "      <td id=\"T_dd047_row36_col2\" class=\"data row36 col2\" >-0.525959</td>\n",
       "      <td id=\"T_dd047_row36_col3\" class=\"data row36 col3\" >1.053218</td>\n",
       "    </tr>\n",
       "    <tr>\n",
       "      <th id=\"T_dd047_level0_row37\" class=\"row_heading level0 row37\" >2025-06-07</th>\n",
       "      <td id=\"T_dd047_row37_col0\" class=\"data row37 col0\" >0.362370</td>\n",
       "      <td id=\"T_dd047_row37_col1\" class=\"data row37 col1\" >0.711673</td>\n",
       "      <td id=\"T_dd047_row37_col2\" class=\"data row37 col2\" >0.253683</td>\n",
       "      <td id=\"T_dd047_row37_col3\" class=\"data row37 col3\" >0.951126</td>\n",
       "    </tr>\n",
       "    <tr>\n",
       "      <th id=\"T_dd047_level0_row38\" class=\"row_heading level0 row38\" >2025-06-08</th>\n",
       "      <td id=\"T_dd047_row38_col0\" class=\"data row38 col0\" >-0.291809</td>\n",
       "      <td id=\"T_dd047_row38_col1\" class=\"data row38 col1\" >0.158834</td>\n",
       "      <td id=\"T_dd047_row38_col2\" class=\"data row38 col2\" >-1.471934</td>\n",
       "      <td id=\"T_dd047_row38_col3\" class=\"data row38 col3\" >-0.788063</td>\n",
       "    </tr>\n",
       "    <tr>\n",
       "      <th id=\"T_dd047_level0_row39\" class=\"row_heading level0 row39\" >2025-06-09</th>\n",
       "      <td id=\"T_dd047_row39_col0\" class=\"data row39 col0\" >0.650506</td>\n",
       "      <td id=\"T_dd047_row39_col1\" class=\"data row39 col1\" >0.995156</td>\n",
       "      <td id=\"T_dd047_row39_col2\" class=\"data row39 col2\" >0.062120</td>\n",
       "      <td id=\"T_dd047_row39_col3\" class=\"data row39 col3\" >-0.648674</td>\n",
       "    </tr>\n",
       "    <tr>\n",
       "      <th id=\"T_dd047_level0_row40\" class=\"row_heading level0 row40\" >2025-06-10</th>\n",
       "      <td id=\"T_dd047_row40_col0\" class=\"data row40 col0\" >2.487398</td>\n",
       "      <td id=\"T_dd047_row40_col1\" class=\"data row40 col1\" >-0.421202</td>\n",
       "      <td id=\"T_dd047_row40_col2\" class=\"data row40 col2\" >-0.418658</td>\n",
       "      <td id=\"T_dd047_row40_col3\" class=\"data row40 col3\" >0.164558</td>\n",
       "    </tr>\n",
       "    <tr>\n",
       "      <th id=\"T_dd047_level0_row41\" class=\"row_heading level0 row41\" >2025-06-11</th>\n",
       "      <td id=\"T_dd047_row41_col0\" class=\"data row41 col0\" >1.326513</td>\n",
       "      <td id=\"T_dd047_row41_col1\" class=\"data row41 col1\" >1.635695</td>\n",
       "      <td id=\"T_dd047_row41_col2\" class=\"data row41 col2\" >-0.693025</td>\n",
       "      <td id=\"T_dd047_row41_col3\" class=\"data row41 col3\" >0.874158</td>\n",
       "    </tr>\n",
       "    <tr>\n",
       "      <th id=\"T_dd047_level0_row42\" class=\"row_heading level0 row42\" >2025-06-12</th>\n",
       "      <td id=\"T_dd047_row42_col0\" class=\"data row42 col0\" >1.086915</td>\n",
       "      <td id=\"T_dd047_row42_col1\" class=\"data row42 col1\" >-1.187856</td>\n",
       "      <td id=\"T_dd047_row42_col2\" class=\"data row42 col2\" >0.213115</td>\n",
       "      <td id=\"T_dd047_row42_col3\" class=\"data row42 col3\" >1.497238</td>\n",
       "    </tr>\n",
       "    <tr>\n",
       "      <th id=\"T_dd047_level0_row43\" class=\"row_heading level0 row43\" >2025-06-13</th>\n",
       "      <td id=\"T_dd047_row43_col0\" class=\"data row43 col0\" >2.315385</td>\n",
       "      <td id=\"T_dd047_row43_col1\" class=\"data row43 col1\" >1.254158</td>\n",
       "      <td id=\"T_dd047_row43_col2\" class=\"data row43 col2\" >0.730157</td>\n",
       "      <td id=\"T_dd047_row43_col3\" class=\"data row43 col3\" >2.111864</td>\n",
       "    </tr>\n",
       "    <tr>\n",
       "      <th id=\"T_dd047_level0_row44\" class=\"row_heading level0 row44\" >2025-06-14</th>\n",
       "      <td id=\"T_dd047_row44_col0\" class=\"data row44 col0\" >-0.944600</td>\n",
       "      <td id=\"T_dd047_row44_col1\" class=\"data row44 col1\" >0.950747</td>\n",
       "      <td id=\"T_dd047_row44_col2\" class=\"data row44 col2\" >0.198753</td>\n",
       "      <td id=\"T_dd047_row44_col3\" class=\"data row44 col3\" >3.212883</td>\n",
       "    </tr>\n",
       "    <tr>\n",
       "      <th id=\"T_dd047_level0_row45\" class=\"row_heading level0 row45\" >2025-06-15</th>\n",
       "      <td id=\"T_dd047_row45_col0\" class=\"data row45 col0\" >0.990051</td>\n",
       "      <td id=\"T_dd047_row45_col1\" class=\"data row45 col1\" >-0.262975</td>\n",
       "      <td id=\"T_dd047_row45_col2\" class=\"data row45 col2\" >-0.757067</td>\n",
       "      <td id=\"T_dd047_row45_col3\" class=\"data row45 col3\" >0.466329</td>\n",
       "    </tr>\n",
       "    <tr>\n",
       "      <th id=\"T_dd047_level0_row46\" class=\"row_heading level0 row46\" >2025-06-16</th>\n",
       "      <td id=\"T_dd047_row46_col0\" class=\"data row46 col0\" >-0.884938</td>\n",
       "      <td id=\"T_dd047_row46_col1\" class=\"data row46 col1\" >-0.828498</td>\n",
       "      <td id=\"T_dd047_row46_col2\" class=\"data row46 col2\" >-0.799452</td>\n",
       "      <td id=\"T_dd047_row46_col3\" class=\"data row46 col3\" >0.500864</td>\n",
       "    </tr>\n",
       "    <tr>\n",
       "      <th id=\"T_dd047_level0_row47\" class=\"row_heading level0 row47\" >2025-06-17</th>\n",
       "      <td id=\"T_dd047_row47_col0\" class=\"data row47 col0\" >-0.145928</td>\n",
       "      <td id=\"T_dd047_row47_col1\" class=\"data row47 col1\" >0.745703</td>\n",
       "      <td id=\"T_dd047_row47_col2\" class=\"data row47 col2\" >0.903225</td>\n",
       "      <td id=\"T_dd047_row47_col3\" class=\"data row47 col3\" >-0.033837</td>\n",
       "    </tr>\n",
       "    <tr>\n",
       "      <th id=\"T_dd047_level0_row48\" class=\"row_heading level0 row48\" >2025-06-18</th>\n",
       "      <td id=\"T_dd047_row48_col0\" class=\"data row48 col0\" >0.876097</td>\n",
       "      <td id=\"T_dd047_row48_col1\" class=\"data row48 col1\" >-0.078857</td>\n",
       "      <td id=\"T_dd047_row48_col2\" class=\"data row48 col2\" >-0.842406</td>\n",
       "      <td id=\"T_dd047_row48_col3\" class=\"data row48 col3\" >-0.004147</td>\n",
       "    </tr>\n",
       "    <tr>\n",
       "      <th id=\"T_dd047_level0_row49\" class=\"row_heading level0 row49\" >2025-06-19</th>\n",
       "      <td id=\"T_dd047_row49_col0\" class=\"data row49 col0\" >-0.299047</td>\n",
       "      <td id=\"T_dd047_row49_col1\" class=\"data row49 col1\" >1.717280</td>\n",
       "      <td id=\"T_dd047_row49_col2\" class=\"data row49 col2\" >-1.091362</td>\n",
       "      <td id=\"T_dd047_row49_col3\" class=\"data row49 col3\" >0.039526</td>\n",
       "    </tr>\n",
       "    <tr>\n",
       "      <th id=\"T_dd047_level0_row50\" class=\"row_heading level0 row50\" >2025-06-20</th>\n",
       "      <td id=\"T_dd047_row50_col0\" class=\"data row50 col0\" >2.044398</td>\n",
       "      <td id=\"T_dd047_row50_col1\" class=\"data row50 col1\" >-2.443435</td>\n",
       "      <td id=\"T_dd047_row50_col2\" class=\"data row50 col2\" >-0.977243</td>\n",
       "      <td id=\"T_dd047_row50_col3\" class=\"data row50 col3\" >-0.052705</td>\n",
       "    </tr>\n",
       "    <tr>\n",
       "      <th id=\"T_dd047_level0_row51\" class=\"row_heading level0 row51\" >2025-06-21</th>\n",
       "      <td id=\"T_dd047_row51_col0\" class=\"data row51 col0\" >-0.897563</td>\n",
       "      <td id=\"T_dd047_row51_col1\" class=\"data row51 col1\" >-1.718745</td>\n",
       "      <td id=\"T_dd047_row51_col2\" class=\"data row51 col2\" >-1.172944</td>\n",
       "      <td id=\"T_dd047_row51_col3\" class=\"data row51 col3\" >0.178352</td>\n",
       "    </tr>\n",
       "    <tr>\n",
       "      <th id=\"T_dd047_level0_row52\" class=\"row_heading level0 row52\" >2025-06-22</th>\n",
       "      <td id=\"T_dd047_row52_col0\" class=\"data row52 col0\" >1.303621</td>\n",
       "      <td id=\"T_dd047_row52_col1\" class=\"data row52 col1\" >1.285091</td>\n",
       "      <td id=\"T_dd047_row52_col2\" class=\"data row52 col2\" >0.466241</td>\n",
       "      <td id=\"T_dd047_row52_col3\" class=\"data row52 col3\" >2.211939</td>\n",
       "    </tr>\n",
       "    <tr>\n",
       "      <th id=\"T_dd047_level0_row53\" class=\"row_heading level0 row53\" >2025-06-23</th>\n",
       "      <td id=\"T_dd047_row53_col0\" class=\"data row53 col0\" >nan</td>\n",
       "      <td id=\"T_dd047_row53_col1\" class=\"data row53 col1\" >0.407550</td>\n",
       "      <td id=\"T_dd047_row53_col2\" class=\"data row53 col2\" >0.145478</td>\n",
       "      <td id=\"T_dd047_row53_col3\" class=\"data row53 col3\" >-1.242271</td>\n",
       "    </tr>\n",
       "  </tbody>\n",
       "</table>\n"
      ],
      "text/plain": [
       "<pandas.io.formats.style.Styler at 0x1e8c1f5dee0>"
      ]
     },
     "execution_count": 197,
     "metadata": {},
     "output_type": "execute_result"
    }
   ],
   "source": [
    "df_zscores = df_history.pipe(pd.pivot_table, index='date',columns='subreddit',values='z_score',aggfunc=\"max\")\n",
    "\n",
    "def highlight_abs_gt_3(val):\n",
    "    return 'background-color: red' if abs(val) > 3 else ''\n",
    "\n",
    "styled = df_zscores.style.map(highlight_abs_gt_3)\n",
    "\n",
    "styled"
   ]
  },
  {
   "cell_type": "markdown",
   "id": "fb2921e5-caf9-4060-8979-70270102efa4",
   "metadata": {},
   "source": [
    "With the more stable mean and std calculation, seems like we've found an actual spike"
   ]
  },
  {
   "cell_type": "code",
   "execution_count": 200,
   "id": "e05b3b07-865e-4546-a5ce-0ac9128db685",
   "metadata": {
    "execution": {
     "iopub.execute_input": "2025-06-24T22:00:13.593513Z",
     "iopub.status.busy": "2025-06-24T22:00:13.593513Z",
     "iopub.status.idle": "2025-06-24T22:00:13.605739Z",
     "shell.execute_reply": "2025-06-24T22:00:13.604694Z",
     "shell.execute_reply.started": "2025-06-24T22:00:13.593513Z"
    }
   },
   "outputs": [
    {
     "data": {
      "text/html": [
       "<div>\n",
       "<style scoped>\n",
       "    .dataframe tbody tr th:only-of-type {\n",
       "        vertical-align: middle;\n",
       "    }\n",
       "\n",
       "    .dataframe tbody tr th {\n",
       "        vertical-align: top;\n",
       "    }\n",
       "\n",
       "    .dataframe thead th {\n",
       "        text-align: right;\n",
       "    }\n",
       "</style>\n",
       "<table border=\"1\" class=\"dataframe\">\n",
       "  <thead>\n",
       "    <tr style=\"text-align: right;\">\n",
       "      <th></th>\n",
       "      <th>date</th>\n",
       "      <th>subreddit</th>\n",
       "      <th>community_weighted_sentiment</th>\n",
       "      <th>mean_cws</th>\n",
       "      <th>std_cws</th>\n",
       "      <th>z_score</th>\n",
       "    </tr>\n",
       "  </thead>\n",
       "  <tbody>\n",
       "    <tr>\n",
       "      <th>54</th>\n",
       "      <td>2025-05-14</td>\n",
       "      <td>artificial</td>\n",
       "      <td>-0.536738</td>\n",
       "      <td>-0.47354</td>\n",
       "      <td>0.138909</td>\n",
       "      <td>-0.454956</td>\n",
       "    </tr>\n",
       "    <tr>\n",
       "      <th>58</th>\n",
       "      <td>2025-05-15</td>\n",
       "      <td>artificial</td>\n",
       "      <td>-0.627437</td>\n",
       "      <td>-0.47354</td>\n",
       "      <td>0.138909</td>\n",
       "      <td>-1.107901</td>\n",
       "    </tr>\n",
       "    <tr>\n",
       "      <th>62</th>\n",
       "      <td>2025-05-16</td>\n",
       "      <td>artificial</td>\n",
       "      <td>-0.578293</td>\n",
       "      <td>-0.47354</td>\n",
       "      <td>0.138909</td>\n",
       "      <td>-0.754111</td>\n",
       "    </tr>\n",
       "    <tr>\n",
       "      <th>66</th>\n",
       "      <td>2025-05-17</td>\n",
       "      <td>artificial</td>\n",
       "      <td>-0.508196</td>\n",
       "      <td>-0.47354</td>\n",
       "      <td>0.138909</td>\n",
       "      <td>-0.249486</td>\n",
       "    </tr>\n",
       "    <tr>\n",
       "      <th>70</th>\n",
       "      <td>2025-05-18</td>\n",
       "      <td>artificial</td>\n",
       "      <td>-0.498451</td>\n",
       "      <td>-0.47354</td>\n",
       "      <td>0.138909</td>\n",
       "      <td>-0.179333</td>\n",
       "    </tr>\n",
       "    <tr>\n",
       "      <th>74</th>\n",
       "      <td>2025-05-19</td>\n",
       "      <td>artificial</td>\n",
       "      <td>-0.552404</td>\n",
       "      <td>-0.47354</td>\n",
       "      <td>0.138909</td>\n",
       "      <td>-0.567740</td>\n",
       "    </tr>\n",
       "    <tr>\n",
       "      <th>78</th>\n",
       "      <td>2025-05-20</td>\n",
       "      <td>artificial</td>\n",
       "      <td>-0.425843</td>\n",
       "      <td>-0.47354</td>\n",
       "      <td>0.138909</td>\n",
       "      <td>0.343371</td>\n",
       "    </tr>\n",
       "    <tr>\n",
       "      <th>82</th>\n",
       "      <td>2025-05-21</td>\n",
       "      <td>artificial</td>\n",
       "      <td>-0.628255</td>\n",
       "      <td>-0.47354</td>\n",
       "      <td>0.138909</td>\n",
       "      <td>-1.113788</td>\n",
       "    </tr>\n",
       "    <tr>\n",
       "      <th>86</th>\n",
       "      <td>2025-05-22</td>\n",
       "      <td>artificial</td>\n",
       "      <td>-0.690261</td>\n",
       "      <td>-0.47354</td>\n",
       "      <td>0.138909</td>\n",
       "      <td>-1.560167</td>\n",
       "    </tr>\n",
       "    <tr>\n",
       "      <th>90</th>\n",
       "      <td>2025-05-23</td>\n",
       "      <td>artificial</td>\n",
       "      <td>-0.323495</td>\n",
       "      <td>-0.47354</td>\n",
       "      <td>0.138909</td>\n",
       "      <td>1.080172</td>\n",
       "    </tr>\n",
       "    <tr>\n",
       "      <th>94</th>\n",
       "      <td>2025-05-24</td>\n",
       "      <td>artificial</td>\n",
       "      <td>-0.332641</td>\n",
       "      <td>-0.47354</td>\n",
       "      <td>0.138909</td>\n",
       "      <td>1.014332</td>\n",
       "    </tr>\n",
       "    <tr>\n",
       "      <th>98</th>\n",
       "      <td>2025-05-25</td>\n",
       "      <td>artificial</td>\n",
       "      <td>-0.380308</td>\n",
       "      <td>-0.47354</td>\n",
       "      <td>0.138909</td>\n",
       "      <td>0.671174</td>\n",
       "    </tr>\n",
       "    <tr>\n",
       "      <th>102</th>\n",
       "      <td>2025-05-26</td>\n",
       "      <td>artificial</td>\n",
       "      <td>-0.274642</td>\n",
       "      <td>-0.47354</td>\n",
       "      <td>0.138909</td>\n",
       "      <td>1.431861</td>\n",
       "    </tr>\n",
       "    <tr>\n",
       "      <th>106</th>\n",
       "      <td>2025-05-27</td>\n",
       "      <td>artificial</td>\n",
       "      <td>-0.683447</td>\n",
       "      <td>-0.47354</td>\n",
       "      <td>0.138909</td>\n",
       "      <td>-1.511113</td>\n",
       "    </tr>\n",
       "    <tr>\n",
       "      <th>110</th>\n",
       "      <td>2025-05-28</td>\n",
       "      <td>artificial</td>\n",
       "      <td>-0.480826</td>\n",
       "      <td>-0.47354</td>\n",
       "      <td>0.138909</td>\n",
       "      <td>-0.052449</td>\n",
       "    </tr>\n",
       "    <tr>\n",
       "      <th>114</th>\n",
       "      <td>2025-05-29</td>\n",
       "      <td>artificial</td>\n",
       "      <td>-0.008654</td>\n",
       "      <td>-0.47354</td>\n",
       "      <td>0.138909</td>\n",
       "      <td>3.346702</td>\n",
       "    </tr>\n",
       "  </tbody>\n",
       "</table>\n",
       "</div>"
      ],
      "text/plain": [
       "           date   subreddit  community_weighted_sentiment  mean_cws   std_cws  \\\n",
       "54   2025-05-14  artificial                     -0.536738  -0.47354  0.138909   \n",
       "58   2025-05-15  artificial                     -0.627437  -0.47354  0.138909   \n",
       "62   2025-05-16  artificial                     -0.578293  -0.47354  0.138909   \n",
       "66   2025-05-17  artificial                     -0.508196  -0.47354  0.138909   \n",
       "70   2025-05-18  artificial                     -0.498451  -0.47354  0.138909   \n",
       "74   2025-05-19  artificial                     -0.552404  -0.47354  0.138909   \n",
       "78   2025-05-20  artificial                     -0.425843  -0.47354  0.138909   \n",
       "82   2025-05-21  artificial                     -0.628255  -0.47354  0.138909   \n",
       "86   2025-05-22  artificial                     -0.690261  -0.47354  0.138909   \n",
       "90   2025-05-23  artificial                     -0.323495  -0.47354  0.138909   \n",
       "94   2025-05-24  artificial                     -0.332641  -0.47354  0.138909   \n",
       "98   2025-05-25  artificial                     -0.380308  -0.47354  0.138909   \n",
       "102  2025-05-26  artificial                     -0.274642  -0.47354  0.138909   \n",
       "106  2025-05-27  artificial                     -0.683447  -0.47354  0.138909   \n",
       "110  2025-05-28  artificial                     -0.480826  -0.47354  0.138909   \n",
       "114  2025-05-29  artificial                     -0.008654  -0.47354  0.138909   \n",
       "\n",
       "      z_score  \n",
       "54  -0.454956  \n",
       "58  -1.107901  \n",
       "62  -0.754111  \n",
       "66  -0.249486  \n",
       "70  -0.179333  \n",
       "74  -0.567740  \n",
       "78   0.343371  \n",
       "82  -1.113788  \n",
       "86  -1.560167  \n",
       "90   1.080172  \n",
       "94   1.014332  \n",
       "98   0.671174  \n",
       "102  1.431861  \n",
       "106 -1.511113  \n",
       "110 -0.052449  \n",
       "114  3.346702  "
      ]
     },
     "execution_count": 200,
     "metadata": {},
     "output_type": "execute_result"
    }
   ],
   "source": [
    "date = \"2025-05-29\"\n",
    "subreddit = \"artificial\"\n",
    "\n",
    "rightwindow = datetime.datetime.strptime(date,\"%Y-%m-%d\").date()\n",
    "leftwindow = rightwindow - datetime.timedelta(days=15)\n",
    "\n",
    "\n",
    "fil = lambda x: x.date.between(leftwindow,rightwindow) & (x.subreddit == subreddit)\n",
    "\n",
    "df_history[fil]"
   ]
  },
  {
   "cell_type": "code",
   "execution_count": 201,
   "id": "eea2124a-27da-4505-b35e-b17d00ca6096",
   "metadata": {
    "execution": {
     "iopub.execute_input": "2025-06-24T22:00:15.721695Z",
     "iopub.status.busy": "2025-06-24T22:00:15.721695Z",
     "iopub.status.idle": "2025-06-24T22:00:15.865395Z",
     "shell.execute_reply": "2025-06-24T22:00:15.865395Z",
     "shell.execute_reply.started": "2025-06-24T22:00:15.721695Z"
    }
   },
   "outputs": [
    {
     "data": {
      "text/plain": [
       "<Axes: xlabel='date', ylabel='sentiment score'>"
      ]
     },
     "execution_count": 201,
     "metadata": {},
     "output_type": "execute_result"
    },
    {
     "data": {
      "image/png": "[encoded data removed]",
      "text/plain": [
       "<Figure size 640x480 with 1 Axes>"
      ]
     },
     "metadata": {},
     "output_type": "display_data"
    }
   ],
   "source": [
    "df_history[fil].pipe(pd.pivot_table,index='date',values='community_weighted_sentiment',columns=['subreddit'],aggfunc='max').plot(rot=45,ylabel='sentiment score')"
   ]
  }
 ],
 "metadata": {
  "kernelspec": {
   "display_name": "Python [conda env:reddit_streamlit]",
   "language": "python",
   "name": "conda-env-reddit_streamlit-py"
  },
  "language_info": {
   "codemirror_mode": {
    "name": "ipython",
    "version": 3
   },
   "file_extension": ".py",
   "mimetype": "text/x-python",
   "name": "python",
   "nbconvert_exporter": "python",
   "pygments_lexer": "ipython3",
   "version": "3.12.10"
  }
 },
 "nbformat": 4,
 "nbformat_minor": 5
}
